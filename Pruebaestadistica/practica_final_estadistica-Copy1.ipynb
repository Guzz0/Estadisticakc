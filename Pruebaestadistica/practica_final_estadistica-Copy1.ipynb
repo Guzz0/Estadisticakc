{
 "cells": [
  {
   "cell_type": "code",
   "execution_count": 1227,
   "metadata": {},
   "outputs": [],
   "source": [
    "library(ggplot2)\n",
    "options(repr.plot.height=4,repr.plot.width=6)\n",
    "library(reshape2)\n",
    "library(dplyr)\n",
    "library(tidyr)\n",
    "library(tidyverse)"
   ]
  },
  {
   "cell_type": "markdown",
   "metadata": {},
   "source": [
    "Cargar los datos en un dataframe llamado: airbnb"
   ]
  },
  {
   "cell_type": "code",
   "execution_count": 1228,
   "metadata": {},
   "outputs": [],
   "source": [
    "airbnb<-read.csv('data//airbnb.csv',sep = ',', stringsAsFactors = T)"
   ]
  },
  {
   "cell_type": "markdown",
   "metadata": {},
   "source": [
    "Mostrar las primeras 6 filas del dataframe"
   ]
  },
  {
   "cell_type": "code",
   "execution_count": 1229,
   "metadata": {
    "scrolled": true
   },
   "outputs": [
    {
     "data": {
      "text/html": [
       "<table class=\"dataframe\">\n",
       "<caption>A data.frame: 6 × 13</caption>\n",
       "<thead>\n",
       "\t<tr><th></th><th scope=col>Zipcode</th><th scope=col>Neighbourhood.Cleansed</th><th scope=col>Property.Type</th><th scope=col>Room.Type</th><th scope=col>Accommodates</th><th scope=col>Bathrooms</th><th scope=col>Bedrooms</th><th scope=col>Beds</th><th scope=col>Bed.Type</th><th scope=col>Amenities</th><th scope=col>Square.Feet</th><th scope=col>Price</th><th scope=col>Review.Scores.Rating</th></tr>\n",
       "\t<tr><th></th><th scope=col>&lt;fct&gt;</th><th scope=col>&lt;fct&gt;</th><th scope=col>&lt;fct&gt;</th><th scope=col>&lt;fct&gt;</th><th scope=col>&lt;int&gt;</th><th scope=col>&lt;dbl&gt;</th><th scope=col>&lt;int&gt;</th><th scope=col>&lt;int&gt;</th><th scope=col>&lt;fct&gt;</th><th scope=col>&lt;fct&gt;</th><th scope=col>&lt;int&gt;</th><th scope=col>&lt;int&gt;</th><th scope=col>&lt;int&gt;</th></tr>\n",
       "</thead>\n",
       "<tbody>\n",
       "\t<tr><th scope=row>1</th><td>28004</td><td>Universidad</td><td>Apartment</td><td>Private room   </td><td>2</td><td>2</td><td>1</td><td>1</td><td>Real Bed</td><td>TV,Wireless Internet,Kitchen,Pets allowed,Pets live on this property,Buzzer/wireless intercom,Heating,Suitable for events,Washer,First aid kit,Essentials,Lock on bedroom door,Iron                                                                                                                                                                             </td><td> NA</td><td>35</td><td> NA</td></tr>\n",
       "\t<tr><th scope=row>2</th><td>28004</td><td>Universidad</td><td>Apartment</td><td>Entire home/apt</td><td>6</td><td>1</td><td>3</td><td>5</td><td>Real Bed</td><td>TV,Internet,Wireless Internet,Air conditioning,Kitchen,Indoor fireplace,Heating,Family/kid friendly,Washer,Dryer,Smoke detector,Carbon monoxide detector,Essentials,Shampoo                                                                                                                                                                                     </td><td> NA</td><td>92</td><td> 96</td></tr>\n",
       "\t<tr><th scope=row>3</th><td>28004</td><td>Universidad</td><td>Apartment</td><td>Entire home/apt</td><td>3</td><td>1</td><td>2</td><td>2</td><td>Real Bed</td><td>TV,Internet,Wireless Internet,Air conditioning,Kitchen,Doorman,Heating,Family/kid friendly,Washer,Essentials,Shampoo,Hangers,Hair dryer,Iron,Laptop friendly workspace                                                                                                                                                                                          </td><td> NA</td><td>55</td><td> 91</td></tr>\n",
       "\t<tr><th scope=row>4</th><td>28004</td><td>Universidad</td><td>Loft     </td><td>Entire home/apt</td><td>3</td><td>2</td><td>1</td><td>1</td><td>Real Bed</td><td>TV,Internet,Wireless Internet,Air conditioning,Kitchen,Pets allowed,Breakfast,Elevator in building,Indoor fireplace,Buzzer/wireless intercom,Heating,Washer,Essentials,Shampoo,Hangers,Hair dryer,Iron,Laptop friendly workspace,translation missing: en.hosting_amenity_49,translation missing: en.hosting_amenity_50                                          </td><td> NA</td><td>60</td><td>100</td></tr>\n",
       "\t<tr><th scope=row>5</th><td>28015</td><td>Universidad</td><td>Apartment</td><td>Entire home/apt</td><td>5</td><td>1</td><td>1</td><td>1</td><td>Real Bed</td><td>TV,Wireless Internet,Air conditioning,Kitchen,Smoking allowed,Pets allowed,Elevator in building,Heating,Family/kid friendly,Washer,Essentials,Iron                                                                                                                                                                                                              </td><td>538</td><td>75</td><td> 90</td></tr>\n",
       "\t<tr><th scope=row>6</th><td>28004</td><td>Universidad</td><td>Apartment</td><td>Entire home/apt</td><td>2</td><td>1</td><td>0</td><td>1</td><td>Real Bed</td><td>TV,Cable TV,Internet,Wireless Internet,Air conditioning,Wheelchair accessible,Kitchen,Doorman,Elevator in building,Buzzer/wireless intercom,Heating,Washer,Smoke detector,Carbon monoxide detector,First aid kit,Safety card,Fire extinguisher,Essentials,Shampoo,24-hour check-in,Hangers,Hair dryer,Iron,Laptop friendly workspace,Self Check-In,Doorman Entry</td><td> NA</td><td>55</td><td> 95</td></tr>\n",
       "</tbody>\n",
       "</table>\n"
      ],
      "text/latex": [
       "A data.frame: 6 × 13\n",
       "\\begin{tabular}{r|lllllllllllll}\n",
       "  & Zipcode & Neighbourhood.Cleansed & Property.Type & Room.Type & Accommodates & Bathrooms & Bedrooms & Beds & Bed.Type & Amenities & Square.Feet & Price & Review.Scores.Rating\\\\\n",
       "  & <fct> & <fct> & <fct> & <fct> & <int> & <dbl> & <int> & <int> & <fct> & <fct> & <int> & <int> & <int>\\\\\n",
       "\\hline\n",
       "\t1 & 28004 & Universidad & Apartment & Private room    & 2 & 2 & 1 & 1 & Real Bed & TV,Wireless Internet,Kitchen,Pets allowed,Pets live on this property,Buzzer/wireless intercom,Heating,Suitable for events,Washer,First aid kit,Essentials,Lock on bedroom door,Iron                                                                                                                                                                              &  NA & 35 &  NA\\\\\n",
       "\t2 & 28004 & Universidad & Apartment & Entire home/apt & 6 & 1 & 3 & 5 & Real Bed & TV,Internet,Wireless Internet,Air conditioning,Kitchen,Indoor fireplace,Heating,Family/kid friendly,Washer,Dryer,Smoke detector,Carbon monoxide detector,Essentials,Shampoo                                                                                                                                                                                      &  NA & 92 &  96\\\\\n",
       "\t3 & 28004 & Universidad & Apartment & Entire home/apt & 3 & 1 & 2 & 2 & Real Bed & TV,Internet,Wireless Internet,Air conditioning,Kitchen,Doorman,Heating,Family/kid friendly,Washer,Essentials,Shampoo,Hangers,Hair dryer,Iron,Laptop friendly workspace                                                                                                                                                                                           &  NA & 55 &  91\\\\\n",
       "\t4 & 28004 & Universidad & Loft      & Entire home/apt & 3 & 2 & 1 & 1 & Real Bed & TV,Internet,Wireless Internet,Air conditioning,Kitchen,Pets allowed,Breakfast,Elevator in building,Indoor fireplace,Buzzer/wireless intercom,Heating,Washer,Essentials,Shampoo,Hangers,Hair dryer,Iron,Laptop friendly workspace,translation missing: en.hosting\\_amenity\\_49,translation missing: en.hosting\\_amenity\\_50                                           &  NA & 60 & 100\\\\\n",
       "\t5 & 28015 & Universidad & Apartment & Entire home/apt & 5 & 1 & 1 & 1 & Real Bed & TV,Wireless Internet,Air conditioning,Kitchen,Smoking allowed,Pets allowed,Elevator in building,Heating,Family/kid friendly,Washer,Essentials,Iron                                                                                                                                                                                                               & 538 & 75 &  90\\\\\n",
       "\t6 & 28004 & Universidad & Apartment & Entire home/apt & 2 & 1 & 0 & 1 & Real Bed & TV,Cable TV,Internet,Wireless Internet,Air conditioning,Wheelchair accessible,Kitchen,Doorman,Elevator in building,Buzzer/wireless intercom,Heating,Washer,Smoke detector,Carbon monoxide detector,First aid kit,Safety card,Fire extinguisher,Essentials,Shampoo,24-hour check-in,Hangers,Hair dryer,Iron,Laptop friendly workspace,Self Check-In,Doorman Entry &  NA & 55 &  95\\\\\n",
       "\\end{tabular}\n"
      ],
      "text/markdown": [
       "\n",
       "A data.frame: 6 × 13\n",
       "\n",
       "| <!--/--> | Zipcode &lt;fct&gt; | Neighbourhood.Cleansed &lt;fct&gt; | Property.Type &lt;fct&gt; | Room.Type &lt;fct&gt; | Accommodates &lt;int&gt; | Bathrooms &lt;dbl&gt; | Bedrooms &lt;int&gt; | Beds &lt;int&gt; | Bed.Type &lt;fct&gt; | Amenities &lt;fct&gt; | Square.Feet &lt;int&gt; | Price &lt;int&gt; | Review.Scores.Rating &lt;int&gt; |\n",
       "|---|---|---|---|---|---|---|---|---|---|---|---|---|---|\n",
       "| 1 | 28004 | Universidad | Apartment | Private room    | 2 | 2 | 1 | 1 | Real Bed | TV,Wireless Internet,Kitchen,Pets allowed,Pets live on this property,Buzzer/wireless intercom,Heating,Suitable for events,Washer,First aid kit,Essentials,Lock on bedroom door,Iron                                                                                                                                                                              |  NA | 35 |  NA |\n",
       "| 2 | 28004 | Universidad | Apartment | Entire home/apt | 6 | 1 | 3 | 5 | Real Bed | TV,Internet,Wireless Internet,Air conditioning,Kitchen,Indoor fireplace,Heating,Family/kid friendly,Washer,Dryer,Smoke detector,Carbon monoxide detector,Essentials,Shampoo                                                                                                                                                                                      |  NA | 92 |  96 |\n",
       "| 3 | 28004 | Universidad | Apartment | Entire home/apt | 3 | 1 | 2 | 2 | Real Bed | TV,Internet,Wireless Internet,Air conditioning,Kitchen,Doorman,Heating,Family/kid friendly,Washer,Essentials,Shampoo,Hangers,Hair dryer,Iron,Laptop friendly workspace                                                                                                                                                                                           |  NA | 55 |  91 |\n",
       "| 4 | 28004 | Universidad | Loft      | Entire home/apt | 3 | 2 | 1 | 1 | Real Bed | TV,Internet,Wireless Internet,Air conditioning,Kitchen,Pets allowed,Breakfast,Elevator in building,Indoor fireplace,Buzzer/wireless intercom,Heating,Washer,Essentials,Shampoo,Hangers,Hair dryer,Iron,Laptop friendly workspace,translation missing: en.hosting_amenity_49,translation missing: en.hosting_amenity_50                                           |  NA | 60 | 100 |\n",
       "| 5 | 28015 | Universidad | Apartment | Entire home/apt | 5 | 1 | 1 | 1 | Real Bed | TV,Wireless Internet,Air conditioning,Kitchen,Smoking allowed,Pets allowed,Elevator in building,Heating,Family/kid friendly,Washer,Essentials,Iron                                                                                                                                                                                                               | 538 | 75 |  90 |\n",
       "| 6 | 28004 | Universidad | Apartment | Entire home/apt | 2 | 1 | 0 | 1 | Real Bed | TV,Cable TV,Internet,Wireless Internet,Air conditioning,Wheelchair accessible,Kitchen,Doorman,Elevator in building,Buzzer/wireless intercom,Heating,Washer,Smoke detector,Carbon monoxide detector,First aid kit,Safety card,Fire extinguisher,Essentials,Shampoo,24-hour check-in,Hangers,Hair dryer,Iron,Laptop friendly workspace,Self Check-In,Doorman Entry |  NA | 55 |  95 |\n",
       "\n"
      ],
      "text/plain": [
       "  Zipcode Neighbourhood.Cleansed Property.Type Room.Type       Accommodates\n",
       "1 28004   Universidad            Apartment     Private room    2           \n",
       "2 28004   Universidad            Apartment     Entire home/apt 6           \n",
       "3 28004   Universidad            Apartment     Entire home/apt 3           \n",
       "4 28004   Universidad            Loft          Entire home/apt 3           \n",
       "5 28015   Universidad            Apartment     Entire home/apt 5           \n",
       "6 28004   Universidad            Apartment     Entire home/apt 2           \n",
       "  Bathrooms Bedrooms Beds Bed.Type\n",
       "1 2         1        1    Real Bed\n",
       "2 1         3        5    Real Bed\n",
       "3 1         2        2    Real Bed\n",
       "4 2         1        1    Real Bed\n",
       "5 1         1        1    Real Bed\n",
       "6 1         0        1    Real Bed\n",
       "  Amenities                                                                                                                                                                                                                                                                                                                                                       \n",
       "1 TV,Wireless Internet,Kitchen,Pets allowed,Pets live on this property,Buzzer/wireless intercom,Heating,Suitable for events,Washer,First aid kit,Essentials,Lock on bedroom door,Iron                                                                                                                                                                             \n",
       "2 TV,Internet,Wireless Internet,Air conditioning,Kitchen,Indoor fireplace,Heating,Family/kid friendly,Washer,Dryer,Smoke detector,Carbon monoxide detector,Essentials,Shampoo                                                                                                                                                                                     \n",
       "3 TV,Internet,Wireless Internet,Air conditioning,Kitchen,Doorman,Heating,Family/kid friendly,Washer,Essentials,Shampoo,Hangers,Hair dryer,Iron,Laptop friendly workspace                                                                                                                                                                                          \n",
       "4 TV,Internet,Wireless Internet,Air conditioning,Kitchen,Pets allowed,Breakfast,Elevator in building,Indoor fireplace,Buzzer/wireless intercom,Heating,Washer,Essentials,Shampoo,Hangers,Hair dryer,Iron,Laptop friendly workspace,translation missing: en.hosting_amenity_49,translation missing: en.hosting_amenity_50                                          \n",
       "5 TV,Wireless Internet,Air conditioning,Kitchen,Smoking allowed,Pets allowed,Elevator in building,Heating,Family/kid friendly,Washer,Essentials,Iron                                                                                                                                                                                                              \n",
       "6 TV,Cable TV,Internet,Wireless Internet,Air conditioning,Wheelchair accessible,Kitchen,Doorman,Elevator in building,Buzzer/wireless intercom,Heating,Washer,Smoke detector,Carbon monoxide detector,First aid kit,Safety card,Fire extinguisher,Essentials,Shampoo,24-hour check-in,Hangers,Hair dryer,Iron,Laptop friendly workspace,Self Check-In,Doorman Entry\n",
       "  Square.Feet Price Review.Scores.Rating\n",
       "1  NA         35     NA                 \n",
       "2  NA         92     96                 \n",
       "3  NA         55     91                 \n",
       "4  NA         60    100                 \n",
       "5 538         75     90                 \n",
       "6  NA         55     95                 "
      ]
     },
     "metadata": {},
     "output_type": "display_data"
    }
   ],
   "source": [
    "head(airbnb, 6)\n"
   ]
  },
  {
   "cell_type": "markdown",
   "metadata": {},
   "source": [
    "Renombrar las columnas de la siguiente forma:\n",
    "\n",
    "| Nombre original | Nuevo nombre |\n",
    "| - | - |\n",
    "| Zipcode | CodigoPostal |\n",
    "| Neighbourhood.Cleansed | Barrio |\n",
    "| Property.Type\t| TipoPropiedad |\n",
    "| Room.Type | TipoAlquiler |\n",
    "| Accommodates | MaxOcupantes |\n",
    "| Bathrooms\t| NumBanyos |\n",
    "| Bedrooms\t| NumDormitorios |\n",
    "| Beds\t|  NumCamas |\n",
    "| Bed.Type\t| TipoCama |\n",
    "| Amenities | Comodidades |\n",
    "| Square.Feet | PiesCuadrados |\n",
    "| Price\t| Precio |\n",
    "| Review.Scores.Rating | Puntuacion |"
   ]
  },
  {
   "cell_type": "code",
   "execution_count": 1230,
   "metadata": {},
   "outputs": [],
   "source": [
    "newnames<-c(\"CodigoPostal\",\"Barrio\",\"TipoPropiedad\",\"TipoAlquiler\",\"MaxOcupantes\",\"NumBanyos\",\n",
    "\"NumDormitorios\",\"NumCamas\",\"TipoCama\",\"Comodidades\",\"PiesCuadrados\",\"Precio\",\"Puntuacion\")\n",
    "\n",
    "colnames(airbnb)<-newnames\n",
    "\n"
   ]
  },
  {
   "cell_type": "markdown",
   "metadata": {},
   "source": [
    "Crea una nueva columna llamada MetrosCuadrados a partir de la columna PiesCuadrados.\n",
    "\n",
    "Ayuda: 1 pie cuadrado son 0,092903 metros cuadrdados"
   ]
  },
  {
   "cell_type": "code",
   "execution_count": 1231,
   "metadata": {},
   "outputs": [],
   "source": [
    "airbnb%>% mutate(MetrosCuadrados=PiesCuadrados * 0.092903)->airbnb\n"
   ]
  },
  {
   "cell_type": "code",
   "execution_count": null,
   "metadata": {},
   "outputs": [],
   "source": []
  },
  {
   "cell_type": "markdown",
   "metadata": {},
   "source": [
    "Miremos el código postal. Es una variable con entradas erroneas.\n",
    "Hay valores como '', '-'  y '28' que deberían ser considerados como NA.\n",
    "Así mismo también debería ser NA todos los que no compiencen por 28, ya que estamos con códigos postales de Madrid\n",
    "\n",
    "El código postal 28002, 28004 y 28051 tienen entradas repetidas. \n",
    "Por ejemplo las entradas 28002\\n20882 deberían ir dnetro de 28002\n",
    "\n",
    "El codigo 2804 debería ser 28004, 2805 deberia ser 28005 y 2815 juncto con 2815 debería ser 28015\n",
    "\n",
    "Limpia los datos de la columna Codigo Postal"
   ]
  },
  {
   "cell_type": "code",
   "execution_count": 1232,
   "metadata": {},
   "outputs": [
    {
     "data": {
      "text/html": [
       "62"
      ],
      "text/latex": [
       "62"
      ],
      "text/markdown": [
       "62"
      ],
      "text/plain": [
       "[1] 62"
      ]
     },
     "metadata": {},
     "output_type": "display_data"
    }
   ],
   "source": [
    "\n",
    "\n",
    "vacio <- airbnb$CodigoPostal=='' \n",
    "dosN <- airbnb$CodigoPostal=='28'\n",
    "guion <- airbnb$CodigoPostal=='-'\n",
    "wrong<- airbnb$CodigoPostal=='2015'\n",
    "wrong1<-airbnb$CodigoPostal == \"20013\"\n",
    "wrong2<-airbnb$CodigoPostal == \"20126\"\n",
    "wrong3<-airbnb$CodigoPostal == \"2015\"\n",
    "wrong4<-airbnb$CodigoPostal == \"25008\"\n",
    "wrong5<-airbnb$CodigoPostal == \"27004\"\n",
    "wrong6<-airbnb$CodigoPostal == \"27013\"\n",
    "\n",
    "\n",
    "fix1<- airbnb$CodigoPostal=='28002\\n28002'\n",
    "fix2<- airbnb$CodigoPostal=='28051\\n28051'\n",
    "fix3<- airbnb$CodigoPostal=='Madrid 28004'\n",
    "fix3b<- airbnb$CodigoPostal=='2804'\n",
    "add1<- airbnb$CodigoPostal=='2805'\n",
    "add3<- airbnb$CodigoPostal=='2815'\n",
    "add3b<- airbnb$CodigoPostal=='2015'\n",
    "largo<- airbnb$CodigoPostal=='280013'\n",
    "\n",
    "airbnb$CodigoPostal[vacio|dosN|guion|wrong|wrong1|wrong2|wrong3|wrong4|wrong5|wrong6] <- NA\n",
    "airbnb$CodigoPostal[fix1] <- 28002\n",
    "airbnb$CodigoPostal[fix2] <- 28051\n",
    "airbnb$CodigoPostal[fix3|fix3b] <- 28004\n",
    "airbnb$CodigoPostal[add1] <- 28005\n",
    "airbnb$CodigoPostal[add3|add3b] <- 28015\n",
    "airbnb$CodigoPostal[add1] <- 28005\n",
    "airbnb$CodigoPostal[largo]<-28013\n",
    "\n",
    "\n",
    "length(unique(airbnb$CodigoPostal))\n"
   ]
  },
  {
   "cell_type": "markdown",
   "metadata": {},
   "source": [
    "Una vez limpios los datos ¿Cuales son los códigos postales que tenemos? "
   ]
  },
  {
   "cell_type": "code",
   "execution_count": 1233,
   "metadata": {},
   "outputs": [
    {
     "data": {
      "text/html": [
       "<style>\n",
       ".list-inline {list-style: none; margin:0; padding: 0}\n",
       ".list-inline>li {display: inline-block}\n",
       ".list-inline>li:not(:last-child)::after {content: \"\\00b7\"; padding: 0 .5ex}\n",
       "</style>\n",
       "<ol class=list-inline><li>'28001'</li><li>'28002'</li><li>'28003'</li><li>'28004'</li><li>'28005'</li><li>'28006'</li><li>'28007'</li><li>'28008'</li><li>'28009'</li><li>'28010'</li><li>'28011'</li><li>'28012'</li><li>'28013'</li><li>'28014'</li><li>'28015'</li><li>'28016'</li><li>'28017'</li><li>'28018'</li><li>'28019'</li><li>'28020'</li><li>'28021'</li><li>'28022'</li><li>'28023'</li><li>'28024'</li><li>'28025'</li><li>'28026'</li><li>'28027'</li><li>'28028'</li><li>'28029'</li><li>'28030'</li><li>'28031'</li><li>'28032'</li><li>'28033'</li><li>'28034'</li><li>'28035'</li><li>'28036'</li><li>'28037'</li><li>'28038'</li><li>'28039'</li><li>'28040'</li><li>'28041'</li><li>'28042'</li><li>'28043'</li><li>'28044'</li><li>'28045'</li><li>'28046'</li><li>'28047'</li><li>'28048'</li><li>'28049'</li><li>'28050'</li><li>'28051'</li><li>'28052'</li><li>'28053'</li><li>'28054'</li><li>'28055'</li><li>'28056'</li><li>'28058'</li><li>'28060'</li><li>'28094'</li><li>'28105'</li><li>'28850'</li></ol>\n"
      ],
      "text/latex": [
       "\\begin{enumerate*}\n",
       "\\item '28001'\n",
       "\\item '28002'\n",
       "\\item '28003'\n",
       "\\item '28004'\n",
       "\\item '28005'\n",
       "\\item '28006'\n",
       "\\item '28007'\n",
       "\\item '28008'\n",
       "\\item '28009'\n",
       "\\item '28010'\n",
       "\\item '28011'\n",
       "\\item '28012'\n",
       "\\item '28013'\n",
       "\\item '28014'\n",
       "\\item '28015'\n",
       "\\item '28016'\n",
       "\\item '28017'\n",
       "\\item '28018'\n",
       "\\item '28019'\n",
       "\\item '28020'\n",
       "\\item '28021'\n",
       "\\item '28022'\n",
       "\\item '28023'\n",
       "\\item '28024'\n",
       "\\item '28025'\n",
       "\\item '28026'\n",
       "\\item '28027'\n",
       "\\item '28028'\n",
       "\\item '28029'\n",
       "\\item '28030'\n",
       "\\item '28031'\n",
       "\\item '28032'\n",
       "\\item '28033'\n",
       "\\item '28034'\n",
       "\\item '28035'\n",
       "\\item '28036'\n",
       "\\item '28037'\n",
       "\\item '28038'\n",
       "\\item '28039'\n",
       "\\item '28040'\n",
       "\\item '28041'\n",
       "\\item '28042'\n",
       "\\item '28043'\n",
       "\\item '28044'\n",
       "\\item '28045'\n",
       "\\item '28046'\n",
       "\\item '28047'\n",
       "\\item '28048'\n",
       "\\item '28049'\n",
       "\\item '28050'\n",
       "\\item '28051'\n",
       "\\item '28052'\n",
       "\\item '28053'\n",
       "\\item '28054'\n",
       "\\item '28055'\n",
       "\\item '28056'\n",
       "\\item '28058'\n",
       "\\item '28060'\n",
       "\\item '28094'\n",
       "\\item '28105'\n",
       "\\item '28850'\n",
       "\\end{enumerate*}\n"
      ],
      "text/markdown": [
       "1. '28001'\n",
       "2. '28002'\n",
       "3. '28003'\n",
       "4. '28004'\n",
       "5. '28005'\n",
       "6. '28006'\n",
       "7. '28007'\n",
       "8. '28008'\n",
       "9. '28009'\n",
       "10. '28010'\n",
       "11. '28011'\n",
       "12. '28012'\n",
       "13. '28013'\n",
       "14. '28014'\n",
       "15. '28015'\n",
       "16. '28016'\n",
       "17. '28017'\n",
       "18. '28018'\n",
       "19. '28019'\n",
       "20. '28020'\n",
       "21. '28021'\n",
       "22. '28022'\n",
       "23. '28023'\n",
       "24. '28024'\n",
       "25. '28025'\n",
       "26. '28026'\n",
       "27. '28027'\n",
       "28. '28028'\n",
       "29. '28029'\n",
       "30. '28030'\n",
       "31. '28031'\n",
       "32. '28032'\n",
       "33. '28033'\n",
       "34. '28034'\n",
       "35. '28035'\n",
       "36. '28036'\n",
       "37. '28037'\n",
       "38. '28038'\n",
       "39. '28039'\n",
       "40. '28040'\n",
       "41. '28041'\n",
       "42. '28042'\n",
       "43. '28043'\n",
       "44. '28044'\n",
       "45. '28045'\n",
       "46. '28046'\n",
       "47. '28047'\n",
       "48. '28048'\n",
       "49. '28049'\n",
       "50. '28050'\n",
       "51. '28051'\n",
       "52. '28052'\n",
       "53. '28053'\n",
       "54. '28054'\n",
       "55. '28055'\n",
       "56. '28056'\n",
       "57. '28058'\n",
       "58. '28060'\n",
       "59. '28094'\n",
       "60. '28105'\n",
       "61. '28850'\n",
       "\n",
       "\n"
      ],
      "text/plain": [
       " [1] \"28001\" \"28002\" \"28003\" \"28004\" \"28005\" \"28006\" \"28007\" \"28008\" \"28009\"\n",
       "[10] \"28010\" \"28011\" \"28012\" \"28013\" \"28014\" \"28015\" \"28016\" \"28017\" \"28018\"\n",
       "[19] \"28019\" \"28020\" \"28021\" \"28022\" \"28023\" \"28024\" \"28025\" \"28026\" \"28027\"\n",
       "[28] \"28028\" \"28029\" \"28030\" \"28031\" \"28032\" \"28033\" \"28034\" \"28035\" \"28036\"\n",
       "[37] \"28037\" \"28038\" \"28039\" \"28040\" \"28041\" \"28042\" \"28043\" \"28044\" \"28045\"\n",
       "[46] \"28046\" \"28047\" \"28048\" \"28049\" \"28050\" \"28051\" \"28052\" \"28053\" \"28054\"\n",
       "[55] \"28055\" \"28056\" \"28058\" \"28060\" \"28094\" \"28105\" \"28850\""
      ]
     },
     "metadata": {},
     "output_type": "display_data"
    }
   ],
   "source": [
    "levels(droplevels(airbnb$CodigoPostal))\n"
   ]
  },
  {
   "cell_type": "markdown",
   "metadata": {},
   "source": [
    "¿Cuales son los 5 códigos postales con más entradas? ¿Y con menos? ¿Cuantas entradas tienen?"
   ]
  },
  {
   "cell_type": "code",
   "execution_count": 1234,
   "metadata": {},
   "outputs": [
    {
     "data": {
      "text/html": [
       "<table class=\"dataframe\">\n",
       "<caption>A data.frame: 5 × 2</caption>\n",
       "<thead>\n",
       "\t<tr><th></th><th scope=col>CodigoPostal</th><th scope=col>n</th></tr>\n",
       "\t<tr><th></th><th scope=col>&lt;fct&gt;</th><th scope=col>&lt;int&gt;</th></tr>\n",
       "</thead>\n",
       "<tbody>\n",
       "\t<tr><th scope=row>1</th><td>28012</td><td>2060</td></tr>\n",
       "\t<tr><th scope=row>2</th><td>28004</td><td>1796</td></tr>\n",
       "\t<tr><th scope=row>3</th><td>28005</td><td>1195</td></tr>\n",
       "\t<tr><th scope=row>4</th><td>28013</td><td>1020</td></tr>\n",
       "\t<tr><th scope=row>5</th><td>28014</td><td> 630</td></tr>\n",
       "</tbody>\n",
       "</table>\n"
      ],
      "text/latex": [
       "A data.frame: 5 × 2\n",
       "\\begin{tabular}{r|ll}\n",
       "  & CodigoPostal & n\\\\\n",
       "  & <fct> & <int>\\\\\n",
       "\\hline\n",
       "\t1 & 28012 & 2060\\\\\n",
       "\t2 & 28004 & 1796\\\\\n",
       "\t3 & 28005 & 1195\\\\\n",
       "\t4 & 28013 & 1020\\\\\n",
       "\t5 & 28014 &  630\\\\\n",
       "\\end{tabular}\n"
      ],
      "text/markdown": [
       "\n",
       "A data.frame: 5 × 2\n",
       "\n",
       "| <!--/--> | CodigoPostal &lt;fct&gt; | n &lt;int&gt; |\n",
       "|---|---|---|\n",
       "| 1 | 28012 | 2060 |\n",
       "| 2 | 28004 | 1796 |\n",
       "| 3 | 28005 | 1195 |\n",
       "| 4 | 28013 | 1020 |\n",
       "| 5 | 28014 |  630 |\n",
       "\n"
      ],
      "text/plain": [
       "  CodigoPostal n   \n",
       "1 28012        2060\n",
       "2 28004        1796\n",
       "3 28005        1195\n",
       "4 28013        1020\n",
       "5 28014         630"
      ]
     },
     "metadata": {},
     "output_type": "display_data"
    },
    {
     "data": {
      "text/html": [
       "<table class=\"dataframe\">\n",
       "<caption>A data.frame: 5 × 2</caption>\n",
       "<thead>\n",
       "\t<tr><th></th><th scope=col>CodigoPostal</th><th scope=col>n</th></tr>\n",
       "\t<tr><th></th><th scope=col>&lt;fct&gt;</th><th scope=col>&lt;int&gt;</th></tr>\n",
       "</thead>\n",
       "<tbody>\n",
       "\t<tr><th scope=row>58</th><td>28058</td><td>1</td></tr>\n",
       "\t<tr><th scope=row>59</th><td>28060</td><td>1</td></tr>\n",
       "\t<tr><th scope=row>60</th><td>28094</td><td>1</td></tr>\n",
       "\t<tr><th scope=row>61</th><td>28105</td><td>1</td></tr>\n",
       "\t<tr><th scope=row>62</th><td>28850</td><td>1</td></tr>\n",
       "</tbody>\n",
       "</table>\n"
      ],
      "text/latex": [
       "A data.frame: 5 × 2\n",
       "\\begin{tabular}{r|ll}\n",
       "  & CodigoPostal & n\\\\\n",
       "  & <fct> & <int>\\\\\n",
       "\\hline\n",
       "\t58 & 28058 & 1\\\\\n",
       "\t59 & 28060 & 1\\\\\n",
       "\t60 & 28094 & 1\\\\\n",
       "\t61 & 28105 & 1\\\\\n",
       "\t62 & 28850 & 1\\\\\n",
       "\\end{tabular}\n"
      ],
      "text/markdown": [
       "\n",
       "A data.frame: 5 × 2\n",
       "\n",
       "| <!--/--> | CodigoPostal &lt;fct&gt; | n &lt;int&gt; |\n",
       "|---|---|---|\n",
       "| 58 | 28058 | 1 |\n",
       "| 59 | 28060 | 1 |\n",
       "| 60 | 28094 | 1 |\n",
       "| 61 | 28105 | 1 |\n",
       "| 62 | 28850 | 1 |\n",
       "\n"
      ],
      "text/plain": [
       "   CodigoPostal n\n",
       "58 28058        1\n",
       "59 28060        1\n",
       "60 28094        1\n",
       "61 28105        1\n",
       "62 28850        1"
      ]
     },
     "metadata": {},
     "output_type": "display_data"
    }
   ],
   "source": [
    "sorted<- count(airbnb,CodigoPostal,sort=TRUE)\n",
    "head(sorted,5)\n",
    "tail(sorted,5)"
   ]
  },
  {
   "cell_type": "markdown",
   "metadata": {},
   "source": [
    "¿Cuales son los barrios que hay en el código postal 28012?"
   ]
  },
  {
   "cell_type": "code",
   "execution_count": 1235,
   "metadata": {},
   "outputs": [
    {
     "data": {
      "text/html": [
       "<style>\n",
       ".list-inline {list-style: none; margin:0; padding: 0}\n",
       ".list-inline>li {display: inline-block}\n",
       ".list-inline>li:not(:last-child)::after {content: \"\\00b7\"; padding: 0 .5ex}\n",
       "</style>\n",
       "<ol class=list-inline><li>'Acacias'</li><li>'Arapiles'</li><li>'Atocha'</li><li>'Cortes'</li><li>'Delicias'</li><li>'Embajadores'</li><li>'Goya'</li><li>'Palacio'</li><li>'Palos de Moguer'</li><li>'Sol'</li><li>'Universidad'</li></ol>\n"
      ],
      "text/latex": [
       "\\begin{enumerate*}\n",
       "\\item 'Acacias'\n",
       "\\item 'Arapiles'\n",
       "\\item 'Atocha'\n",
       "\\item 'Cortes'\n",
       "\\item 'Delicias'\n",
       "\\item 'Embajadores'\n",
       "\\item 'Goya'\n",
       "\\item 'Palacio'\n",
       "\\item 'Palos de Moguer'\n",
       "\\item 'Sol'\n",
       "\\item 'Universidad'\n",
       "\\end{enumerate*}\n"
      ],
      "text/markdown": [
       "1. 'Acacias'\n",
       "2. 'Arapiles'\n",
       "3. 'Atocha'\n",
       "4. 'Cortes'\n",
       "5. 'Delicias'\n",
       "6. 'Embajadores'\n",
       "7. 'Goya'\n",
       "8. 'Palacio'\n",
       "9. 'Palos de Moguer'\n",
       "10. 'Sol'\n",
       "11. 'Universidad'\n",
       "\n",
       "\n"
      ],
      "text/plain": [
       " [1] \"Acacias\"         \"Arapiles\"        \"Atocha\"          \"Cortes\"         \n",
       " [5] \"Delicias\"        \"Embajadores\"     \"Goya\"            \"Palacio\"        \n",
       " [9] \"Palos de Moguer\" \"Sol\"             \"Universidad\"    "
      ]
     },
     "metadata": {},
     "output_type": "display_data"
    }
   ],
   "source": [
    "select<- airbnb %>%filter(CodigoPostal=='28012')\n",
    "levels(droplevels(na.omit(unique(select$Barrio))))\n",
    "\n",
    "\n"
   ]
  },
  {
   "cell_type": "markdown",
   "metadata": {},
   "source": [
    "¿Cuantas entradas hay en cada uno de esos barrios para el codigo postal 28012?"
   ]
  },
  {
   "cell_type": "code",
   "execution_count": 1236,
   "metadata": {},
   "outputs": [
    {
     "data": {
      "text/html": [
       "<table class=\"dataframe\">\n",
       "<caption>A data.frame: 11 × 2</caption>\n",
       "<thead>\n",
       "\t<tr><th scope=col>Barrio</th><th scope=col>n</th></tr>\n",
       "\t<tr><th scope=col>&lt;fct&gt;</th><th scope=col>&lt;int&gt;</th></tr>\n",
       "</thead>\n",
       "<tbody>\n",
       "\t<tr><td>Acacias        </td><td>  13</td></tr>\n",
       "\t<tr><td>Arapiles       </td><td>   1</td></tr>\n",
       "\t<tr><td>Atocha         </td><td>   1</td></tr>\n",
       "\t<tr><td>Cortes         </td><td> 216</td></tr>\n",
       "\t<tr><td>Delicias       </td><td>   1</td></tr>\n",
       "\t<tr><td>Embajadores    </td><td>1449</td></tr>\n",
       "\t<tr><td>Goya           </td><td>   1</td></tr>\n",
       "\t<tr><td>Palacio        </td><td>  27</td></tr>\n",
       "\t<tr><td>Palos de Moguer</td><td>  46</td></tr>\n",
       "\t<tr><td>Sol            </td><td> 301</td></tr>\n",
       "\t<tr><td>Universidad    </td><td>   4</td></tr>\n",
       "</tbody>\n",
       "</table>\n"
      ],
      "text/latex": [
       "A data.frame: 11 × 2\n",
       "\\begin{tabular}{ll}\n",
       " Barrio & n\\\\\n",
       " <fct> & <int>\\\\\n",
       "\\hline\n",
       "\t Acacias         &   13\\\\\n",
       "\t Arapiles        &    1\\\\\n",
       "\t Atocha          &    1\\\\\n",
       "\t Cortes          &  216\\\\\n",
       "\t Delicias        &    1\\\\\n",
       "\t Embajadores     & 1449\\\\\n",
       "\t Goya            &    1\\\\\n",
       "\t Palacio         &   27\\\\\n",
       "\t Palos de Moguer &   46\\\\\n",
       "\t Sol             &  301\\\\\n",
       "\t Universidad     &    4\\\\\n",
       "\\end{tabular}\n"
      ],
      "text/markdown": [
       "\n",
       "A data.frame: 11 × 2\n",
       "\n",
       "| Barrio &lt;fct&gt; | n &lt;int&gt; |\n",
       "|---|---|\n",
       "| Acacias         |   13 |\n",
       "| Arapiles        |    1 |\n",
       "| Atocha          |    1 |\n",
       "| Cortes          |  216 |\n",
       "| Delicias        |    1 |\n",
       "| Embajadores     | 1449 |\n",
       "| Goya            |    1 |\n",
       "| Palacio         |   27 |\n",
       "| Palos de Moguer |   46 |\n",
       "| Sol             |  301 |\n",
       "| Universidad     |    4 |\n",
       "\n"
      ],
      "text/plain": [
       "   Barrio          n   \n",
       "1  Acacias           13\n",
       "2  Arapiles           1\n",
       "3  Atocha             1\n",
       "4  Cortes           216\n",
       "5  Delicias           1\n",
       "6  Embajadores     1449\n",
       "7  Goya               1\n",
       "8  Palacio           27\n",
       "9  Palos de Moguer   46\n",
       "10 Sol              301\n",
       "11 Universidad        4"
      ]
     },
     "metadata": {},
     "output_type": "display_data"
    }
   ],
   "source": [
    "count(select,Barrio)\n",
    "\n",
    "\n",
    "\n"
   ]
  },
  {
   "cell_type": "markdown",
   "metadata": {},
   "source": [
    "¿Cuantos barrios hay en todo el dataset airbnb? ¿Cuales son?"
   ]
  },
  {
   "cell_type": "code",
   "execution_count": 1237,
   "metadata": {},
   "outputs": [
    {
     "data": {
      "text/html": [
       "<span style=white-space:pre-wrap>'hay  125 barrios'</span>"
      ],
      "text/latex": [
       "'hay  125 barrios'"
      ],
      "text/markdown": [
       "<span style=white-space:pre-wrap>'hay  125 barrios'</span>"
      ],
      "text/plain": [
       "[1] \"hay  125 barrios\""
      ]
     },
     "metadata": {},
     "output_type": "display_data"
    },
    {
     "data": {
      "text/html": [
       "'Estos son:'"
      ],
      "text/latex": [
       "'Estos son:'"
      ],
      "text/markdown": [
       "'Estos son:'"
      ],
      "text/plain": [
       "[1] \"Estos son:\""
      ]
     },
     "metadata": {},
     "output_type": "display_data"
    },
    {
     "data": {
      "text/html": [
       "<style>\n",
       ".list-inline {list-style: none; margin:0; padding: 0}\n",
       ".list-inline>li {display: inline-block}\n",
       ".list-inline>li:not(:last-child)::after {content: \"\\00b7\"; padding: 0 .5ex}\n",
       "</style>\n",
       "<ol class=list-inline><li>'Abrantes'</li><li>'Acacias'</li><li>'Adelfas'</li><li>'Aeropuerto'</li><li>'Aguilas'</li><li>'Alameda de Osuna'</li><li>'Almagro'</li><li>'Almenara'</li><li>'Almendrales'</li><li>'Aluche'</li><li>'Ambroz'</li><li>'Amposta'</li><li>'Apostol Santiago'</li><li>'Arapiles'</li><li>'Aravaca'</li><li>'Arcos'</li><li>'Argüelles'</li><li>'Atocha'</li><li>'Bellas Vistas'</li><li>'Berruguete'</li><li>'Buenavista'</li><li>'Butarque'</li><li>'Campamento'</li><li>'Canillas'</li><li>'Canillejas'</li><li>'Cármenes'</li><li>'Casa de Campo'</li><li>'Casco Histórico de Barajas'</li><li>'Casco Histórico de Vallecas'</li><li>'Casco Histórico de Vicálvaro'</li><li>'Castellana'</li><li>'Castilla'</li><li>'Castillejos'</li><li>'Chopera'</li><li>'Ciudad Jardín'</li><li>'Ciudad Universitaria'</li><li>'Colina'</li><li>'Comillas'</li><li>'Concepción'</li><li>'Corralejos'</li><li>'Cortes'</li><li>'Costillares'</li><li>'Cuatro Caminos'</li><li>'Cuatro Vientos'</li><li>'Delicias'</li><li>'El Goloso'</li><li>'El Plantío'</li><li>'El Viso'</li><li>'Embajadores'</li><li>'Entrevías'</li><li>'Estrella'</li><li>'Fontarrón'</li><li>'Fuente del Berro'</li><li>'Fuentelareina'</li><li>'Gaztambide'</li><li>'Goya'</li><li>'Guindalera'</li><li>'Hellín'</li><li>'Hispanoamérica'</li><li>'Ibiza'</li><li>'Imperial'</li><li>'Jerónimos'</li><li>'Justicia'</li><li>'La Paz'</li><li>'Legazpi'</li><li>'Lista'</li><li>'Los Angeles'</li><li>'Los Rosales'</li><li>'Lucero'</li><li>'Marroquina'</li><li>'Media Legua'</li><li>'Mirasierra'</li><li>'Moscardó'</li><li>'Niño Jesús'</li><li>'Nueva España'</li><li>'Numancia'</li><li>'Opañel'</li><li>'Orcasitas'</li><li>'Orcasur'</li><li>'Pacífico'</li><li>'Palacio'</li><li>'Palomas'</li><li>'Palomeras Bajas'</li><li>'Palomeras Sureste'</li><li>'Palos de Moguer'</li><li>'Pavones'</li><li>'Peñagrande'</li><li>'Pilar'</li><li>'Pinar del Rey'</li><li>'Piovera'</li><li>'Portazgo'</li><li>'Pradolongo'</li><li>'Prosperidad'</li><li>'Pueblo Nuevo'</li><li>'Puerta Bonita'</li><li>'Puerta del Angel'</li><li>'Quintana'</li><li>'Recoletos'</li><li>'Rejas'</li><li>'Rios Rosas'</li><li>'Rosas'</li><li>'Salvador'</li><li>'San Andrés'</li><li>'San Cristobal'</li><li>'San Diego'</li><li>'San Fermín'</li><li>'San Isidro'</li><li>'San Juan Bautista'</li><li>'San Pascual'</li><li>'Santa Eugenia'</li><li>'Simancas'</li><li>'Sol'</li><li>'Timón'</li><li>'Trafalgar'</li><li>'Universidad'</li><li>'Valdeacederas'</li><li>'Valdefuentes'</li><li>'Valdemarín'</li><li>'Valdezarza'</li><li>'Vallehermoso'</li><li>'Valverde'</li><li>'Ventas'</li><li>'Vinateros'</li><li>'Vista Alegre'</li><li>'Zofío'</li></ol>\n"
      ],
      "text/latex": [
       "\\begin{enumerate*}\n",
       "\\item 'Abrantes'\n",
       "\\item 'Acacias'\n",
       "\\item 'Adelfas'\n",
       "\\item 'Aeropuerto'\n",
       "\\item 'Aguilas'\n",
       "\\item 'Alameda de Osuna'\n",
       "\\item 'Almagro'\n",
       "\\item 'Almenara'\n",
       "\\item 'Almendrales'\n",
       "\\item 'Aluche'\n",
       "\\item 'Ambroz'\n",
       "\\item 'Amposta'\n",
       "\\item 'Apostol Santiago'\n",
       "\\item 'Arapiles'\n",
       "\\item 'Aravaca'\n",
       "\\item 'Arcos'\n",
       "\\item 'Argüelles'\n",
       "\\item 'Atocha'\n",
       "\\item 'Bellas Vistas'\n",
       "\\item 'Berruguete'\n",
       "\\item 'Buenavista'\n",
       "\\item 'Butarque'\n",
       "\\item 'Campamento'\n",
       "\\item 'Canillas'\n",
       "\\item 'Canillejas'\n",
       "\\item 'Cármenes'\n",
       "\\item 'Casa de Campo'\n",
       "\\item 'Casco Histórico de Barajas'\n",
       "\\item 'Casco Histórico de Vallecas'\n",
       "\\item 'Casco Histórico de Vicálvaro'\n",
       "\\item 'Castellana'\n",
       "\\item 'Castilla'\n",
       "\\item 'Castillejos'\n",
       "\\item 'Chopera'\n",
       "\\item 'Ciudad Jardín'\n",
       "\\item 'Ciudad Universitaria'\n",
       "\\item 'Colina'\n",
       "\\item 'Comillas'\n",
       "\\item 'Concepción'\n",
       "\\item 'Corralejos'\n",
       "\\item 'Cortes'\n",
       "\\item 'Costillares'\n",
       "\\item 'Cuatro Caminos'\n",
       "\\item 'Cuatro Vientos'\n",
       "\\item 'Delicias'\n",
       "\\item 'El Goloso'\n",
       "\\item 'El Plantío'\n",
       "\\item 'El Viso'\n",
       "\\item 'Embajadores'\n",
       "\\item 'Entrevías'\n",
       "\\item 'Estrella'\n",
       "\\item 'Fontarrón'\n",
       "\\item 'Fuente del Berro'\n",
       "\\item 'Fuentelareina'\n",
       "\\item 'Gaztambide'\n",
       "\\item 'Goya'\n",
       "\\item 'Guindalera'\n",
       "\\item 'Hellín'\n",
       "\\item 'Hispanoamérica'\n",
       "\\item 'Ibiza'\n",
       "\\item 'Imperial'\n",
       "\\item 'Jerónimos'\n",
       "\\item 'Justicia'\n",
       "\\item 'La Paz'\n",
       "\\item 'Legazpi'\n",
       "\\item 'Lista'\n",
       "\\item 'Los Angeles'\n",
       "\\item 'Los Rosales'\n",
       "\\item 'Lucero'\n",
       "\\item 'Marroquina'\n",
       "\\item 'Media Legua'\n",
       "\\item 'Mirasierra'\n",
       "\\item 'Moscardó'\n",
       "\\item 'Niño Jesús'\n",
       "\\item 'Nueva España'\n",
       "\\item 'Numancia'\n",
       "\\item 'Opañel'\n",
       "\\item 'Orcasitas'\n",
       "\\item 'Orcasur'\n",
       "\\item 'Pacífico'\n",
       "\\item 'Palacio'\n",
       "\\item 'Palomas'\n",
       "\\item 'Palomeras Bajas'\n",
       "\\item 'Palomeras Sureste'\n",
       "\\item 'Palos de Moguer'\n",
       "\\item 'Pavones'\n",
       "\\item 'Peñagrande'\n",
       "\\item 'Pilar'\n",
       "\\item 'Pinar del Rey'\n",
       "\\item 'Piovera'\n",
       "\\item 'Portazgo'\n",
       "\\item 'Pradolongo'\n",
       "\\item 'Prosperidad'\n",
       "\\item 'Pueblo Nuevo'\n",
       "\\item 'Puerta Bonita'\n",
       "\\item 'Puerta del Angel'\n",
       "\\item 'Quintana'\n",
       "\\item 'Recoletos'\n",
       "\\item 'Rejas'\n",
       "\\item 'Rios Rosas'\n",
       "\\item 'Rosas'\n",
       "\\item 'Salvador'\n",
       "\\item 'San Andrés'\n",
       "\\item 'San Cristobal'\n",
       "\\item 'San Diego'\n",
       "\\item 'San Fermín'\n",
       "\\item 'San Isidro'\n",
       "\\item 'San Juan Bautista'\n",
       "\\item 'San Pascual'\n",
       "\\item 'Santa Eugenia'\n",
       "\\item 'Simancas'\n",
       "\\item 'Sol'\n",
       "\\item 'Timón'\n",
       "\\item 'Trafalgar'\n",
       "\\item 'Universidad'\n",
       "\\item 'Valdeacederas'\n",
       "\\item 'Valdefuentes'\n",
       "\\item 'Valdemarín'\n",
       "\\item 'Valdezarza'\n",
       "\\item 'Vallehermoso'\n",
       "\\item 'Valverde'\n",
       "\\item 'Ventas'\n",
       "\\item 'Vinateros'\n",
       "\\item 'Vista Alegre'\n",
       "\\item 'Zofío'\n",
       "\\end{enumerate*}\n"
      ],
      "text/markdown": [
       "1. 'Abrantes'\n",
       "2. 'Acacias'\n",
       "3. 'Adelfas'\n",
       "4. 'Aeropuerto'\n",
       "5. 'Aguilas'\n",
       "6. 'Alameda de Osuna'\n",
       "7. 'Almagro'\n",
       "8. 'Almenara'\n",
       "9. 'Almendrales'\n",
       "10. 'Aluche'\n",
       "11. 'Ambroz'\n",
       "12. 'Amposta'\n",
       "13. 'Apostol Santiago'\n",
       "14. 'Arapiles'\n",
       "15. 'Aravaca'\n",
       "16. 'Arcos'\n",
       "17. 'Argüelles'\n",
       "18. 'Atocha'\n",
       "19. 'Bellas Vistas'\n",
       "20. 'Berruguete'\n",
       "21. 'Buenavista'\n",
       "22. 'Butarque'\n",
       "23. 'Campamento'\n",
       "24. 'Canillas'\n",
       "25. 'Canillejas'\n",
       "26. 'Cármenes'\n",
       "27. 'Casa de Campo'\n",
       "28. 'Casco Histórico de Barajas'\n",
       "29. 'Casco Histórico de Vallecas'\n",
       "30. 'Casco Histórico de Vicálvaro'\n",
       "31. 'Castellana'\n",
       "32. 'Castilla'\n",
       "33. 'Castillejos'\n",
       "34. 'Chopera'\n",
       "35. 'Ciudad Jardín'\n",
       "36. 'Ciudad Universitaria'\n",
       "37. 'Colina'\n",
       "38. 'Comillas'\n",
       "39. 'Concepción'\n",
       "40. 'Corralejos'\n",
       "41. 'Cortes'\n",
       "42. 'Costillares'\n",
       "43. 'Cuatro Caminos'\n",
       "44. 'Cuatro Vientos'\n",
       "45. 'Delicias'\n",
       "46. 'El Goloso'\n",
       "47. 'El Plantío'\n",
       "48. 'El Viso'\n",
       "49. 'Embajadores'\n",
       "50. 'Entrevías'\n",
       "51. 'Estrella'\n",
       "52. 'Fontarrón'\n",
       "53. 'Fuente del Berro'\n",
       "54. 'Fuentelareina'\n",
       "55. 'Gaztambide'\n",
       "56. 'Goya'\n",
       "57. 'Guindalera'\n",
       "58. 'Hellín'\n",
       "59. 'Hispanoamérica'\n",
       "60. 'Ibiza'\n",
       "61. 'Imperial'\n",
       "62. 'Jerónimos'\n",
       "63. 'Justicia'\n",
       "64. 'La Paz'\n",
       "65. 'Legazpi'\n",
       "66. 'Lista'\n",
       "67. 'Los Angeles'\n",
       "68. 'Los Rosales'\n",
       "69. 'Lucero'\n",
       "70. 'Marroquina'\n",
       "71. 'Media Legua'\n",
       "72. 'Mirasierra'\n",
       "73. 'Moscardó'\n",
       "74. 'Niño Jesús'\n",
       "75. 'Nueva España'\n",
       "76. 'Numancia'\n",
       "77. 'Opañel'\n",
       "78. 'Orcasitas'\n",
       "79. 'Orcasur'\n",
       "80. 'Pacífico'\n",
       "81. 'Palacio'\n",
       "82. 'Palomas'\n",
       "83. 'Palomeras Bajas'\n",
       "84. 'Palomeras Sureste'\n",
       "85. 'Palos de Moguer'\n",
       "86. 'Pavones'\n",
       "87. 'Peñagrande'\n",
       "88. 'Pilar'\n",
       "89. 'Pinar del Rey'\n",
       "90. 'Piovera'\n",
       "91. 'Portazgo'\n",
       "92. 'Pradolongo'\n",
       "93. 'Prosperidad'\n",
       "94. 'Pueblo Nuevo'\n",
       "95. 'Puerta Bonita'\n",
       "96. 'Puerta del Angel'\n",
       "97. 'Quintana'\n",
       "98. 'Recoletos'\n",
       "99. 'Rejas'\n",
       "100. 'Rios Rosas'\n",
       "101. 'Rosas'\n",
       "102. 'Salvador'\n",
       "103. 'San Andrés'\n",
       "104. 'San Cristobal'\n",
       "105. 'San Diego'\n",
       "106. 'San Fermín'\n",
       "107. 'San Isidro'\n",
       "108. 'San Juan Bautista'\n",
       "109. 'San Pascual'\n",
       "110. 'Santa Eugenia'\n",
       "111. 'Simancas'\n",
       "112. 'Sol'\n",
       "113. 'Timón'\n",
       "114. 'Trafalgar'\n",
       "115. 'Universidad'\n",
       "116. 'Valdeacederas'\n",
       "117. 'Valdefuentes'\n",
       "118. 'Valdemarín'\n",
       "119. 'Valdezarza'\n",
       "120. 'Vallehermoso'\n",
       "121. 'Valverde'\n",
       "122. 'Ventas'\n",
       "123. 'Vinateros'\n",
       "124. 'Vista Alegre'\n",
       "125. 'Zofío'\n",
       "\n",
       "\n"
      ],
      "text/plain": [
       "  [1] \"Abrantes\"                     \"Acacias\"                     \n",
       "  [3] \"Adelfas\"                      \"Aeropuerto\"                  \n",
       "  [5] \"Aguilas\"                      \"Alameda de Osuna\"            \n",
       "  [7] \"Almagro\"                      \"Almenara\"                    \n",
       "  [9] \"Almendrales\"                  \"Aluche\"                      \n",
       " [11] \"Ambroz\"                       \"Amposta\"                     \n",
       " [13] \"Apostol Santiago\"             \"Arapiles\"                    \n",
       " [15] \"Aravaca\"                      \"Arcos\"                       \n",
       " [17] \"Argüelles\"                    \"Atocha\"                      \n",
       " [19] \"Bellas Vistas\"                \"Berruguete\"                  \n",
       " [21] \"Buenavista\"                   \"Butarque\"                    \n",
       " [23] \"Campamento\"                   \"Canillas\"                    \n",
       " [25] \"Canillejas\"                   \"Cármenes\"                    \n",
       " [27] \"Casa de Campo\"                \"Casco Histórico de Barajas\"  \n",
       " [29] \"Casco Histórico de Vallecas\"  \"Casco Histórico de Vicálvaro\"\n",
       " [31] \"Castellana\"                   \"Castilla\"                    \n",
       " [33] \"Castillejos\"                  \"Chopera\"                     \n",
       " [35] \"Ciudad Jardín\"                \"Ciudad Universitaria\"        \n",
       " [37] \"Colina\"                       \"Comillas\"                    \n",
       " [39] \"Concepción\"                   \"Corralejos\"                  \n",
       " [41] \"Cortes\"                       \"Costillares\"                 \n",
       " [43] \"Cuatro Caminos\"               \"Cuatro Vientos\"              \n",
       " [45] \"Delicias\"                     \"El Goloso\"                   \n",
       " [47] \"El Plantío\"                   \"El Viso\"                     \n",
       " [49] \"Embajadores\"                  \"Entrevías\"                   \n",
       " [51] \"Estrella\"                     \"Fontarrón\"                   \n",
       " [53] \"Fuente del Berro\"             \"Fuentelareina\"               \n",
       " [55] \"Gaztambide\"                   \"Goya\"                        \n",
       " [57] \"Guindalera\"                   \"Hellín\"                      \n",
       " [59] \"Hispanoamérica\"               \"Ibiza\"                       \n",
       " [61] \"Imperial\"                     \"Jerónimos\"                   \n",
       " [63] \"Justicia\"                     \"La Paz\"                      \n",
       " [65] \"Legazpi\"                      \"Lista\"                       \n",
       " [67] \"Los Angeles\"                  \"Los Rosales\"                 \n",
       " [69] \"Lucero\"                       \"Marroquina\"                  \n",
       " [71] \"Media Legua\"                  \"Mirasierra\"                  \n",
       " [73] \"Moscardó\"                     \"Niño Jesús\"                  \n",
       " [75] \"Nueva España\"                 \"Numancia\"                    \n",
       " [77] \"Opañel\"                       \"Orcasitas\"                   \n",
       " [79] \"Orcasur\"                      \"Pacífico\"                    \n",
       " [81] \"Palacio\"                      \"Palomas\"                     \n",
       " [83] \"Palomeras Bajas\"              \"Palomeras Sureste\"           \n",
       " [85] \"Palos de Moguer\"              \"Pavones\"                     \n",
       " [87] \"Peñagrande\"                   \"Pilar\"                       \n",
       " [89] \"Pinar del Rey\"                \"Piovera\"                     \n",
       " [91] \"Portazgo\"                     \"Pradolongo\"                  \n",
       " [93] \"Prosperidad\"                  \"Pueblo Nuevo\"                \n",
       " [95] \"Puerta Bonita\"                \"Puerta del Angel\"            \n",
       " [97] \"Quintana\"                     \"Recoletos\"                   \n",
       " [99] \"Rejas\"                        \"Rios Rosas\"                  \n",
       "[101] \"Rosas\"                        \"Salvador\"                    \n",
       "[103] \"San Andrés\"                   \"San Cristobal\"               \n",
       "[105] \"San Diego\"                    \"San Fermín\"                  \n",
       "[107] \"San Isidro\"                   \"San Juan Bautista\"           \n",
       "[109] \"San Pascual\"                  \"Santa Eugenia\"               \n",
       "[111] \"Simancas\"                     \"Sol\"                         \n",
       "[113] \"Timón\"                        \"Trafalgar\"                   \n",
       "[115] \"Universidad\"                  \"Valdeacederas\"               \n",
       "[117] \"Valdefuentes\"                 \"Valdemarín\"                  \n",
       "[119] \"Valdezarza\"                   \"Vallehermoso\"                \n",
       "[121] \"Valverde\"                     \"Ventas\"                      \n",
       "[123] \"Vinateros\"                    \"Vista Alegre\"                \n",
       "[125] \"Zofío\"                       "
      ]
     },
     "metadata": {},
     "output_type": "display_data"
    }
   ],
   "source": [
    "paste('hay ',length(unique(airbnb$Barrio)), 'barrios')\n",
    "\n",
    "'Estos son:'\n",
    "levels(droplevels(unique(airbnb$Barrio)))\n"
   ]
  },
  {
   "cell_type": "markdown",
   "metadata": {},
   "source": [
    "¿Cuales son los 5 barrios que tienen mayor número entradas?"
   ]
  },
  {
   "cell_type": "code",
   "execution_count": 1238,
   "metadata": {},
   "outputs": [
    {
     "data": {
      "text/html": [
       "'Estos son los 5 barrios con mas entradas:'"
      ],
      "text/latex": [
       "'Estos son los 5 barrios con mas entradas:'"
      ],
      "text/markdown": [
       "'Estos son los 5 barrios con mas entradas:'"
      ],
      "text/plain": [
       "[1] \"Estos son los 5 barrios con mas entradas:\""
      ]
     },
     "metadata": {},
     "output_type": "display_data"
    },
    {
     "data": {
      "text/html": [
       "<style>\n",
       ".list-inline {list-style: none; margin:0; padding: 0}\n",
       ".list-inline>li {display: inline-block}\n",
       ".list-inline>li:not(:last-child)::after {content: \"\\00b7\"; padding: 0 .5ex}\n",
       "</style>\n",
       "<ol class=list-inline><li>'Embajadores'</li><li>'Universidad'</li><li>'Palacio'</li><li>'Sol'</li><li>'Justicia'</li></ol>\n"
      ],
      "text/latex": [
       "\\begin{enumerate*}\n",
       "\\item 'Embajadores'\n",
       "\\item 'Universidad'\n",
       "\\item 'Palacio'\n",
       "\\item 'Sol'\n",
       "\\item 'Justicia'\n",
       "\\end{enumerate*}\n"
      ],
      "text/markdown": [
       "1. 'Embajadores'\n",
       "2. 'Universidad'\n",
       "3. 'Palacio'\n",
       "4. 'Sol'\n",
       "5. 'Justicia'\n",
       "\n",
       "\n"
      ],
      "text/plain": [
       "[1] \"Embajadores\" \"Universidad\" \"Palacio\"     \"Sol\"         \"Justicia\"   "
      ]
     },
     "metadata": {},
     "output_type": "display_data"
    },
    {
     "data": {
      "text/html": [
       "'Tabla con las entradas del top 5:'"
      ],
      "text/latex": [
       "'Tabla con las entradas del top 5:'"
      ],
      "text/markdown": [
       "'Tabla con las entradas del top 5:'"
      ],
      "text/plain": [
       "[1] \"Tabla con las entradas del top 5:\""
      ]
     },
     "metadata": {},
     "output_type": "display_data"
    },
    {
     "data": {
      "text/plain": [
       "\n",
       "Embajadores Universidad     Palacio         Sol    Justicia \n",
       "       1844        1358        1083         940         785 "
      ]
     },
     "metadata": {},
     "output_type": "display_data"
    }
   ],
   "source": [
    "'Estos son los 5 barrios con mas entradas:'\n",
    "\n",
    "ordenados<- sort(table(airbnb$Barrio),decreasing=T)\n",
    "head(rownames(ordenados),5)\n",
    "\n",
    "\n",
    "\n",
    "paste('Tabla con las entradas del top 5:')\n",
    "\n",
    "head(ordenados,5)"
   ]
  },
  {
   "cell_type": "markdown",
   "metadata": {},
   "source": [
    "¿Cuantos Tipos de Alquiler diferentes hay? ¿Cuales son? ¿Cuantas entradas en el dataframe hay por cada tipo?"
   ]
  },
  {
   "cell_type": "code",
   "execution_count": 1239,
   "metadata": {},
   "outputs": [
    {
     "data": {
      "text/html": [
       "<span style=white-space:pre-wrap>'Hay  3 Tipos de Alquiler'</span>"
      ],
      "text/latex": [
       "'Hay  3 Tipos de Alquiler'"
      ],
      "text/markdown": [
       "<span style=white-space:pre-wrap>'Hay  3 Tipos de Alquiler'</span>"
      ],
      "text/plain": [
       "[1] \"Hay  3 Tipos de Alquiler\""
      ]
     },
     "metadata": {},
     "output_type": "display_data"
    },
    {
     "data": {
      "text/html": [
       "'Los Tipos son Private room, Entire home/apt, Shared room'"
      ],
      "text/latex": [
       "'Los Tipos son Private room, Entire home/apt, Shared room'"
      ],
      "text/markdown": [
       "'Los Tipos son Private room, Entire home/apt, Shared room'"
      ],
      "text/plain": [
       "[1] \"Los Tipos son Private room, Entire home/apt, Shared room\""
      ]
     },
     "metadata": {},
     "output_type": "display_data"
    },
    {
     "data": {
      "text/html": [
       "'El numero de entradas por Tipo de Alquiler es:'"
      ],
      "text/latex": [
       "'El numero de entradas por Tipo de Alquiler es:'"
      ],
      "text/markdown": [
       "'El numero de entradas por Tipo de Alquiler es:'"
      ],
      "text/plain": [
       "[1] \"El numero de entradas por Tipo de Alquiler es:\""
      ]
     },
     "metadata": {},
     "output_type": "display_data"
    },
    {
     "data": {
      "text/plain": [
       "\n",
       "Entire home/apt    Private room     Shared room \n",
       "           7903            5113             191 "
      ]
     },
     "metadata": {},
     "output_type": "display_data"
    }
   ],
   "source": [
    "cuantos<- length(unique(airbnb$TipoAlquiler))\n",
    "cuales<-unique(airbnb$TipoAlquiler)\n",
    "tabla<- table(airbnb$TipoAlquiler)\n",
    "\n",
    "paste('Hay ', cuantos,'Tipos de Alquiler')\n",
    "paste('Los Tipos son ', cuales[1], ', ', cuales[2], ', ', cuales[3],sep='')\n",
    "'El numero de entradas por Tipo de Alquiler es:'\n",
    "tabla\n",
    "\n"
   ]
  },
  {
   "cell_type": "markdown",
   "metadata": {},
   "source": [
    "Muestra el diagrama de cajas del precio para cada uno de los diferentes Tipos de Alquiler"
   ]
  },
  {
   "cell_type": "code",
   "execution_count": 1240,
   "metadata": {},
   "outputs": [
    {
     "data": {
      "image/png": "[encoded data removed]",
      "text/plain": [
       "plot without title"
      ]
     },
     "metadata": {
      "image/png": {
       "height": 240,
       "width": 360
      }
     },
     "output_type": "display_data"
    }
   ],
   "source": [
    "cleanplot<-na.omit(airbnb[c('Precio','TipoAlquiler')])\n",
    "\n",
    "p<-ggplot(cleanplot)\n",
    "p+geom_boxplot(aes(x=TipoAlquiler, y=Precio,color=TipoAlquiler))"
   ]
  },
  {
   "cell_type": "markdown",
   "metadata": {},
   "source": [
    "Cual es el precio medio de alquiler de cada uno, la diferencia que hay ¿es estadísticamente significativa?\n",
    "¿Con que test lo comprobarías?"
   ]
  },
  {
   "cell_type": "code",
   "execution_count": 1241,
   "metadata": {},
   "outputs": [
    {
     "data": {
      "text/html": [
       "<table class=\"dataframe\">\n",
       "<caption>A data.frame: 3 × 2</caption>\n",
       "<thead>\n",
       "\t<tr><th scope=col>TipoAlquiler</th><th scope=col>Precio</th></tr>\n",
       "\t<tr><th scope=col>&lt;fct&gt;</th><th scope=col>&lt;dbl&gt;</th></tr>\n",
       "</thead>\n",
       "<tbody>\n",
       "\t<tr><td>Entire home/apt</td><td>87.29661</td></tr>\n",
       "\t<tr><td>Private room   </td><td>34.25514</td></tr>\n",
       "\t<tr><td>Shared room    </td><td>29.85340</td></tr>\n",
       "</tbody>\n",
       "</table>\n"
      ],
      "text/latex": [
       "A data.frame: 3 × 2\n",
       "\\begin{tabular}{ll}\n",
       " TipoAlquiler & Precio\\\\\n",
       " <fct> & <dbl>\\\\\n",
       "\\hline\n",
       "\t Entire home/apt & 87.29661\\\\\n",
       "\t Private room    & 34.25514\\\\\n",
       "\t Shared room     & 29.85340\\\\\n",
       "\\end{tabular}\n"
      ],
      "text/markdown": [
       "\n",
       "A data.frame: 3 × 2\n",
       "\n",
       "| TipoAlquiler &lt;fct&gt; | Precio &lt;dbl&gt; |\n",
       "|---|---|\n",
       "| Entire home/apt | 87.29661 |\n",
       "| Private room    | 34.25514 |\n",
       "| Shared room     | 29.85340 |\n",
       "\n"
      ],
      "text/plain": [
       "  TipoAlquiler    Precio  \n",
       "1 Entire home/apt 87.29661\n",
       "2 Private room    34.25514\n",
       "3 Shared room     29.85340"
      ]
     },
     "metadata": {},
     "output_type": "display_data"
    },
    {
     "data": {
      "text/plain": [
       "\n",
       "\tShapiro-Wilk normality test\n",
       "\n",
       "data:  premediotipo$Precio\n",
       "W = 0.80711, p-value = 0.1316\n"
      ]
     },
     "metadata": {},
     "output_type": "display_data"
    },
    {
     "data": {
      "text/html": [
       "'Entire'"
      ],
      "text/latex": [
       "'Entire'"
      ],
      "text/markdown": [
       "'Entire'"
      ],
      "text/plain": [
       "[1] \"Entire\""
      ]
     },
     "metadata": {},
     "output_type": "display_data"
    },
    {
     "data": {
      "text/plain": [
       "\n",
       "\tShapiro-Wilk normality test\n",
       "\n",
       "data:  maxEntire\n",
       "W = 0.67451, p-value < 2.2e-16\n"
      ]
     },
     "metadata": {},
     "output_type": "display_data"
    },
    {
     "data": {
      "text/html": [
       "'Private'"
      ],
      "text/latex": [
       "'Private'"
      ],
      "text/markdown": [
       "'Private'"
      ],
      "text/plain": [
       "[1] \"Private\""
      ]
     },
     "metadata": {},
     "output_type": "display_data"
    },
    {
     "data": {
      "text/plain": [
       "\n",
       "\tShapiro-Wilk normality test\n",
       "\n",
       "data:  maxPrivate\n",
       "W = 0.38434, p-value < 2.2e-16\n"
      ]
     },
     "metadata": {},
     "output_type": "display_data"
    },
    {
     "data": {
      "text/html": [
       "'Shared'"
      ],
      "text/latex": [
       "'Shared'"
      ],
      "text/markdown": [
       "'Shared'"
      ],
      "text/plain": [
       "[1] \"Shared\""
      ]
     },
     "metadata": {},
     "output_type": "display_data"
    },
    {
     "data": {
      "text/plain": [
       "\n",
       "\tShapiro-Wilk normality test\n",
       "\n",
       "data:  Shared\n",
       "W = 0.4436, p-value < 2.2e-16\n"
      ]
     },
     "metadata": {},
     "output_type": "display_data"
    },
    {
     "data": {
      "text/html": [
       "'No se cumple la normalidad segun el test de shapiro, se utilizara el test de kruskal'"
      ],
      "text/latex": [
       "'No se cumple la normalidad segun el test de shapiro, se utilizara el test de kruskal'"
      ],
      "text/markdown": [
       "'No se cumple la normalidad segun el test de shapiro, se utilizara el test de kruskal'"
      ],
      "text/plain": [
       "[1] \"No se cumple la normalidad segun el test de shapiro, se utilizara el test de kruskal\""
      ]
     },
     "metadata": {},
     "output_type": "display_data"
    },
    {
     "data": {
      "text/plain": [
       "\n",
       "\tKruskal-Wallis rank sum test\n",
       "\n",
       "data:  Precio by TipoAlquiler\n",
       "Kruskal-Wallis chi-squared = 7235.6, df = 2, p-value < 2.2e-16\n"
      ]
     },
     "metadata": {},
     "output_type": "display_data"
    },
    {
     "data": {
      "text/plain": [
       "\n",
       "\tPairwise comparisons using Wilcoxon rank sum test with continuity correction \n",
       "\n",
       "data:  cleanplot$Precio and cleanplot$TipoAlquiler \n",
       "\n",
       "             Entire home/apt Private room\n",
       "Private room <2e-16          -           \n",
       "Shared room  <2e-16          <2e-16      \n",
       "\n",
       "P value adjustment method: holm "
      ]
     },
     "metadata": {},
     "output_type": "display_data"
    },
    {
     "data": {
      "text/html": [
       "'Por el resultado del test se puede ver que hay una diferencia estadísticamente significativa entre los tipos de alquiler'"
      ],
      "text/latex": [
       "'Por el resultado del test se puede ver que hay una diferencia estadísticamente significativa entre los tipos de alquiler'"
      ],
      "text/markdown": [
       "'Por el resultado del test se puede ver que hay una diferencia estadísticamente significativa entre los tipos de alquiler'"
      ],
      "text/plain": [
       "[1] \"Por el resultado del test se puede ver que hay una diferencia estadísticamente significativa entre los tipos de alquiler\""
      ]
     },
     "metadata": {},
     "output_type": "display_data"
    }
   ],
   "source": [
    "premediotipo<- aggregate(Precio~TipoAlquiler, cleanplot, FUN=mean)\n",
    "\n",
    "premediotipo\n",
    "\n",
    "shapiro.test(premediotipo$Precio)\n",
    "\n",
    "'Entire'\n",
    "Entire<-cleanplot[cleanplot$TipoAlquiler == \"Entire home/apt\", 'Precio']\n",
    "maxEntire<- sample(Entire, 5000, replace=FALSE)\n",
    "shapiro.test(maxEntire)\n",
    "'Private'\n",
    "Private<-cleanplot[cleanplot$TipoAlquiler == \"Private room\", 'Precio']\n",
    "maxPrivate<- sample(Private, 5000, replace=FALSE)\n",
    "shapiro.test(maxPrivate)\n",
    "'Shared'\n",
    "Shared<-cleanplot[cleanplot$TipoAlquiler == \"Shared room\", 'Precio']\n",
    "shapiro.test(Shared)\n",
    "\n",
    "'No se cumple la normalidad segun el test de shapiro, se utilizara el test de kruskal'\n",
    "\n",
    "kruskal.test( Precio ~ TipoAlquiler, data=cleanplot)\n",
    "\n",
    "pairwise.wilcox.test(cleanplot$Precio, cleanplot$TipoAlquiler,p.adjust.method = \"holm\")\n",
    "\n",
    "paste('Por el resultado del test se puede ver que hay una diferencia estadísticamente significativa entre los tipos de alquiler' )"
   ]
  },
  {
   "cell_type": "markdown",
   "metadata": {},
   "source": [
    "Filtra el dataframe cuyos tipo de alquiler sea  'Entire home/apt' y guardalo en un dataframe llamado \n",
    "*airbnb_entire*.\n",
    "Estas serán las entradas que tienen un alquiler del piso completo."
   ]
  },
  {
   "cell_type": "code",
   "execution_count": 1242,
   "metadata": {},
   "outputs": [
    {
     "data": {
      "text/html": [
       "<table class=\"dataframe\">\n",
       "<caption>A data.frame: 6 × 14</caption>\n",
       "<thead>\n",
       "\t<tr><th></th><th scope=col>CodigoPostal</th><th scope=col>Barrio</th><th scope=col>TipoPropiedad</th><th scope=col>TipoAlquiler</th><th scope=col>MaxOcupantes</th><th scope=col>NumBanyos</th><th scope=col>NumDormitorios</th><th scope=col>NumCamas</th><th scope=col>TipoCama</th><th scope=col>Comodidades</th><th scope=col>PiesCuadrados</th><th scope=col>Precio</th><th scope=col>Puntuacion</th><th scope=col>MetrosCuadrados</th></tr>\n",
       "\t<tr><th></th><th scope=col>&lt;fct&gt;</th><th scope=col>&lt;fct&gt;</th><th scope=col>&lt;fct&gt;</th><th scope=col>&lt;fct&gt;</th><th scope=col>&lt;int&gt;</th><th scope=col>&lt;dbl&gt;</th><th scope=col>&lt;int&gt;</th><th scope=col>&lt;int&gt;</th><th scope=col>&lt;fct&gt;</th><th scope=col>&lt;fct&gt;</th><th scope=col>&lt;int&gt;</th><th scope=col>&lt;int&gt;</th><th scope=col>&lt;int&gt;</th><th scope=col>&lt;dbl&gt;</th></tr>\n",
       "</thead>\n",
       "<tbody>\n",
       "\t<tr><th scope=row>1</th><td>28004</td><td>Universidad</td><td>Apartment</td><td>Entire home/apt</td><td>6</td><td>1</td><td>3</td><td> 5</td><td>Real Bed</td><td>TV,Internet,Wireless Internet,Air conditioning,Kitchen,Indoor fireplace,Heating,Family/kid friendly,Washer,Dryer,Smoke detector,Carbon monoxide detector,Essentials,Shampoo                                                                                                                                                                                     </td><td> NA</td><td>92</td><td> 96</td><td>      NA</td></tr>\n",
       "\t<tr><th scope=row>2</th><td>28004</td><td>Universidad</td><td>Apartment</td><td>Entire home/apt</td><td>3</td><td>1</td><td>2</td><td> 2</td><td>Real Bed</td><td>TV,Internet,Wireless Internet,Air conditioning,Kitchen,Doorman,Heating,Family/kid friendly,Washer,Essentials,Shampoo,Hangers,Hair dryer,Iron,Laptop friendly workspace                                                                                                                                                                                          </td><td> NA</td><td>55</td><td> 91</td><td>      NA</td></tr>\n",
       "\t<tr><th scope=row>3</th><td>28004</td><td>Universidad</td><td>Loft     </td><td>Entire home/apt</td><td>3</td><td>2</td><td>1</td><td> 1</td><td>Real Bed</td><td>TV,Internet,Wireless Internet,Air conditioning,Kitchen,Pets allowed,Breakfast,Elevator in building,Indoor fireplace,Buzzer/wireless intercom,Heating,Washer,Essentials,Shampoo,Hangers,Hair dryer,Iron,Laptop friendly workspace,translation missing: en.hosting_amenity_49,translation missing: en.hosting_amenity_50                                          </td><td> NA</td><td>60</td><td>100</td><td>      NA</td></tr>\n",
       "\t<tr><th scope=row>4</th><td>28015</td><td>Universidad</td><td>Apartment</td><td>Entire home/apt</td><td>5</td><td>1</td><td>1</td><td> 1</td><td>Real Bed</td><td>TV,Wireless Internet,Air conditioning,Kitchen,Smoking allowed,Pets allowed,Elevator in building,Heating,Family/kid friendly,Washer,Essentials,Iron                                                                                                                                                                                                              </td><td>538</td><td>75</td><td> 90</td><td>49.98181</td></tr>\n",
       "\t<tr><th scope=row>5</th><td>28004</td><td>Universidad</td><td>Apartment</td><td>Entire home/apt</td><td>2</td><td>1</td><td>0</td><td> 1</td><td>Real Bed</td><td>TV,Cable TV,Internet,Wireless Internet,Air conditioning,Wheelchair accessible,Kitchen,Doorman,Elevator in building,Buzzer/wireless intercom,Heating,Washer,Smoke detector,Carbon monoxide detector,First aid kit,Safety card,Fire extinguisher,Essentials,Shampoo,24-hour check-in,Hangers,Hair dryer,Iron,Laptop friendly workspace,Self Check-In,Doorman Entry</td><td> NA</td><td>55</td><td> 95</td><td>      NA</td></tr>\n",
       "\t<tr><th scope=row>6</th><td>28004</td><td>Universidad</td><td>Apartment</td><td>Entire home/apt</td><td>3</td><td>1</td><td>1</td><td>NA</td><td>Real Bed</td><td>TV,Wireless Internet,Air conditioning,Kitchen,Elevator in building,Buzzer/wireless intercom,Heating,Washer                                                                                                                                                                                                                                                      </td><td> NA</td><td>70</td><td> 84</td><td>      NA</td></tr>\n",
       "</tbody>\n",
       "</table>\n"
      ],
      "text/latex": [
       "A data.frame: 6 × 14\n",
       "\\begin{tabular}{r|llllllllllllll}\n",
       "  & CodigoPostal & Barrio & TipoPropiedad & TipoAlquiler & MaxOcupantes & NumBanyos & NumDormitorios & NumCamas & TipoCama & Comodidades & PiesCuadrados & Precio & Puntuacion & MetrosCuadrados\\\\\n",
       "  & <fct> & <fct> & <fct> & <fct> & <int> & <dbl> & <int> & <int> & <fct> & <fct> & <int> & <int> & <int> & <dbl>\\\\\n",
       "\\hline\n",
       "\t1 & 28004 & Universidad & Apartment & Entire home/apt & 6 & 1 & 3 &  5 & Real Bed & TV,Internet,Wireless Internet,Air conditioning,Kitchen,Indoor fireplace,Heating,Family/kid friendly,Washer,Dryer,Smoke detector,Carbon monoxide detector,Essentials,Shampoo                                                                                                                                                                                      &  NA & 92 &  96 &       NA\\\\\n",
       "\t2 & 28004 & Universidad & Apartment & Entire home/apt & 3 & 1 & 2 &  2 & Real Bed & TV,Internet,Wireless Internet,Air conditioning,Kitchen,Doorman,Heating,Family/kid friendly,Washer,Essentials,Shampoo,Hangers,Hair dryer,Iron,Laptop friendly workspace                                                                                                                                                                                           &  NA & 55 &  91 &       NA\\\\\n",
       "\t3 & 28004 & Universidad & Loft      & Entire home/apt & 3 & 2 & 1 &  1 & Real Bed & TV,Internet,Wireless Internet,Air conditioning,Kitchen,Pets allowed,Breakfast,Elevator in building,Indoor fireplace,Buzzer/wireless intercom,Heating,Washer,Essentials,Shampoo,Hangers,Hair dryer,Iron,Laptop friendly workspace,translation missing: en.hosting\\_amenity\\_49,translation missing: en.hosting\\_amenity\\_50                                           &  NA & 60 & 100 &       NA\\\\\n",
       "\t4 & 28015 & Universidad & Apartment & Entire home/apt & 5 & 1 & 1 &  1 & Real Bed & TV,Wireless Internet,Air conditioning,Kitchen,Smoking allowed,Pets allowed,Elevator in building,Heating,Family/kid friendly,Washer,Essentials,Iron                                                                                                                                                                                                               & 538 & 75 &  90 & 49.98181\\\\\n",
       "\t5 & 28004 & Universidad & Apartment & Entire home/apt & 2 & 1 & 0 &  1 & Real Bed & TV,Cable TV,Internet,Wireless Internet,Air conditioning,Wheelchair accessible,Kitchen,Doorman,Elevator in building,Buzzer/wireless intercom,Heating,Washer,Smoke detector,Carbon monoxide detector,First aid kit,Safety card,Fire extinguisher,Essentials,Shampoo,24-hour check-in,Hangers,Hair dryer,Iron,Laptop friendly workspace,Self Check-In,Doorman Entry &  NA & 55 &  95 &       NA\\\\\n",
       "\t6 & 28004 & Universidad & Apartment & Entire home/apt & 3 & 1 & 1 & NA & Real Bed & TV,Wireless Internet,Air conditioning,Kitchen,Elevator in building,Buzzer/wireless intercom,Heating,Washer                                                                                                                                                                                                                                                       &  NA & 70 &  84 &       NA\\\\\n",
       "\\end{tabular}\n"
      ],
      "text/markdown": [
       "\n",
       "A data.frame: 6 × 14\n",
       "\n",
       "| <!--/--> | CodigoPostal &lt;fct&gt; | Barrio &lt;fct&gt; | TipoPropiedad &lt;fct&gt; | TipoAlquiler &lt;fct&gt; | MaxOcupantes &lt;int&gt; | NumBanyos &lt;dbl&gt; | NumDormitorios &lt;int&gt; | NumCamas &lt;int&gt; | TipoCama &lt;fct&gt; | Comodidades &lt;fct&gt; | PiesCuadrados &lt;int&gt; | Precio &lt;int&gt; | Puntuacion &lt;int&gt; | MetrosCuadrados &lt;dbl&gt; |\n",
       "|---|---|---|---|---|---|---|---|---|---|---|---|---|---|---|\n",
       "| 1 | 28004 | Universidad | Apartment | Entire home/apt | 6 | 1 | 3 |  5 | Real Bed | TV,Internet,Wireless Internet,Air conditioning,Kitchen,Indoor fireplace,Heating,Family/kid friendly,Washer,Dryer,Smoke detector,Carbon monoxide detector,Essentials,Shampoo                                                                                                                                                                                      |  NA | 92 |  96 |       NA |\n",
       "| 2 | 28004 | Universidad | Apartment | Entire home/apt | 3 | 1 | 2 |  2 | Real Bed | TV,Internet,Wireless Internet,Air conditioning,Kitchen,Doorman,Heating,Family/kid friendly,Washer,Essentials,Shampoo,Hangers,Hair dryer,Iron,Laptop friendly workspace                                                                                                                                                                                           |  NA | 55 |  91 |       NA |\n",
       "| 3 | 28004 | Universidad | Loft      | Entire home/apt | 3 | 2 | 1 |  1 | Real Bed | TV,Internet,Wireless Internet,Air conditioning,Kitchen,Pets allowed,Breakfast,Elevator in building,Indoor fireplace,Buzzer/wireless intercom,Heating,Washer,Essentials,Shampoo,Hangers,Hair dryer,Iron,Laptop friendly workspace,translation missing: en.hosting_amenity_49,translation missing: en.hosting_amenity_50                                           |  NA | 60 | 100 |       NA |\n",
       "| 4 | 28015 | Universidad | Apartment | Entire home/apt | 5 | 1 | 1 |  1 | Real Bed | TV,Wireless Internet,Air conditioning,Kitchen,Smoking allowed,Pets allowed,Elevator in building,Heating,Family/kid friendly,Washer,Essentials,Iron                                                                                                                                                                                                               | 538 | 75 |  90 | 49.98181 |\n",
       "| 5 | 28004 | Universidad | Apartment | Entire home/apt | 2 | 1 | 0 |  1 | Real Bed | TV,Cable TV,Internet,Wireless Internet,Air conditioning,Wheelchair accessible,Kitchen,Doorman,Elevator in building,Buzzer/wireless intercom,Heating,Washer,Smoke detector,Carbon monoxide detector,First aid kit,Safety card,Fire extinguisher,Essentials,Shampoo,24-hour check-in,Hangers,Hair dryer,Iron,Laptop friendly workspace,Self Check-In,Doorman Entry |  NA | 55 |  95 |       NA |\n",
       "| 6 | 28004 | Universidad | Apartment | Entire home/apt | 3 | 1 | 1 | NA | Real Bed | TV,Wireless Internet,Air conditioning,Kitchen,Elevator in building,Buzzer/wireless intercom,Heating,Washer                                                                                                                                                                                                                                                       |  NA | 70 |  84 |       NA |\n",
       "\n"
      ],
      "text/plain": [
       "  CodigoPostal Barrio      TipoPropiedad TipoAlquiler    MaxOcupantes NumBanyos\n",
       "1 28004        Universidad Apartment     Entire home/apt 6            1        \n",
       "2 28004        Universidad Apartment     Entire home/apt 3            1        \n",
       "3 28004        Universidad Loft          Entire home/apt 3            2        \n",
       "4 28015        Universidad Apartment     Entire home/apt 5            1        \n",
       "5 28004        Universidad Apartment     Entire home/apt 2            1        \n",
       "6 28004        Universidad Apartment     Entire home/apt 3            1        \n",
       "  NumDormitorios NumCamas TipoCama\n",
       "1 3               5       Real Bed\n",
       "2 2               2       Real Bed\n",
       "3 1               1       Real Bed\n",
       "4 1               1       Real Bed\n",
       "5 0               1       Real Bed\n",
       "6 1              NA       Real Bed\n",
       "  Comodidades                                                                                                                                                                                                                                                                                                                                                     \n",
       "1 TV,Internet,Wireless Internet,Air conditioning,Kitchen,Indoor fireplace,Heating,Family/kid friendly,Washer,Dryer,Smoke detector,Carbon monoxide detector,Essentials,Shampoo                                                                                                                                                                                     \n",
       "2 TV,Internet,Wireless Internet,Air conditioning,Kitchen,Doorman,Heating,Family/kid friendly,Washer,Essentials,Shampoo,Hangers,Hair dryer,Iron,Laptop friendly workspace                                                                                                                                                                                          \n",
       "3 TV,Internet,Wireless Internet,Air conditioning,Kitchen,Pets allowed,Breakfast,Elevator in building,Indoor fireplace,Buzzer/wireless intercom,Heating,Washer,Essentials,Shampoo,Hangers,Hair dryer,Iron,Laptop friendly workspace,translation missing: en.hosting_amenity_49,translation missing: en.hosting_amenity_50                                          \n",
       "4 TV,Wireless Internet,Air conditioning,Kitchen,Smoking allowed,Pets allowed,Elevator in building,Heating,Family/kid friendly,Washer,Essentials,Iron                                                                                                                                                                                                              \n",
       "5 TV,Cable TV,Internet,Wireless Internet,Air conditioning,Wheelchair accessible,Kitchen,Doorman,Elevator in building,Buzzer/wireless intercom,Heating,Washer,Smoke detector,Carbon monoxide detector,First aid kit,Safety card,Fire extinguisher,Essentials,Shampoo,24-hour check-in,Hangers,Hair dryer,Iron,Laptop friendly workspace,Self Check-In,Doorman Entry\n",
       "6 TV,Wireless Internet,Air conditioning,Kitchen,Elevator in building,Buzzer/wireless intercom,Heating,Washer                                                                                                                                                                                                                                                      \n",
       "  PiesCuadrados Precio Puntuacion MetrosCuadrados\n",
       "1  NA           92      96              NA       \n",
       "2  NA           55      91              NA       \n",
       "3  NA           60     100              NA       \n",
       "4 538           75      90        49.98181       \n",
       "5  NA           55      95              NA       \n",
       "6  NA           70      84              NA       "
      ]
     },
     "metadata": {},
     "output_type": "display_data"
    }
   ],
   "source": [
    "airbnb_entire<-filter(airbnb, TipoAlquiler == 'Entire home/apt')\n",
    "head(airbnb_entire)"
   ]
  },
  {
   "cell_type": "markdown",
   "metadata": {},
   "source": [
    "¿Cuales son los 5 barrios que tienen un mayor número de apartamentos enteros en alquiler?\n",
    "Nota: Mirar solo en airbnb_entire. A partir de este punto y hasta que se diga lo contrario partiremos de airbnb_entire."
   ]
  },
  {
   "cell_type": "code",
   "execution_count": 1243,
   "metadata": {},
   "outputs": [
    {
     "data": {
      "text/html": [
       "'Top 5 barrios con mas apartamentos enteros'"
      ],
      "text/latex": [
       "'Top 5 barrios con mas apartamentos enteros'"
      ],
      "text/markdown": [
       "'Top 5 barrios con mas apartamentos enteros'"
      ],
      "text/plain": [
       "[1] \"Top 5 barrios con mas apartamentos enteros\""
      ]
     },
     "metadata": {},
     "output_type": "display_data"
    },
    {
     "data": {
      "text/plain": [
       "\n",
       "Embajadores Universidad     Palacio         Sol      Cortes \n",
       "       1228         984         769         701         574 "
      ]
     },
     "metadata": {},
     "output_type": "display_data"
    }
   ],
   "source": [
    "topbarrio<-sort(table(airbnb_entire$Barrio),decreasing=TRUE)\n",
    "\n",
    "'Top 5 barrios con mas apartamentos enteros'\n",
    "head(topbarrio,5)"
   ]
  },
  {
   "cell_type": "markdown",
   "metadata": {},
   "source": [
    "¿Cuales son los 5 barrios que tienen un mayor precio medio de alquiler para apartamentos enteros (es decir, del dataframe airbnb_entire)?\n",
    "\n",
    "¿Cual es su precio medio?\n",
    "\n",
    "Ayuda: Usa la función aggregate `aggregate(.~colname,df,mean,na.rm=TRUE)`"
   ]
  },
  {
   "cell_type": "code",
   "execution_count": 1244,
   "metadata": {},
   "outputs": [
    {
     "data": {
      "text/html": [
       "<table class=\"dataframe\">\n",
       "<caption>A data.frame: 5 × 2</caption>\n",
       "<thead>\n",
       "\t<tr><th></th><th scope=col>Barrio</th><th scope=col>PrecioMedio</th></tr>\n",
       "\t<tr><th></th><th scope=col>&lt;fct&gt;</th><th scope=col>&lt;dbl&gt;</th></tr>\n",
       "</thead>\n",
       "<tbody>\n",
       "\t<tr><th scope=row>77</th><td>Palomas      </td><td>309.7500</td></tr>\n",
       "\t<tr><th scope=row>50</th><td>Fuentelareina</td><td>180.0000</td></tr>\n",
       "\t<tr><th scope=row>93</th><td>Recoletos    </td><td>161.9254</td></tr>\n",
       "\t<tr><th scope=row>43</th><td>El Plantío   </td><td>150.0000</td></tr>\n",
       "\t<tr><th scope=row>30</th><td>Castellana   </td><td>141.3889</td></tr>\n",
       "</tbody>\n",
       "</table>\n"
      ],
      "text/latex": [
       "A data.frame: 5 × 2\n",
       "\\begin{tabular}{r|ll}\n",
       "  & Barrio & PrecioMedio\\\\\n",
       "  & <fct> & <dbl>\\\\\n",
       "\\hline\n",
       "\t77 & Palomas       & 309.7500\\\\\n",
       "\t50 & Fuentelareina & 180.0000\\\\\n",
       "\t93 & Recoletos     & 161.9254\\\\\n",
       "\t43 & El Plantío    & 150.0000\\\\\n",
       "\t30 & Castellana    & 141.3889\\\\\n",
       "\\end{tabular}\n"
      ],
      "text/markdown": [
       "\n",
       "A data.frame: 5 × 2\n",
       "\n",
       "| <!--/--> | Barrio &lt;fct&gt; | PrecioMedio &lt;dbl&gt; |\n",
       "|---|---|---|\n",
       "| 77 | Palomas       | 309.7500 |\n",
       "| 50 | Fuentelareina | 180.0000 |\n",
       "| 93 | Recoletos     | 161.9254 |\n",
       "| 43 | El Plantío    | 150.0000 |\n",
       "| 30 | Castellana    | 141.3889 |\n",
       "\n"
      ],
      "text/plain": [
       "   Barrio        PrecioMedio\n",
       "77 Palomas       309.7500   \n",
       "50 Fuentelareina 180.0000   \n",
       "93 Recoletos     161.9254   \n",
       "43 El Plantío    150.0000   \n",
       "30 Castellana    141.3889   "
      ]
     },
     "metadata": {},
     "output_type": "display_data"
    }
   ],
   "source": [
    "top_price<- aggregate(Precio~Barrio, airbnb_entire,mean,na.rm=TRUE )\n",
    "colnames(top_price)<-c('Barrio','PrecioMedio')\n",
    "\n",
    "head(top_price[order(-top_price$PrecioMedio),],5)\n"
   ]
  },
  {
   "cell_type": "markdown",
   "metadata": {},
   "source": [
    "¿Cuantos apartamentos hay en cada uno de esos barrios?\n",
    "\n",
    "Mostrar una dataframe con el nombre del barrio, el precio y el número de entradas.\n",
    "\n",
    "Ayuda: Podeis crear un nuevo dataframe con las columnas \"Barrio\" y \"Freq\" que contenga el número de entradas en cada barrio y hacer un merge con el dataframe del punto anterior."
   ]
  },
  {
   "cell_type": "code",
   "execution_count": 1245,
   "metadata": {},
   "outputs": [
    {
     "data": {
      "text/html": [
       "<table class=\"dataframe\">\n",
       "<caption>A data.frame: 5 × 3</caption>\n",
       "<thead>\n",
       "\t<tr><th></th><th scope=col>Barrio</th><th scope=col>PrecioMedio</th><th scope=col>Freq</th></tr>\n",
       "\t<tr><th></th><th scope=col>&lt;fct&gt;</th><th scope=col>&lt;dbl&gt;</th><th scope=col>&lt;int&gt;</th></tr>\n",
       "</thead>\n",
       "<tbody>\n",
       "\t<tr><th scope=row>77</th><td>Palomas      </td><td>309.7500</td><td>  4</td></tr>\n",
       "\t<tr><th scope=row>50</th><td>Fuentelareina</td><td>180.0000</td><td>  2</td></tr>\n",
       "\t<tr><th scope=row>93</th><td>Recoletos    </td><td>161.9254</td><td>135</td></tr>\n",
       "\t<tr><th scope=row>43</th><td>El Plantío   </td><td>150.0000</td><td>  1</td></tr>\n",
       "\t<tr><th scope=row>30</th><td>Castellana   </td><td>141.3889</td><td> 73</td></tr>\n",
       "</tbody>\n",
       "</table>\n"
      ],
      "text/latex": [
       "A data.frame: 5 × 3\n",
       "\\begin{tabular}{r|lll}\n",
       "  & Barrio & PrecioMedio & Freq\\\\\n",
       "  & <fct> & <dbl> & <int>\\\\\n",
       "\\hline\n",
       "\t77 & Palomas       & 309.7500 &   4\\\\\n",
       "\t50 & Fuentelareina & 180.0000 &   2\\\\\n",
       "\t93 & Recoletos     & 161.9254 & 135\\\\\n",
       "\t43 & El Plantío    & 150.0000 &   1\\\\\n",
       "\t30 & Castellana    & 141.3889 &  73\\\\\n",
       "\\end{tabular}\n"
      ],
      "text/markdown": [
       "\n",
       "A data.frame: 5 × 3\n",
       "\n",
       "| <!--/--> | Barrio &lt;fct&gt; | PrecioMedio &lt;dbl&gt; | Freq &lt;int&gt; |\n",
       "|---|---|---|---|\n",
       "| 77 | Palomas       | 309.7500 |   4 |\n",
       "| 50 | Fuentelareina | 180.0000 |   2 |\n",
       "| 93 | Recoletos     | 161.9254 | 135 |\n",
       "| 43 | El Plantío    | 150.0000 |   1 |\n",
       "| 30 | Castellana    | 141.3889 |  73 |\n",
       "\n"
      ],
      "text/plain": [
       "   Barrio        PrecioMedio Freq\n",
       "77 Palomas       309.7500      4 \n",
       "50 Fuentelareina 180.0000      2 \n",
       "93 Recoletos     161.9254    135 \n",
       "43 El Plantío    150.0000      1 \n",
       "30 Castellana    141.3889     73 "
      ]
     },
     "metadata": {},
     "output_type": "display_data"
    }
   ],
   "source": [
    "barrioFreq<-count(airbnb_entire, Barrio, sort = TRUE)\n",
    "\n",
    "colnames(barrioFreq)<-c('Barrio','Freq')\n",
    "\n",
    "dfBarrio<-merge(top_price,barrioFreq, by='Barrio',all.x=TRUE)\n",
    "\n",
    "\n",
    "dfBarrio<-dfBarrio[order(-dfBarrio$PrecioMedio),]\n",
    "\n",
    "head(dfBarrio,5)"
   ]
  },
  {
   "cell_type": "markdown",
   "metadata": {},
   "source": [
    "Partiendo del dataframe anterior, muestra los 5 barrios con mayor precio, pero que tengan más de 100 entradas de alquiler."
   ]
  },
  {
   "cell_type": "code",
   "execution_count": 1246,
   "metadata": {},
   "outputs": [
    {
     "data": {
      "text/html": [
       "<table class=\"dataframe\">\n",
       "<caption>A data.frame: 5 × 3</caption>\n",
       "<thead>\n",
       "\t<tr><th></th><th scope=col>Barrio</th><th scope=col>PrecioMedio</th><th scope=col>Freq</th></tr>\n",
       "\t<tr><th></th><th scope=col>&lt;fct&gt;</th><th scope=col>&lt;dbl&gt;</th><th scope=col>&lt;int&gt;</th></tr>\n",
       "</thead>\n",
       "<tbody>\n",
       "\t<tr><th scope=row>1</th><td>Recoletos</td><td>161.92537</td><td>135</td></tr>\n",
       "\t<tr><th scope=row>2</th><td>Goya     </td><td>111.33803</td><td>142</td></tr>\n",
       "\t<tr><th scope=row>3</th><td>Sol      </td><td>100.75036</td><td>701</td></tr>\n",
       "\t<tr><th scope=row>4</th><td>Trafalgar</td><td> 98.57848</td><td>223</td></tr>\n",
       "\t<tr><th scope=row>5</th><td>Justicia </td><td> 98.25468</td><td>534</td></tr>\n",
       "</tbody>\n",
       "</table>\n"
      ],
      "text/latex": [
       "A data.frame: 5 × 3\n",
       "\\begin{tabular}{r|lll}\n",
       "  & Barrio & PrecioMedio & Freq\\\\\n",
       "  & <fct> & <dbl> & <int>\\\\\n",
       "\\hline\n",
       "\t1 & Recoletos & 161.92537 & 135\\\\\n",
       "\t2 & Goya      & 111.33803 & 142\\\\\n",
       "\t3 & Sol       & 100.75036 & 701\\\\\n",
       "\t4 & Trafalgar &  98.57848 & 223\\\\\n",
       "\t5 & Justicia  &  98.25468 & 534\\\\\n",
       "\\end{tabular}\n"
      ],
      "text/markdown": [
       "\n",
       "A data.frame: 5 × 3\n",
       "\n",
       "| <!--/--> | Barrio &lt;fct&gt; | PrecioMedio &lt;dbl&gt; | Freq &lt;int&gt; |\n",
       "|---|---|---|---|\n",
       "| 1 | Recoletos | 161.92537 | 135 |\n",
       "| 2 | Goya      | 111.33803 | 142 |\n",
       "| 3 | Sol       | 100.75036 | 701 |\n",
       "| 4 | Trafalgar |  98.57848 | 223 |\n",
       "| 5 | Justicia  |  98.25468 | 534 |\n",
       "\n"
      ],
      "text/plain": [
       "  Barrio    PrecioMedio Freq\n",
       "1 Recoletos 161.92537   135 \n",
       "2 Goya      111.33803   142 \n",
       "3 Sol       100.75036   701 \n",
       "4 Trafalgar  98.57848   223 \n",
       "5 Justicia   98.25468   534 "
      ]
     },
     "metadata": {},
     "output_type": "display_data"
    }
   ],
   "source": [
    "dfBarrio%>%filter(Freq>100)%>%arrange(desc(PrecioMedio))->dfBarrio\n",
    "dfBarrio<-head(dfBarrio,5)\n",
    "dfBarrio"
   ]
  },
  {
   "cell_type": "markdown",
   "metadata": {},
   "source": [
    "Dibuja el diagrama de densidad de distribución de los diferentes precios. Serían 5 gráficas, una por cada barrio."
   ]
  },
  {
   "cell_type": "code",
   "execution_count": 1247,
   "metadata": {},
   "outputs": [
    {
     "data": {
      "image/png": "[encoded data removed]",
      "text/plain": [
       "plot without title"
      ]
     },
     "metadata": {
      "image/png": {
       "height": 240,
       "width": 360
      }
     },
     "output_type": "display_data"
    },
    {
     "data": {
      "image/png": "[encoded data removed]",
      "text/plain": [
       "plot without title"
      ]
     },
     "metadata": {
      "image/png": {
       "height": 240,
       "width": 360
      }
     },
     "output_type": "display_data"
    },
    {
     "data": {
      "image/png": "[encoded data removed]",
      "text/plain": [
       "plot without title"
      ]
     },
     "metadata": {
      "image/png": {
       "height": 240,
       "width": 360
      }
     },
     "output_type": "display_data"
    },
    {
     "data": {
      "image/png": "[encoded data removed]",
      "text/plain": [
       "plot without title"
      ]
     },
     "metadata": {
      "image/png": {
       "height": 240,
       "width": 360
      }
     },
     "output_type": "display_data"
    },
    {
     "data": {
      "image/png": "[encoded data removed]",
      "text/plain": [
       "plot without title"
      ]
     },
     "metadata": {
      "image/png": {
       "height": 240,
       "width": 360
      }
     },
     "output_type": "display_data"
    },
    {
     "data": {
      "image/png": "[encoded data removed]",
      "text/plain": [
       "plot without title"
      ]
     },
     "metadata": {
      "image/png": {
       "height": 240,
       "width": 360
      }
     },
     "output_type": "display_data"
    }
   ],
   "source": [
    "precios<- airbnb_entire[c(\"Precio\", \"Barrio\")]\n",
    "\n",
    "dfb1<-merge(dfBarrio,precios, by='Barrio', all.x=TRUE)\n",
    "\n",
    "na.omit(dfb1)->dfb\n",
    "\n",
    "dfb[dfb$Barrio=='Recoletos',]->Recoletos\n",
    "dfb[dfb$Barrio==\"Goya\",]->Goya\n",
    "dfb[dfb$Barrio=='Justicia',]->Justicia\n",
    "dfb[dfb$Barrio=='Recoletos',]->Recoletos\n",
    "dfb[dfb$Barrio=='Sol',]->Sol\n",
    "dfb[dfb$Barrio=='Trafalgar',]->Trafalgar\n",
    "\n",
    "\n",
    "\n",
    "ggplot(Goya, aes(x= Precio, )) +\n",
    "  geom_density(color='BLUE')\n",
    "ggplot(Recoletos, aes(x = Precio)) +\n",
    "  geom_density(color='purple')\n",
    "ggplot(Sol, aes(x = Precio)) +\n",
    "  geom_density(color='yellow')\n",
    "ggplot(Trafalgar, aes(x = Precio)) +\n",
    "  geom_density(color='green')\n",
    "ggplot(Justicia, aes(x = Precio)) +\n",
    "  geom_density(color='red')\n",
    "\n",
    "ggplot(dfb, aes(x= Precio, fill=Barrio)) +\n",
    "  geom_density(alpha=0.25)"
   ]
  },
  {
   "cell_type": "markdown",
   "metadata": {},
   "source": [
    "Calcula el tamaño medio, en metros cuadrados, para los 5 barrios anteriores y muestralo en el mismo dataframe junto con el precio y número de entradas"
   ]
  },
  {
   "cell_type": "code",
   "execution_count": 1250,
   "metadata": {},
   "outputs": [
    {
     "data": {
      "text/html": [
       "<table class=\"dataframe\">\n",
       "<caption>A data.frame: 5 × 4</caption>\n",
       "<thead>\n",
       "\t<tr><th scope=col>Barrio</th><th scope=col>PrecioMedio</th><th scope=col>Freq</th><th scope=col>MediaMetrosCuadrados</th></tr>\n",
       "\t<tr><th scope=col>&lt;fct&gt;</th><th scope=col>&lt;dbl&gt;</th><th scope=col>&lt;int&gt;</th><th scope=col>&lt;dbl&gt;</th></tr>\n",
       "</thead>\n",
       "<tbody>\n",
       "\t<tr><td>Goya     </td><td>111.33803</td><td>142</td><td>51.68504</td></tr>\n",
       "\t<tr><td>Justicia </td><td> 98.25468</td><td>534</td><td>28.52669</td></tr>\n",
       "\t<tr><td>Recoletos</td><td>161.92537</td><td>135</td><td>26.66316</td></tr>\n",
       "\t<tr><td>Sol      </td><td>100.75036</td><td>701</td><td>45.61692</td></tr>\n",
       "\t<tr><td>Trafalgar</td><td> 98.57848</td><td>223</td><td>29.30426</td></tr>\n",
       "</tbody>\n",
       "</table>\n"
      ],
      "text/latex": [
       "A data.frame: 5 × 4\n",
       "\\begin{tabular}{llll}\n",
       " Barrio & PrecioMedio & Freq & MediaMetrosCuadrados\\\\\n",
       " <fct> & <dbl> & <int> & <dbl>\\\\\n",
       "\\hline\n",
       "\t Goya      & 111.33803 & 142 & 51.68504\\\\\n",
       "\t Justicia  &  98.25468 & 534 & 28.52669\\\\\n",
       "\t Recoletos & 161.92537 & 135 & 26.66316\\\\\n",
       "\t Sol       & 100.75036 & 701 & 45.61692\\\\\n",
       "\t Trafalgar &  98.57848 & 223 & 29.30426\\\\\n",
       "\\end{tabular}\n"
      ],
      "text/markdown": [
       "\n",
       "A data.frame: 5 × 4\n",
       "\n",
       "| Barrio &lt;fct&gt; | PrecioMedio &lt;dbl&gt; | Freq &lt;int&gt; | MediaMetrosCuadrados &lt;dbl&gt; |\n",
       "|---|---|---|---|\n",
       "| Goya      | 111.33803 | 142 | 51.68504 |\n",
       "| Justicia  |  98.25468 | 534 | 28.52669 |\n",
       "| Recoletos | 161.92537 | 135 | 26.66316 |\n",
       "| Sol       | 100.75036 | 701 | 45.61692 |\n",
       "| Trafalgar |  98.57848 | 223 | 29.30426 |\n",
       "\n"
      ],
      "text/plain": [
       "  Barrio    PrecioMedio Freq MediaMetrosCuadrados\n",
       "1 Goya      111.33803   142  51.68504            \n",
       "2 Justicia   98.25468   534  28.52669            \n",
       "3 Recoletos 161.92537   135  26.66316            \n",
       "4 Sol       100.75036   701  45.61692            \n",
       "5 Trafalgar  98.57848   223  29.30426            "
      ]
     },
     "metadata": {},
     "output_type": "display_data"
    }
   ],
   "source": [
    "mediametros<- aggregate(MetrosCuadrados~Barrio, airbnb_entire,mean,na.rm=TRUE )\n",
    "colnames(mediametros)<-c('Barrio','MediaMetrosCuadrados')\n",
    "dfmetros<- merge(dfBarrio,mediametros, by='Barrio',all.x=TRUE)\n",
    "dfmetros"
   ]
  },
  {
   "cell_type": "markdown",
   "metadata": {},
   "source": [
    "Dibuja el diagrama de densidad de distribución de los diferentes tamaños de apartamentos. Serían 5 gráficas, una por cada barrio."
   ]
  },
  {
   "cell_type": "code",
   "execution_count": 1249,
   "metadata": {},
   "outputs": [
    {
     "data": {
      "image/png": "[encoded data removed]",
      "text/plain": [
       "plot without title"
      ]
     },
     "metadata": {
      "image/png": {
       "height": 240,
       "width": 360
      }
     },
     "output_type": "display_data"
    }
   ],
   "source": [
    "mmetros<-airbnb_entire[c(\"MetrosCuadrados\", \"Barrio\")]\n",
    "\n",
    "dfm<-merge(dfBarrio,mmetros, by='Barrio', all.x=TRUE)\n",
    "\n",
    "dfm1<-na.omit(dfm)\n",
    "\n",
    "ggplot(dfm1, aes(x= MetrosCuadrados, fill=Barrio)) +\n",
    "  geom_density(alpha=0.25)"
   ]
  },
  {
   "cell_type": "markdown",
   "metadata": {},
   "source": [
    "Esta claro que las medias de metros cuadrados de cada uno de estos 5 barrios parecen ser diferentes, pero ¿son estadísticamente diferentes?\n",
    "¿Que test habría que usar para comprobarlo?"
   ]
  },
  {
   "cell_type": "code",
   "execution_count": 1264,
   "metadata": {},
   "outputs": [
    {
     "data": {
      "text/plain": [
       "\n",
       "\tKruskal-Wallis rank sum test\n",
       "\n",
       "data:  MediaMetrosCuadrados by Barrio\n",
       "Kruskal-Wallis chi-squared = 4, df = 4, p-value = 0.406\n"
      ]
     },
     "metadata": {},
     "output_type": "display_data"
    },
    {
     "data": {
      "text/plain": [
       "\n",
       "\tKruskal-Wallis rank sum test\n",
       "\n",
       "data:  MetrosCuadrados by Barrio\n",
       "Kruskal-Wallis chi-squared = 1.882, df = 4, p-value = 0.7574\n"
      ]
     },
     "metadata": {},
     "output_type": "display_data"
    },
    {
     "name": "stdout",
     "output_type": "stream",
     "text": [
      "[1] \"La diferencia no es estadisticamente significativa\"\n"
     ]
    }
   ],
   "source": [
    "kruskal.test(MediaMetrosCuadrados ~ Barrio, data=dfmetros)\n",
    "\n",
    "kruskal.test(MetrosCuadrados ~ Barrio, data=dfm1)\n",
    "\n",
    "\n",
    "print(\"La diferencia no es estadisticamente significativa\")"
   ]
  },
  {
   "cell_type": "markdown",
   "metadata": {},
   "source": [
    "Para únicamente los pisos de alquiler en el barrio de Sol:\n",
    "\n",
    "``barrio_sol<-subset(airbnb_entire,Barrio==\"Sol\")``\n",
    "\n",
    "Calcular un modelo lineal que combine alguna de estas variables:\n",
    "* NumBanyos\n",
    "* NumDormitorios\n",
    "* MaxOcupantes\n",
    "* MetrosCuadrados"
   ]
  },
  {
   "cell_type": "code",
   "execution_count": 1121,
   "metadata": {},
   "outputs": [],
   "source": [
    "barrio_sol<-subset(airbnb_entire,Barrio==\"Sol\")\n"
   ]
  },
  {
   "cell_type": "markdown",
   "metadata": {},
   "source": [
    "Primero calculamos la correlación para ver como se relacionan estas variables entre sí."
   ]
  },
  {
   "cell_type": "code",
   "execution_count": 958,
   "metadata": {},
   "outputs": [
    {
     "data": {
      "text/html": [
       "<table class=\"dataframe\">\n",
       "<caption>A matrix: 4 × 4 of type dbl</caption>\n",
       "<thead>\n",
       "\t<tr><th></th><th scope=col>NumBanyos</th><th scope=col>NumDormitorios</th><th scope=col>MaxOcupantes</th><th scope=col>MetrosCuadrados</th></tr>\n",
       "</thead>\n",
       "<tbody>\n",
       "\t<tr><th scope=row>NumBanyos</th><td>1.0000000</td><td>0.6761906</td><td>0.6578162</td><td>NA</td></tr>\n",
       "\t<tr><th scope=row>NumDormitorios</th><td>0.6761906</td><td>1.0000000</td><td>0.7594598</td><td>NA</td></tr>\n",
       "\t<tr><th scope=row>MaxOcupantes</th><td>0.6578162</td><td>0.7594598</td><td>1.0000000</td><td>NA</td></tr>\n",
       "\t<tr><th scope=row>MetrosCuadrados</th><td>       NA</td><td>       NA</td><td>       NA</td><td> 1</td></tr>\n",
       "</tbody>\n",
       "</table>\n"
      ],
      "text/latex": [
       "A matrix: 4 × 4 of type dbl\n",
       "\\begin{tabular}{r|llll}\n",
       "  & NumBanyos & NumDormitorios & MaxOcupantes & MetrosCuadrados\\\\\n",
       "\\hline\n",
       "\tNumBanyos & 1.0000000 & 0.6761906 & 0.6578162 & NA\\\\\n",
       "\tNumDormitorios & 0.6761906 & 1.0000000 & 0.7594598 & NA\\\\\n",
       "\tMaxOcupantes & 0.6578162 & 0.7594598 & 1.0000000 & NA\\\\\n",
       "\tMetrosCuadrados &        NA &        NA &        NA &  1\\\\\n",
       "\\end{tabular}\n"
      ],
      "text/markdown": [
       "\n",
       "A matrix: 4 × 4 of type dbl\n",
       "\n",
       "| <!--/--> | NumBanyos | NumDormitorios | MaxOcupantes | MetrosCuadrados |\n",
       "|---|---|---|---|---|\n",
       "| NumBanyos | 1.0000000 | 0.6761906 | 0.6578162 | NA |\n",
       "| NumDormitorios | 0.6761906 | 1.0000000 | 0.7594598 | NA |\n",
       "| MaxOcupantes | 0.6578162 | 0.7594598 | 1.0000000 | NA |\n",
       "| MetrosCuadrados |        NA |        NA |        NA |  1 |\n",
       "\n"
      ],
      "text/plain": [
       "                NumBanyos NumDormitorios MaxOcupantes MetrosCuadrados\n",
       "NumBanyos       1.0000000 0.6761906      0.6578162    NA             \n",
       "NumDormitorios  0.6761906 1.0000000      0.7594598    NA             \n",
       "MaxOcupantes    0.6578162 0.7594598      1.0000000    NA             \n",
       "MetrosCuadrados        NA        NA             NA     1             "
      ]
     },
     "metadata": {},
     "output_type": "display_data"
    },
    {
     "data": {
      "text/html": [
       "'sin NA en MetrosCuadrados'"
      ],
      "text/latex": [
       "'sin NA en MetrosCuadrados'"
      ],
      "text/markdown": [
       "'sin NA en MetrosCuadrados'"
      ],
      "text/plain": [
       "[1] \"sin NA en MetrosCuadrados\""
      ]
     },
     "metadata": {},
     "output_type": "display_data"
    },
    {
     "data": {
      "text/html": [
       "<table class=\"dataframe\">\n",
       "<caption>A matrix: 4 × 4 of type dbl</caption>\n",
       "<thead>\n",
       "\t<tr><th></th><th scope=col>NumBanyos</th><th scope=col>NumDormitorios</th><th scope=col>MaxOcupantes</th><th scope=col>MetrosCuadrados</th></tr>\n",
       "</thead>\n",
       "<tbody>\n",
       "\t<tr><th scope=row>NumBanyos</th><td>1.0000000</td><td>0.6873719</td><td>0.7017290</td><td>0.4820549</td></tr>\n",
       "\t<tr><th scope=row>NumDormitorios</th><td>0.6873719</td><td>1.0000000</td><td>0.7853809</td><td>0.5684521</td></tr>\n",
       "\t<tr><th scope=row>MaxOcupantes</th><td>0.7017290</td><td>0.7853809</td><td>1.0000000</td><td>0.4286233</td></tr>\n",
       "\t<tr><th scope=row>MetrosCuadrados</th><td>0.4820549</td><td>0.5684521</td><td>0.4286233</td><td>1.0000000</td></tr>\n",
       "</tbody>\n",
       "</table>\n"
      ],
      "text/latex": [
       "A matrix: 4 × 4 of type dbl\n",
       "\\begin{tabular}{r|llll}\n",
       "  & NumBanyos & NumDormitorios & MaxOcupantes & MetrosCuadrados\\\\\n",
       "\\hline\n",
       "\tNumBanyos & 1.0000000 & 0.6873719 & 0.7017290 & 0.4820549\\\\\n",
       "\tNumDormitorios & 0.6873719 & 1.0000000 & 0.7853809 & 0.5684521\\\\\n",
       "\tMaxOcupantes & 0.7017290 & 0.7853809 & 1.0000000 & 0.4286233\\\\\n",
       "\tMetrosCuadrados & 0.4820549 & 0.5684521 & 0.4286233 & 1.0000000\\\\\n",
       "\\end{tabular}\n"
      ],
      "text/markdown": [
       "\n",
       "A matrix: 4 × 4 of type dbl\n",
       "\n",
       "| <!--/--> | NumBanyos | NumDormitorios | MaxOcupantes | MetrosCuadrados |\n",
       "|---|---|---|---|---|\n",
       "| NumBanyos | 1.0000000 | 0.6873719 | 0.7017290 | 0.4820549 |\n",
       "| NumDormitorios | 0.6873719 | 1.0000000 | 0.7853809 | 0.5684521 |\n",
       "| MaxOcupantes | 0.7017290 | 0.7853809 | 1.0000000 | 0.4286233 |\n",
       "| MetrosCuadrados | 0.4820549 | 0.5684521 | 0.4286233 | 1.0000000 |\n",
       "\n"
      ],
      "text/plain": [
       "                NumBanyos NumDormitorios MaxOcupantes MetrosCuadrados\n",
       "NumBanyos       1.0000000 0.6873719      0.7017290    0.4820549      \n",
       "NumDormitorios  0.6873719 1.0000000      0.7853809    0.5684521      \n",
       "MaxOcupantes    0.7017290 0.7853809      1.0000000    0.4286233      \n",
       "MetrosCuadrados 0.4820549 0.5684521      0.4286233    1.0000000      "
      ]
     },
     "metadata": {},
     "output_type": "display_data"
    }
   ],
   "source": [
    "calcular<-barrio_sol %>% select(c(\"NumBanyos\", \"NumDormitorios\", \"MaxOcupantes\", \"MetrosCuadrados\"))\n",
    "calcular2<-barrio_sol %>% select(c(\"NumBanyos\", \"NumDormitorios\", \"MaxOcupantes\", \"MetrosCuadrados\"))%>% drop_na(MetrosCuadrados)\n",
    "cor(calcular)\n",
    "\n",
    "'sin NA en MetrosCuadrados'\n",
    "\n",
    "cor(calcular2)\n"
   ]
  },
  {
   "cell_type": "markdown",
   "metadata": {},
   "source": [
    "Se observa que la correlación entre el número de dormitorios y los metros cuadrados es sorprendentemente baja.\n",
    "¿Son de fiar esos números?\n",
    "\n",
    "Mediante un histograma o curvas de densidad podemos descartar números que notienen sentido en el dataframe barrio_sol,\n",
    "para tener una matriz de correlación que tenga mayor sentido.\n"
   ]
  },
  {
   "cell_type": "code",
   "execution_count": 959,
   "metadata": {},
   "outputs": [
    {
     "data": {
      "image/png": "[encoded data removed]",
      "text/plain": [
       "plot without title"
      ]
     },
     "metadata": {
      "image/png": {
       "height": 240,
       "width": 360
      }
     },
     "output_type": "display_data"
    },
    {
     "data": {
      "text/html": [
       "'No son de fiar por tener muchos valores a 0'"
      ],
      "text/latex": [
       "'No son de fiar por tener muchos valores a 0'"
      ],
      "text/markdown": [
       "'No son de fiar por tener muchos valores a 0'"
      ],
      "text/plain": [
       "[1] \"No son de fiar por tener muchos valores a 0\""
      ]
     },
     "metadata": {},
     "output_type": "display_data"
    },
    {
     "data": {
      "image/png": "[encoded data removed]",
      "text/plain": [
       "plot without title"
      ]
     },
     "metadata": {
      "image/png": {
       "height": 240,
       "width": 360
      }
     },
     "output_type": "display_data"
    }
   ],
   "source": [
    "barrio_sol%>%drop_na(MetrosCuadrados)->barrio_sol\n",
    "\n",
    "nd<-ggplot(barrio_sol, aes(x=NumDormitorios)) + \n",
    "  geom_histogram(color=\"black\", fill=\"darkgreen\", bins=15)\n",
    "mc<-ggplot(barrio_sol,aes(x=MetrosCuadrados)) +\n",
    "         geom_histogram(color='black',fill='darkred',bins=15)\n",
    "mc\n",
    "nd\n",
    "\n",
    "'No son de fiar por tener muchos valores a 0'"
   ]
  },
  {
   "cell_type": "markdown",
   "metadata": {},
   "source": [
    "Una vez que hayamos filtrado los datos correspondientes calcular el valor o la combinación de valores que mejor nos permite obtener el precio de un inmueble."
   ]
  },
  {
   "cell_type": "code",
   "execution_count": 965,
   "metadata": {},
   "outputs": [
    {
     "data": {
      "image/png": "[encoded data removed]",
      "text/plain": [
       "plot without title"
      ]
     },
     "metadata": {
      "image/png": {
       "height": 240,
       "width": 360
      }
     },
     "output_type": "display_data"
    }
   ],
   "source": [
    "sol_clean<-barrio_sol%>%filter(MetrosCuadrados > 6)\n",
    "md<-ggplot(sol_clean,aes(x=MetrosCuadrados)) +\n",
    "         geom_histogram(color='black',fill='darkred',bins=15)\n",
    "md"
   ]
  },
  {
   "cell_type": "markdown",
   "metadata": {},
   "source": [
    "¿Que variable es más fiable para conocer el precio de un inmueble, el número de habitaciones o los metros cuadrados?"
   ]
  },
  {
   "cell_type": "code",
   "execution_count": 971,
   "metadata": {},
   "outputs": [
    {
     "data": {
      "text/plain": [
       "\n",
       "Call:\n",
       "lm(formula = Precio ~ NumDormitorios + MetrosCuadrados, data = sol_clean)\n",
       "\n",
       "Coefficients:\n",
       "    (Intercept)   NumDormitorios  MetrosCuadrados  \n",
       "        33.9407          31.3626           0.2684  \n"
      ]
     },
     "metadata": {},
     "output_type": "display_data"
    },
    {
     "data": {
      "text/plain": [
       "\n",
       "Call:\n",
       "lm(formula = Precio ~ NumDormitorios + MetrosCuadrados, data = sol_clean)\n",
       "\n",
       "Residuals:\n",
       "    Min      1Q  Median      3Q     Max \n",
       "-86.036 -14.664  -5.048  16.506  68.979 \n",
       "\n",
       "Coefficients:\n",
       "                Estimate Std. Error t value Pr(>|t|)    \n",
       "(Intercept)      33.9407     9.0411   3.754 0.000651 ***\n",
       "NumDormitorios   31.3626     6.2709   5.001 1.71e-05 ***\n",
       "MetrosCuadrados   0.2684     0.1645   1.631 0.112031    \n",
       "---\n",
       "Signif. codes:  0 ‘***’ 0.001 ‘**’ 0.01 ‘*’ 0.05 ‘.’ 0.1 ‘ ’ 1\n",
       "\n",
       "Residual standard error: 29.86 on 34 degrees of freedom\n",
       "Multiple R-squared:  0.7541,\tAdjusted R-squared:  0.7396 \n",
       "F-statistic: 52.12 on 2 and 34 DF,  p-value: 4.405e-11\n"
      ]
     },
     "metadata": {},
     "output_type": "display_data"
    },
    {
     "data": {
      "text/html": [
       "'la variable mas fiable para conocer el precio del inmueble es el numero de dormitorios '"
      ],
      "text/latex": [
       "'la variable mas fiable para conocer el precio del inmueble es el numero de dormitorios '"
      ],
      "text/markdown": [
       "'la variable mas fiable para conocer el precio del inmueble es el numero de dormitorios '"
      ],
      "text/plain": [
       "[1] \"la variable mas fiable para conocer el precio del inmueble es el numero de dormitorios \""
      ]
     },
     "metadata": {},
     "output_type": "display_data"
    }
   ],
   "source": [
    "var<-lm(data= sol_clean, formula=Precio ~ NumDormitorios+MetrosCuadrados)\n",
    "var\n",
    "summary(var)\n",
    "\n",
    "'la variable mas fiable para conocer el precio del inmueble es el numero de dormitorios '"
   ]
  },
  {
   "cell_type": "markdown",
   "metadata": {},
   "source": [
    "Responde con su correspondiente margen de error del 95%, ¿cuantos euros incrementa el precio del alquiler por cada metro cuadrado extra del piso?"
   ]
  },
  {
   "cell_type": "code",
   "execution_count": 978,
   "metadata": {},
   "outputs": [
    {
     "data": {
      "text/html": [
       "<table class=\"dataframe\">\n",
       "<caption>A matrix: 2 × 2 of type dbl</caption>\n",
       "<thead>\n",
       "\t<tr><th></th><th scope=col>2.5 %</th><th scope=col>97.5 %</th></tr>\n",
       "</thead>\n",
       "<tbody>\n",
       "\t<tr><th scope=row>(Intercept)</th><td>14.5334222</td><td>61.981900</td></tr>\n",
       "\t<tr><th scope=row>MetrosCuadrados</th><td> 0.6419612</td><td> 1.182164</td></tr>\n",
       "</tbody>\n",
       "</table>\n"
      ],
      "text/latex": [
       "A matrix: 2 × 2 of type dbl\n",
       "\\begin{tabular}{r|ll}\n",
       "  & 2.5 \\% & 97.5 \\%\\\\\n",
       "\\hline\n",
       "\t(Intercept) & 14.5334222 & 61.981900\\\\\n",
       "\tMetrosCuadrados &  0.6419612 &  1.182164\\\\\n",
       "\\end{tabular}\n"
      ],
      "text/markdown": [
       "\n",
       "A matrix: 2 × 2 of type dbl\n",
       "\n",
       "| <!--/--> | 2.5 % | 97.5 % |\n",
       "|---|---|---|\n",
       "| (Intercept) | 14.5334222 | 61.981900 |\n",
       "| MetrosCuadrados |  0.6419612 |  1.182164 |\n",
       "\n"
      ],
      "text/plain": [
       "                2.5 %      97.5 %   \n",
       "(Intercept)     14.5334222 61.981900\n",
       "MetrosCuadrados  0.6419612  1.182164"
      ]
     },
     "metadata": {},
     "output_type": "display_data"
    }
   ],
   "source": [
    "varm2<- lm(sol_clean, formula=Precio~MetrosCuadrados)\n",
    "confint(varm2, level=0.95)"
   ]
  },
  {
   "cell_type": "markdown",
   "metadata": {},
   "source": [
    "Responde con su correspondiente margen de error del 95%, ¿cuantos euros incrementa el precio del alquiler por cada habitación?"
   ]
  },
  {
   "cell_type": "code",
   "execution_count": 1028,
   "metadata": {},
   "outputs": [
    {
     "data": {
      "text/html": [
       "<table class=\"dataframe\">\n",
       "<caption>A matrix: 2 × 2 of type dbl</caption>\n",
       "<thead>\n",
       "\t<tr><th></th><th scope=col>5 %</th><th scope=col>95 %</th></tr>\n",
       "</thead>\n",
       "<tbody>\n",
       "\t<tr><th scope=row>(Intercept)</th><td>26.50337</td><td>54.50496</td></tr>\n",
       "\t<tr><th scope=row>NumDormitorios</th><td>32.61242</td><td>46.12023</td></tr>\n",
       "</tbody>\n",
       "</table>\n"
      ],
      "text/latex": [
       "A matrix: 2 × 2 of type dbl\n",
       "\\begin{tabular}{r|ll}\n",
       "  & 5 \\% & 95 \\%\\\\\n",
       "\\hline\n",
       "\t(Intercept) & 26.50337 & 54.50496\\\\\n",
       "\tNumDormitorios & 32.61242 & 46.12023\\\\\n",
       "\\end{tabular}\n"
      ],
      "text/markdown": [
       "\n",
       "A matrix: 2 × 2 of type dbl\n",
       "\n",
       "| <!--/--> | 5 % | 95 % |\n",
       "|---|---|---|\n",
       "| (Intercept) | 26.50337 | 54.50496 |\n",
       "| NumDormitorios | 32.61242 | 46.12023 |\n",
       "\n"
      ],
      "text/plain": [
       "               5 %      95 %    \n",
       "(Intercept)    26.50337 54.50496\n",
       "NumDormitorios 32.61242 46.12023"
      ]
     },
     "metadata": {},
     "output_type": "display_data"
    },
    {
     "data": {
      "text/plain": [
       "\n",
       "Call:\n",
       "lm(formula = Precio ~ NumDormitorios, data = sol_clean)\n",
       "\n",
       "Residuals:\n",
       "   Min     1Q Median     3Q    Max \n",
       "-88.34 -17.24  -4.87  20.13  62.66 \n",
       "\n",
       "Coefficients:\n",
       "               Estimate Std. Error t value Pr(>|t|)    \n",
       "(Intercept)      40.504      8.287   4.888 2.25e-05 ***\n",
       "NumDormitorios   39.366      3.997   9.848 1.26e-11 ***\n",
       "---\n",
       "Signif. codes:  0 ‘***’ 0.001 ‘**’ 0.01 ‘*’ 0.05 ‘.’ 0.1 ‘ ’ 1\n",
       "\n",
       "Residual standard error: 30.56 on 35 degrees of freedom\n",
       "Multiple R-squared:  0.7348,\tAdjusted R-squared:  0.7272 \n",
       "F-statistic: 96.98 on 1 and 35 DF,  p-value: 1.264e-11\n"
      ]
     },
     "metadata": {},
     "output_type": "display_data"
    }
   ],
   "source": [
    "varm3<- lm(sol_clean, formula=Precio~NumDormitorios)\n",
    "confint(varm3, level=0.90)\n",
    "summary(varm3)\n",
    "\n",
    "''"
   ]
  },
  {
   "cell_type": "markdown",
   "metadata": {},
   "source": [
    "¿Cual es la probabilidad de encontrar, en el barrio de Sol, un apartamento en alquiler con 3 dormitorios?\n",
    "¿Cual es el intervalo de confianza de esa probabilidad?"
   ]
  },
  {
   "cell_type": "code",
   "execution_count": 1196,
   "metadata": {},
   "outputs": [
    {
     "data": {
      "text/plain": [
       "NULL"
      ]
     },
     "metadata": {},
     "output_type": "display_data"
    },
    {
     "data": {
      "text/html": [
       "701"
      ],
      "text/latex": [
       "701"
      ],
      "text/markdown": [
       "701"
      ],
      "text/plain": [
       "[1] 701"
      ]
     },
     "metadata": {},
     "output_type": "display_data"
    },
    {
     "data": {
      "text/html": [
       "<table class=\"dataframe\">\n",
       "<caption>A data.frame: 701 × 16</caption>\n",
       "<thead>\n",
       "\t<tr><th></th><th scope=col>CodigoPostal</th><th scope=col>Barrio</th><th scope=col>TipoPropiedad</th><th scope=col>TipoAlquiler</th><th scope=col>MaxOcupantes</th><th scope=col>NumBanyos</th><th scope=col>NumDormitorios</th><th scope=col>NumCamas</th><th scope=col>TipoCama</th><th scope=col>Comodidades</th><th scope=col>PiesCuadrados</th><th scope=col>Precio</th><th scope=col>Puntuacion</th><th scope=col>MetrosCuadrados</th><th scope=col>TripleHab</th><th scope=col>Sol</th></tr>\n",
       "\t<tr><th></th><th scope=col>&lt;fct&gt;</th><th scope=col>&lt;fct&gt;</th><th scope=col>&lt;fct&gt;</th><th scope=col>&lt;fct&gt;</th><th scope=col>&lt;int&gt;</th><th scope=col>&lt;dbl&gt;</th><th scope=col>&lt;int&gt;</th><th scope=col>&lt;int&gt;</th><th scope=col>&lt;fct&gt;</th><th scope=col>&lt;fct&gt;</th><th scope=col>&lt;int&gt;</th><th scope=col>&lt;int&gt;</th><th scope=col>&lt;int&gt;</th><th scope=col>&lt;dbl&gt;</th><th scope=col>&lt;lgl&gt;</th><th scope=col>&lt;lgl&gt;</th></tr>\n",
       "</thead>\n",
       "<tbody>\n",
       "\t<tr><th scope=row>10</th><td>28013</td><td>Sol</td><td>Apartment  </td><td>Entire home/apt</td><td> 4</td><td>1</td><td>1</td><td> 1</td><td>Real Bed     </td><td>TV,Wireless Internet,Air conditioning,Kitchen,Doorman,Elevator in building,Buzzer/wireless intercom,Heating,Family/kid friendly,Suitable for events,Washer,Essentials,Hangers,Hair dryer,Iron                                                                                                                                 </td><td>646</td><td> 75</td><td> 91</td><td>60.01534</td><td>FALSE</td><td>TRUE</td></tr>\n",
       "\t<tr><th scope=row>11</th><td>28013</td><td>Sol</td><td>Condominium</td><td>Entire home/apt</td><td> 6</td><td>1</td><td>2</td><td> 3</td><td>Real Bed     </td><td>TV,Wireless Internet,Air conditioning,Kitchen,Doorman,Elevator in building,Buzzer/wireless intercom,Heating,Family/kid friendly,Washer,Dryer,Essentials,Shampoo,Hangers,Hair dryer,Iron                                                                                                                                       </td><td> NA</td><td>130</td><td>100</td><td>      NA</td><td>FALSE</td><td>TRUE</td></tr>\n",
       "\t<tr><th scope=row>12</th><td>28013</td><td>Sol</td><td>Apartment  </td><td>Entire home/apt</td><td> 4</td><td>1</td><td>1</td><td> 2</td><td>Real Bed     </td><td>TV,Internet,Wireless Internet,Air conditioning,Kitchen,Doorman,Elevator in building,Buzzer/wireless intercom,Heating,Family/kid friendly,Washer,Smoke detector,Carbon monoxide detector,First aid kit,Safety card,Fire extinguisher,Essentials,Shampoo,24-hour check-in,Hangers,Hair dryer,Iron,Laptop friendly workspace     </td><td> NA</td><td>100</td><td> 97</td><td>      NA</td><td>FALSE</td><td>TRUE</td></tr>\n",
       "\t<tr><th scope=row>13</th><td>28012</td><td>Sol</td><td>Apartment  </td><td>Entire home/apt</td><td> 6</td><td>1</td><td>2</td><td> 2</td><td>Real Bed     </td><td>TV,Internet,Wireless Internet,Air conditioning,Kitchen,Smoking allowed,Elevator in building,Buzzer/wireless intercom,Heating,Family/kid friendly,Washer,Dryer,Essentials,Shampoo,Hangers,Hair dryer,Iron,Laptop friendly workspace                                                                                            </td><td> NA</td><td>160</td><td> 95</td><td>      NA</td><td>FALSE</td><td>TRUE</td></tr>\n",
       "\t<tr><th scope=row>14</th><td>28013</td><td>Sol</td><td>Apartment  </td><td>Entire home/apt</td><td> 4</td><td>1</td><td>1</td><td> 2</td><td>Real Bed     </td><td>TV,Internet,Wireless Internet,Air conditioning,Kitchen,Heating,Washer,Essentials,Hangers,Hair dryer,translation missing: en.hosting_amenity_50                                                                                                                                                                                </td><td> NA</td><td> 49</td><td> 95</td><td>      NA</td><td>FALSE</td><td>TRUE</td></tr>\n",
       "\t<tr><th scope=row>15</th><td>28013</td><td>Sol</td><td>Apartment  </td><td>Entire home/apt</td><td> 4</td><td>1</td><td>1</td><td> 2</td><td>Real Bed     </td><td>TV,Wireless Internet,Kitchen,Pets allowed,Elevator in building,Heating,Family/kid friendly,Washer,Essentials,Shampoo,Hangers,Hair dryer,Laptop friendly workspace                                                                                                                                                             </td><td> NA</td><td> 70</td><td> 88</td><td>      NA</td><td>FALSE</td><td>TRUE</td></tr>\n",
       "\t<tr><th scope=row>16</th><td>28005</td><td>Sol</td><td>Apartment  </td><td>Entire home/apt</td><td>10</td><td>2</td><td>4</td><td> 7</td><td>Real Bed     </td><td>TV,Internet,Wireless Internet,Air conditioning,Kitchen,Heating,Family/kid friendly,Washer,Essentials                                                                                                                                                                                                                          </td><td> NA</td><td>210</td><td> 81</td><td>      NA</td><td>FALSE</td><td>TRUE</td></tr>\n",
       "\t<tr><th scope=row>17</th><td>28013</td><td>Sol</td><td>Apartment  </td><td>Entire home/apt</td><td> 6</td><td>1</td><td>2</td><td> 4</td><td>Real Bed     </td><td>TV,Internet,Wireless Internet,Air conditioning,Kitchen,Smoking allowed,Pets allowed,Doorman,Elevator in building,Buzzer/wireless intercom,Heating,Family/kid friendly,Washer,First aid kit,Safety card,Essentials,Shampoo,Hangers,Hair dryer,Iron                                                                             </td><td> NA</td><td>120</td><td> 99</td><td>      NA</td><td>FALSE</td><td>TRUE</td></tr>\n",
       "\t<tr><th scope=row>18</th><td>28012</td><td>Sol</td><td>Apartment  </td><td>Entire home/apt</td><td> 4</td><td>1</td><td>1</td><td> 2</td><td>Real Bed     </td><td>TV,Internet,Wireless Internet,Air conditioning,Kitchen,Elevator in building,Heating,Family/kid friendly,Washer,Smoke detector,Carbon monoxide detector,Essentials,Shampoo,24-hour check-in,Hangers,Hair dryer,Iron,Laptop friendly workspace                                                                                  </td><td> NA</td><td> 50</td><td> 91</td><td>      NA</td><td>FALSE</td><td>TRUE</td></tr>\n",
       "\t<tr><th scope=row>19</th><td>28012</td><td>Sol</td><td>Apartment  </td><td>Entire home/apt</td><td> 4</td><td>1</td><td>1</td><td> 1</td><td>Real Bed     </td><td>TV,Cable TV,Internet,Wireless Internet,Air conditioning,Kitchen,Elevator in building,Buzzer/wireless intercom,Heating,Family/kid friendly,Washer,Essentials,Hair dryer,Iron                                                                                                                                                   </td><td>753</td><td>100</td><td> 87</td><td>69.95596</td><td>FALSE</td><td>TRUE</td></tr>\n",
       "\t<tr><th scope=row>20</th><td>28013</td><td>Sol</td><td>Apartment  </td><td>Entire home/apt</td><td> 4</td><td>1</td><td>1</td><td> 2</td><td>Real Bed     </td><td>TV,Internet,Wireless Internet,Air conditioning,Kitchen,Breakfast,Elevator in building,Heating,Family/kid friendly,Washer,First aid kit,Fire extinguisher,Essentials,Shampoo,Hangers,Hair dryer,Iron,Laptop friendly workspace                                                                                                 </td><td> NA</td><td> 75</td><td>100</td><td>      NA</td><td>FALSE</td><td>TRUE</td></tr>\n",
       "\t<tr><th scope=row>21</th><td>28014</td><td>Sol</td><td>Condominium</td><td>Entire home/apt</td><td> 8</td><td>2</td><td>2</td><td> 5</td><td>Real Bed     </td><td>TV,Internet,Wireless Internet,Air conditioning,Wheelchair accessible,Kitchen,Doorman,Elevator in building,Buzzer/wireless intercom,Heating,Family/kid friendly,Washer,Smoke detector,Carbon monoxide detector,Essentials,Shampoo,24-hour check-in,Hangers,Hair dryer,Iron,Laptop friendly workspace                           </td><td> NA</td><td>155</td><td> 93</td><td>      NA</td><td>FALSE</td><td>TRUE</td></tr>\n",
       "\t<tr><th scope=row>22</th><td>28013</td><td>Sol</td><td>Apartment  </td><td>Entire home/apt</td><td> 6</td><td>2</td><td>2</td><td> 3</td><td>Real Bed     </td><td>TV,Internet,Wireless Internet,Air conditioning,Wheelchair accessible,Kitchen,Doorman,Elevator in building,Buzzer/wireless intercom,Heating,Family/kid friendly,Washer,Dryer,Essentials,Hangers,Hair dryer,Iron                                                                                                                </td><td> NA</td><td>155</td><td> 80</td><td>      NA</td><td>FALSE</td><td>TRUE</td></tr>\n",
       "\t<tr><th scope=row>23</th><td>28005</td><td>Sol</td><td>Apartment  </td><td>Entire home/apt</td><td> 8</td><td>1</td><td>3</td><td> 4</td><td>Real Bed     </td><td>TV,Internet,Wireless Internet,Kitchen,Breakfast,Elevator in building,Buzzer/wireless intercom,Heating,Family/kid friendly,Washer,Essentials,Shampoo,Hangers,Hair dryer,Iron,Laptop friendly workspace,Self Check-In,Lockbox                                                                                                   </td><td> NA</td><td>163</td><td>100</td><td>      NA</td><td> TRUE</td><td>TRUE</td></tr>\n",
       "\t<tr><th scope=row>27</th><td>28013</td><td>Sol</td><td>Apartment  </td><td>Entire home/apt</td><td> 4</td><td>1</td><td>1</td><td> 1</td><td>Pull-out Sofa</td><td>TV,Internet,Wireless Internet,Air conditioning,Kitchen,Elevator in building,Buzzer/wireless intercom,Heating,Family/kid friendly,Washer,Smoke detector,Carbon monoxide detector,First aid kit,Essentials,Shampoo,24-hour check-in,Hangers,Hair dryer,Iron,Laptop friendly workspace,translation missing: en.hosting_amenity_50</td><td> NA</td><td> 64</td><td> 97</td><td>      NA</td><td>FALSE</td><td>TRUE</td></tr>\n",
       "\t<tr><th scope=row>28</th><td>28013</td><td>Sol</td><td>Apartment  </td><td>Entire home/apt</td><td> 6</td><td>2</td><td>2</td><td> 2</td><td>Real Bed     </td><td>TV,Wireless Internet,Air conditioning,Kitchen,Elevator in building,Heating,Washer,Essentials,Shampoo                                                                                                                                                                                                                          </td><td> NA</td><td>109</td><td> 90</td><td>      NA</td><td>FALSE</td><td>TRUE</td></tr>\n",
       "\t<tr><th scope=row>29</th><td>28013</td><td>Sol</td><td>Apartment  </td><td>Entire home/apt</td><td> 3</td><td>1</td><td>1</td><td> 2</td><td>Real Bed     </td><td>TV,Internet,Wireless Internet,Air conditioning,Kitchen,Smoking allowed,Elevator in building,Buzzer/wireless intercom,Heating,Family/kid friendly,Washer,Fire extinguisher,Essentials,Shampoo,Hangers,Hair dryer,Iron                                                                                                          </td><td> NA</td><td> 67</td><td> 95</td><td>      NA</td><td>FALSE</td><td>TRUE</td></tr>\n",
       "\t<tr><th scope=row>30</th><td>28013</td><td>Sol</td><td>Apartment  </td><td>Entire home/apt</td><td> 2</td><td>1</td><td>1</td><td> 1</td><td>Real Bed     </td><td>TV,Internet,Wireless Internet,Air conditioning,Kitchen,Elevator in building,Buzzer/wireless intercom,Heating,Family/kid friendly,Washer,First aid kit,Essentials,Shampoo,Hair dryer,Iron                                                                                                                                      </td><td>269</td><td> 65</td><td> 93</td><td>24.99091</td><td>FALSE</td><td>TRUE</td></tr>\n",
       "\t<tr><th scope=row>31</th><td>28013</td><td>Sol</td><td>Apartment  </td><td>Entire home/apt</td><td> 3</td><td>1</td><td>0</td><td> 2</td><td>Real Bed     </td><td>TV,Wireless Internet,Air conditioning,Kitchen,Elevator in building,Washer,Fire extinguisher,Essentials,translation missing: en.hosting_amenity_49,translation missing: en.hosting_amenity_50                                                                                                                                  </td><td>  0</td><td> 41</td><td> 89</td><td> 0.00000</td><td>FALSE</td><td>TRUE</td></tr>\n",
       "\t<tr><th scope=row>32</th><td>28012</td><td>Sol</td><td>Apartment  </td><td>Entire home/apt</td><td> 3</td><td>1</td><td>1</td><td> 1</td><td>Real Bed     </td><td>TV,Internet,Wireless Internet,Air conditioning,Kitchen,Smoking allowed,Pets allowed,Elevator in building,Heating,Family/kid friendly,Washer,Essentials                                                                                                                                                                        </td><td> NA</td><td>109</td><td> 92</td><td>      NA</td><td>FALSE</td><td>TRUE</td></tr>\n",
       "\t<tr><th scope=row>33</th><td>28013</td><td>Sol</td><td>Apartment  </td><td>Entire home/apt</td><td> 4</td><td>1</td><td>2</td><td> 2</td><td>Real Bed     </td><td>TV,Internet,Wireless Internet,Air conditioning,Kitchen,Smoking allowed,Heating,Family/kid friendly,Washer,Essentials,Shampoo,Hangers,Hair dryer,Iron,Laptop friendly workspace                                                                                                                                                </td><td> NA</td><td> 71</td><td> 93</td><td>      NA</td><td>FALSE</td><td>TRUE</td></tr>\n",
       "\t<tr><th scope=row>34</th><td>28012</td><td>Sol</td><td>Apartment  </td><td>Entire home/apt</td><td> 4</td><td>2</td><td>2</td><td> 2</td><td>Real Bed     </td><td>TV,Cable TV,Internet,Wireless Internet,Air conditioning,Kitchen,Elevator in building,Buzzer/wireless intercom,Heating,Family/kid friendly,Washer,Dryer,First aid kit,Fire extinguisher,Essentials,Shampoo,Hangers,Hair dryer,Iron,Laptop friendly workspace                                                                   </td><td> NA</td><td>110</td><td> 98</td><td>      NA</td><td>FALSE</td><td>TRUE</td></tr>\n",
       "\t<tr><th scope=row>35</th><td>28013</td><td>Sol</td><td>Condominium</td><td>Entire home/apt</td><td> 4</td><td>1</td><td>1</td><td> 1</td><td>Real Bed     </td><td>TV,Wireless Internet,Air conditioning,Kitchen,Elevator in building,Hot tub,Heating,Washer,Essentials,Shampoo,Hangers,Hair dryer,Iron,translation missing: en.hosting_amenity_49,translation missing: en.hosting_amenity_50                                                                                                    </td><td> NA</td><td>150</td><td> 80</td><td>      NA</td><td>FALSE</td><td>TRUE</td></tr>\n",
       "\t<tr><th scope=row>36</th><td>28013</td><td>Sol</td><td>Apartment  </td><td>Entire home/apt</td><td> 4</td><td>1</td><td>1</td><td> 3</td><td>Real Bed     </td><td>TV,Internet,Wireless Internet,Air conditioning,Kitchen,Doorman,Elevator in building,Buzzer/wireless intercom,Heating,Family/kid friendly,Washer,Fire extinguisher,Essentials,Shampoo,24-hour check-in,Hangers,Hair dryer,Iron,Laptop friendly workspace,Private entrance                                                      </td><td> NA</td><td>110</td><td> 95</td><td>      NA</td><td>FALSE</td><td>TRUE</td></tr>\n",
       "\t<tr><th scope=row>37</th><td>28013</td><td>Sol</td><td>Apartment  </td><td>Entire home/apt</td><td> 4</td><td>1</td><td>2</td><td> 3</td><td>Real Bed     </td><td>TV,Internet,Wireless Internet,Air conditioning,Kitchen,Buzzer/wireless intercom,Heating,Family/kid friendly,Washer,Essentials,Shampoo,Hangers,Hair dryer,Iron,Laptop friendly workspace                                                                                                                                       </td><td> NA</td><td> 90</td><td>100</td><td>      NA</td><td>FALSE</td><td>TRUE</td></tr>\n",
       "\t<tr><th scope=row>38</th><td>28012</td><td>Sol</td><td>Apartment  </td><td>Entire home/apt</td><td> 4</td><td>1</td><td>1</td><td> 1</td><td>Pull-out Sofa</td><td>TV,Wireless Internet,Air conditioning,Kitchen,Doorman,Elevator in building,Buzzer/wireless intercom,Heating,Family/kid friendly,Washer,Smoke detector,Carbon monoxide detector,First aid kit,Safety card,Fire extinguisher,Essentials,Shampoo,24-hour check-in,Hangers,Hair dryer,Iron,Laptop friendly workspace              </td><td> NA</td><td> 84</td><td> 96</td><td>      NA</td><td>FALSE</td><td>TRUE</td></tr>\n",
       "\t<tr><th scope=row>334</th><td>28012</td><td>Sol</td><td>Apartment  </td><td>Entire home/apt</td><td>16</td><td>4</td><td>4</td><td>11</td><td>Real Bed     </td><td>TV,Internet,Wireless Internet,Air conditioning,Kitchen,Smoking allowed,Pets allowed,Elevator in building,Buzzer/wireless intercom,Heating,Family/kid friendly,Washer,Dryer,First aid kit,Essentials,Shampoo,Hangers,Hair dryer,Iron,Private entrance                                                                          </td><td> NA</td><td>350</td><td> NA</td><td>      NA</td><td>FALSE</td><td>TRUE</td></tr>\n",
       "\t<tr><th scope=row>335</th><td>28012</td><td>Sol</td><td>Apartment  </td><td>Entire home/apt</td><td> 5</td><td>2</td><td>2</td><td> 4</td><td>Real Bed     </td><td>TV,Wireless Internet,Air conditioning,Kitchen,Buzzer/wireless intercom,Heating,Family/kid friendly,Washer                                                                                                                                                                                                                     </td><td>  0</td><td> 90</td><td> 95</td><td> 0.00000</td><td>FALSE</td><td>TRUE</td></tr>\n",
       "\t<tr><th scope=row>336</th><td>28012</td><td>Sol</td><td>Apartment  </td><td>Entire home/apt</td><td> 8</td><td>1</td><td>2</td><td> 2</td><td>Real Bed     </td><td>TV,Wireless Internet,Air conditioning,Kitchen,Smoking allowed,Doorman,Breakfast,Buzzer/wireless intercom,Heating,Family/kid friendly,Washer,Smoke detector,Carbon monoxide detector,First aid kit,Safety card,Essentials,Shampoo,24-hour check-in,Hangers,Hair dryer,Iron,Laptop friendly workspace,Private entrance          </td><td> NA</td><td> 95</td><td> 60</td><td>      NA</td><td>FALSE</td><td>TRUE</td></tr>\n",
       "\t<tr><th scope=row>337</th><td>28012</td><td>Sol</td><td>Apartment  </td><td>Entire home/apt</td><td> 4</td><td>1</td><td>0</td><td> 1</td><td>Real Bed     </td><td>TV,Internet,Wireless Internet,Kitchen,Doorman,Elevator in building,Buzzer/wireless intercom,Heating,Family/kid friendly,Washer,Dryer,Essentials,Hangers,Hair dryer,Iron,Laptop friendly workspace                                                                                                                             </td><td> NA</td><td> 90</td><td> 92</td><td>      NA</td><td>FALSE</td><td>TRUE</td></tr>\n",
       "\t<tr><th scope=row>⋮</th><td>⋮</td><td>⋮</td><td>⋮</td><td>⋮</td><td>⋮</td><td>⋮</td><td>⋮</td><td>⋮</td><td>⋮</td><td>⋮</td><td>⋮</td><td>⋮</td><td>⋮</td><td>⋮</td><td>⋮</td><td>⋮</td></tr>\n",
       "\t<tr><th scope=row>7604</th><td>28012</td><td>Sol</td><td>Apartment  </td><td>Entire home/apt</td><td> 4</td><td>1.0</td><td>2</td><td>3</td><td>Real Bed     </td><td>TV,Internet,Wireless Internet,Air conditioning,Kitchen,Heating,Washer,Essentials,translation missing: en.hosting_amenity_49,translation missing: en.hosting_amenity_50                                                                                                                                                               </td><td> NA</td><td> 49</td><td> 81</td><td>      NA</td><td>FALSE</td><td>TRUE</td></tr>\n",
       "\t<tr><th scope=row>7605</th><td>28013</td><td>Sol</td><td>Loft       </td><td>Entire home/apt</td><td> 6</td><td>1.5</td><td>3</td><td>3</td><td>Real Bed     </td><td>TV,Wireless Internet,Air conditioning,Kitchen,Breakfast,Heating,Family/kid friendly,Washer,Dryer,Smoke detector,Carbon monoxide detector,Essentials,Shampoo,24-hour check-in,Hangers,Hair dryer,Iron,Laptop friendly workspace                                                                                                       </td><td> NA</td><td>175</td><td> 98</td><td>      NA</td><td> TRUE</td><td>TRUE</td></tr>\n",
       "\t<tr><th scope=row>7606</th><td>28013</td><td>Sol</td><td>Apartment  </td><td>Entire home/apt</td><td> 4</td><td>1.0</td><td>1</td><td>2</td><td>Real Bed     </td><td>Internet,Wireless Internet,Air conditioning,Kitchen,Doorman,Elevator in building,Buzzer/wireless intercom,Heating,Family/kid friendly,Washer,First aid kit,Essentials,Shampoo,24-hour check-in,Hangers,Hair dryer,Iron,Laptop friendly workspace                                                                                     </td><td> NA</td><td> 75</td><td> 98</td><td>      NA</td><td>FALSE</td><td>TRUE</td></tr>\n",
       "\t<tr><th scope=row>7707</th><td>28013</td><td>Sol</td><td>Apartment  </td><td>Entire home/apt</td><td> 6</td><td>2.0</td><td>2</td><td>2</td><td>Real Bed     </td><td>TV,Internet,Wireless Internet,Air conditioning,Kitchen,Doorman,Elevator in building,Buzzer/wireless intercom,Heating,Family/kid friendly,Washer,Safety card,Fire extinguisher,Essentials,Shampoo,24-hour check-in,Hangers,Hair dryer,Iron,Laptop friendly workspace,Private entrance                                                 </td><td> NA</td><td>130</td><td> 95</td><td>      NA</td><td>FALSE</td><td>TRUE</td></tr>\n",
       "\t<tr><th scope=row>7708</th><td>28005</td><td>Sol</td><td>Apartment  </td><td>Entire home/apt</td><td> 6</td><td>1.0</td><td>2</td><td>3</td><td>Real Bed     </td><td>TV,Cable TV,Internet,Wireless Internet,Air conditioning,Kitchen,Elevator in building,Buzzer/wireless intercom,Heating,Family/kid friendly,Washer,Dryer,Smoke detector,Carbon monoxide detector,Essentials,Shampoo,24-hour check-in,Hangers,Hair dryer,Iron,Laptop friendly workspace                                                 </td><td> NA</td><td> 99</td><td> 89</td><td>      NA</td><td>FALSE</td><td>TRUE</td></tr>\n",
       "\t<tr><th scope=row>7709</th><td>28013</td><td>Sol</td><td>Apartment  </td><td>Entire home/apt</td><td> 6</td><td>1.0</td><td>2</td><td>3</td><td>Real Bed     </td><td>TV,Wireless Internet,Air conditioning,Kitchen,Smoking allowed,Elevator in building,Heating,Washer,Smoke detector,Shampoo,translation missing: en.hosting_amenity_49,translation missing: en.hosting_amenity_50                                                                                                                       </td><td> NA</td><td> 69</td><td> 87</td><td>      NA</td><td>FALSE</td><td>TRUE</td></tr>\n",
       "\t<tr><th scope=row>7710</th><td>28013</td><td>Sol</td><td>Apartment  </td><td>Entire home/apt</td><td> 3</td><td>1.0</td><td>1</td><td>1</td><td>Real Bed     </td><td>TV,Internet,Wireless Internet,Air conditioning,Kitchen,Elevator in building,Heating,Family/kid friendly,Washer,Essentials                                                                                                                                                                                                            </td><td> NA</td><td> 80</td><td> 95</td><td>      NA</td><td>FALSE</td><td>TRUE</td></tr>\n",
       "\t<tr><th scope=row>7711</th><td>28013</td><td>Sol</td><td>Apartment  </td><td>Entire home/apt</td><td>10</td><td>3.0</td><td>3</td><td>7</td><td>Real Bed     </td><td>TV,Internet,Air conditioning,Kitchen,Smoking allowed,Pets allowed,Heating,Family/kid friendly,Washer                                                                                                                                                                                                                                 </td><td>807</td><td>150</td><td> 65</td><td>74.97272</td><td> TRUE</td><td>TRUE</td></tr>\n",
       "\t<tr><th scope=row>7712</th><td>28013</td><td>Sol</td><td>Apartment  </td><td>Entire home/apt</td><td> 4</td><td>1.0</td><td>1</td><td>1</td><td>Real Bed     </td><td>TV,Wireless Internet,Heating,Family/kid friendly,Washer,Essentials,Hair dryer,Iron                                                                                                                                                                                                                                                   </td><td> NA</td><td> 35</td><td> 75</td><td>      NA</td><td>FALSE</td><td>TRUE</td></tr>\n",
       "\t<tr><th scope=row>7713</th><td>28013</td><td>Sol</td><td>Apartment  </td><td>Entire home/apt</td><td> 4</td><td>1.0</td><td>1</td><td>1</td><td>Real Bed     </td><td>TV,Internet,Wireless Internet,Air conditioning,Kitchen,Smoking allowed,Breakfast,Elevator in building,Heating,Family/kid friendly,Washer,Essentials,Hangers,Hair dryer,Iron                                                                                                                                                          </td><td> NA</td><td> 95</td><td> 97</td><td>      NA</td><td>FALSE</td><td>TRUE</td></tr>\n",
       "\t<tr><th scope=row>7714</th><td>28013</td><td>Sol</td><td>Apartment  </td><td>Entire home/apt</td><td> 4</td><td>1.0</td><td>1</td><td>2</td><td>Real Bed     </td><td>TV,Wireless Internet,Air conditioning,Kitchen,Doorman,Elevator in building,Buzzer/wireless intercom,Heating,Family/kid friendly,Washer,Essentials,Shampoo                                                                                                                                                                            </td><td> NA</td><td>103</td><td>100</td><td>      NA</td><td>FALSE</td><td>TRUE</td></tr>\n",
       "\t<tr><th scope=row>7715</th><td>28013</td><td>Sol</td><td>Apartment  </td><td>Entire home/apt</td><td> 4</td><td>1.0</td><td>0</td><td>2</td><td>Real Bed     </td><td>TV,Wireless Internet,Air conditioning,Wheelchair accessible,Kitchen,Doorman,Elevator in building,Buzzer/wireless intercom,Heating,Family/kid friendly,Washer,Essentials,Shampoo                                                                                                                                                      </td><td> NA</td><td> 79</td><td> NA</td><td>      NA</td><td>FALSE</td><td>TRUE</td></tr>\n",
       "\t<tr><th scope=row>7716</th><td>28012</td><td>Sol</td><td>Apartment  </td><td>Entire home/apt</td><td> 4</td><td>1.0</td><td>1</td><td>2</td><td>Real Bed     </td><td>TV,Internet,Wireless Internet,Air conditioning,Kitchen,Doorman,Elevator in building,Buzzer/wireless intercom,Heating,Family/kid friendly,Washer,Smoke detector,Carbon monoxide detector,First aid kit,Essentials,Shampoo,24-hour check-in,Hangers,Hair dryer,Iron,Laptop friendly workspace                                          </td><td> NA</td><td> 80</td><td> 96</td><td>      NA</td><td>FALSE</td><td>TRUE</td></tr>\n",
       "\t<tr><th scope=row>7717</th><td>28004</td><td>Sol</td><td>Apartment  </td><td>Entire home/apt</td><td> 4</td><td>1.0</td><td>1</td><td>2</td><td>Real Bed     </td><td>TV,Internet,Wireless Internet,Air conditioning,Kitchen,Smoking allowed,Pets allowed,Elevator in building,Heating,Family/kid friendly,Washer,Dryer,Essentials,Shampoo                                                                                                                                                                 </td><td> NA</td><td> 62</td><td> 92</td><td>      NA</td><td>FALSE</td><td>TRUE</td></tr>\n",
       "\t<tr><th scope=row>7718</th><td>28013</td><td>Sol</td><td>Apartment  </td><td>Entire home/apt</td><td> 2</td><td>1.0</td><td>1</td><td>1</td><td>Pull-out Sofa</td><td>TV,Cable TV,Internet,Wireless Internet,Air conditioning,Kitchen,Doorman,Elevator in building,Heating,Family/kid friendly,Smoke detector,First aid kit,Safety card,Fire extinguisher,Essentials,Shampoo,24-hour check-in,Hangers,Hair dryer,Iron,Laptop friendly workspace,translation missing: en.hosting_amenity_49                 </td><td> NA</td><td> 55</td><td> 97</td><td>      NA</td><td>FALSE</td><td>TRUE</td></tr>\n",
       "\t<tr><th scope=row>7719</th><td>28012</td><td>Sol</td><td>Apartment  </td><td>Entire home/apt</td><td> 6</td><td>1.0</td><td>1</td><td>3</td><td>Real Bed     </td><td>TV,Internet,Wireless Internet,Air conditioning,Kitchen,Buzzer/wireless intercom,Heating,Family/kid friendly,Washer,Essentials,Shampoo,24-hour check-in,Hair dryer,Iron,Laptop friendly workspace                                                                                                                                     </td><td> NA</td><td> 80</td><td> 94</td><td>      NA</td><td>FALSE</td><td>TRUE</td></tr>\n",
       "\t<tr><th scope=row>7720</th><td>28012</td><td>Sol</td><td>Loft       </td><td>Entire home/apt</td><td> 4</td><td>1.0</td><td>1</td><td>2</td><td>Real Bed     </td><td>TV,Internet,Wireless Internet,Air conditioning,Wheelchair accessible,Kitchen,Doorman,Elevator in building,Heating,Family/kid friendly,Washer,First aid kit,Fire extinguisher,Essentials,Shampoo,24-hour check-in,Hangers,Hair dryer                                                                                                  </td><td> NA</td><td> 80</td><td> 96</td><td>      NA</td><td>FALSE</td><td>TRUE</td></tr>\n",
       "\t<tr><th scope=row>7721</th><td>28013</td><td>Sol</td><td>Apartment  </td><td>Entire home/apt</td><td> 4</td><td>1.0</td><td>1</td><td>2</td><td>Real Bed     </td><td>TV,Internet,Wireless Internet,Air conditioning,Kitchen,Doorman,Elevator in building,Buzzer/wireless intercom,Heating,Family/kid friendly,Washer,Essentials,Shampoo,24-hour check-in,Hangers,Hair dryer,Iron,Laptop friendly workspace                                                                                                </td><td>  0</td><td> 72</td><td> 96</td><td> 0.00000</td><td>FALSE</td><td>TRUE</td></tr>\n",
       "\t<tr><th scope=row>7722</th><td>28013</td><td>Sol</td><td>Apartment  </td><td>Entire home/apt</td><td> 4</td><td>1.0</td><td>1</td><td>2</td><td>Real Bed     </td><td>TV,Wireless Internet,Air conditioning,Kitchen,Elevator in building,Heating,Family/kid friendly,Washer,Hair dryer,Iron                                                                                                                                                                                                                </td><td>431</td><td> 71</td><td> 91</td><td>40.04119</td><td>FALSE</td><td>TRUE</td></tr>\n",
       "\t<tr><th scope=row>7723</th><td>28013</td><td>Sol</td><td>Apartment  </td><td>Entire home/apt</td><td> 8</td><td>2.0</td><td>3</td><td>8</td><td>Real Bed     </td><td>TV,Internet,Wireless Internet,Air conditioning,Wheelchair accessible,Kitchen,Doorman,Elevator in building,Heating,Family/kid friendly,Suitable for events,Washer,Dryer,Smoke detector,First aid kit,Fire extinguisher,Shampoo                                                                                                        </td><td> NA</td><td>250</td><td> 88</td><td>      NA</td><td> TRUE</td><td>TRUE</td></tr>\n",
       "\t<tr><th scope=row>7724</th><td>28001</td><td>Sol</td><td>Apartment  </td><td>Entire home/apt</td><td> 4</td><td>1.0</td><td>2</td><td>2</td><td>Real Bed     </td><td>TV,Internet,Wireless Internet,Air conditioning,Kitchen,Elevator in building,Buzzer/wireless intercom,Heating,Family/kid friendly,Washer,First aid kit,Essentials,Shampoo,24-hour check-in,Hangers,Hair dryer,Iron,Laptop friendly workspace                                                                                          </td><td> NA</td><td> 75</td><td> 95</td><td>      NA</td><td>FALSE</td><td>TRUE</td></tr>\n",
       "\t<tr><th scope=row>7725</th><td>28012</td><td>Sol</td><td>Apartment  </td><td>Entire home/apt</td><td> 5</td><td>2.0</td><td>2</td><td>3</td><td>Real Bed     </td><td>TV,Kitchen,Buzzer/wireless intercom,Heating,Family/kid friendly,Washer                                                                                                                                                                                                                                                               </td><td>  0</td><td>115</td><td> 86</td><td> 0.00000</td><td>FALSE</td><td>TRUE</td></tr>\n",
       "\t<tr><th scope=row>7726</th><td>28012</td><td>Sol</td><td>House      </td><td>Entire home/apt</td><td> 6</td><td>2.0</td><td>2</td><td>6</td><td>Real Bed     </td><td>TV,Wireless Internet,Air conditioning,Kitchen,Elevator in building,Buzzer/wireless intercom,Heating,Family/kid friendly,Washer,First aid kit,Safety card,Fire extinguisher,Essentials,Shampoo,Hangers,Hair dryer,Iron,Laptop friendly workspace                                                                                      </td><td> NA</td><td>175</td><td> 91</td><td>      NA</td><td>FALSE</td><td>TRUE</td></tr>\n",
       "\t<tr><th scope=row>7727</th><td>28013</td><td>Sol</td><td>Apartment  </td><td>Entire home/apt</td><td> 2</td><td>1.0</td><td>1</td><td>1</td><td>Real Bed     </td><td>TV,Wireless Internet,Air conditioning,Kitchen,Heating,Family/kid friendly,Washer,Dryer                                                                                                                                                                                                                                               </td><td> NA</td><td> 75</td><td> 97</td><td>      NA</td><td>FALSE</td><td>TRUE</td></tr>\n",
       "\t<tr><th scope=row>7728</th><td>28013</td><td>Sol</td><td>Condominium</td><td>Entire home/apt</td><td> 2</td><td>1.0</td><td>0</td><td>1</td><td>Real Bed     </td><td>TV,Internet,Wireless Internet,Air conditioning,Kitchen,Elevator in building,Heating,Washer,Essentials,Hangers,Hair dryer,Iron,Laptop friendly workspace                                                                                                                                                                              </td><td> NA</td><td> 50</td><td> 87</td><td>      NA</td><td>FALSE</td><td>TRUE</td></tr>\n",
       "\t<tr><th scope=row>7729</th><td>28013</td><td>Sol</td><td>Apartment  </td><td>Entire home/apt</td><td> 4</td><td>1.0</td><td>2</td><td>2</td><td>Real Bed     </td><td>TV,Internet,Wireless Internet,Air conditioning,Wheelchair accessible,Kitchen,Smoking allowed,Elevator in building,Heating,Family/kid friendly,Washer,Smoke detector,First aid kit,Safety card,Fire extinguisher,Essentials,24-hour check-in,Hangers,Hair dryer,Iron,Laptop friendly workspace                                        </td><td> NA</td><td> 89</td><td> 92</td><td>      NA</td><td>FALSE</td><td>TRUE</td></tr>\n",
       "\t<tr><th scope=row>7730</th><td>28012</td><td>Sol</td><td>Apartment  </td><td>Entire home/apt</td><td> 4</td><td>1.0</td><td>0</td><td>1</td><td>Real Bed     </td><td>TV,Internet,Wireless Internet,Kitchen,Doorman,Elevator in building,Buzzer/wireless intercom,Heating,Family/kid friendly,Washer,Dryer,Essentials,Hangers,Hair dryer,Iron,Laptop friendly workspace                                                                                                                                    </td><td> NA</td><td> 90</td><td>100</td><td>      NA</td><td>FALSE</td><td>TRUE</td></tr>\n",
       "\t<tr><th scope=row>7731</th><td>28013</td><td>Sol</td><td>Apartment  </td><td>Entire home/apt</td><td> 6</td><td>2.0</td><td>1</td><td>3</td><td>Real Bed     </td><td>TV,Internet,Wireless Internet,Air conditioning,Elevator in building,Heating,Family/kid friendly,Essentials,Hair dryer                                                                                                                                                                                                                </td><td> NA</td><td>115</td><td> 84</td><td>      NA</td><td>FALSE</td><td>TRUE</td></tr>\n",
       "\t<tr><th scope=row>7732</th><td>28012</td><td>Sol</td><td>Apartment  </td><td>Entire home/apt</td><td> 2</td><td>1.0</td><td>1</td><td>1</td><td>Real Bed     </td><td>TV,Internet,Wireless Internet,Kitchen,Doorman,Buzzer/wireless intercom,Heating,Washer,Smoke detector,Carbon monoxide detector,Essentials,Shampoo,24-hour check-in,Hangers,Hair dryer,Iron,Laptop friendly workspace,translation missing: en.hosting_amenity_49,translation missing: en.hosting_amenity_50,Self Check-In,Doorman Entry</td><td> NA</td><td> 90</td><td> 96</td><td>      NA</td><td>FALSE</td><td>TRUE</td></tr>\n",
       "\t<tr><th scope=row>7733</th><td>28013</td><td>Sol</td><td>Apartment  </td><td>Entire home/apt</td><td> 4</td><td>1.0</td><td>1</td><td>1</td><td>Real Bed     </td><td>Internet,Wireless Internet,Kitchen,Pets allowed,Doorman,Elevator in building,Buzzer/wireless intercom,Heating,Family/kid friendly,First aid kit,Essentials,Hangers,Hair dryer,Iron,Laptop friendly workspace                                                                                                                         </td><td> NA</td><td> 69</td><td> 80</td><td>      NA</td><td>FALSE</td><td>TRUE</td></tr>\n",
       "</tbody>\n",
       "</table>\n"
      ],
      "text/latex": [
       "A data.frame: 701 × 16\n",
       "\\begin{tabular}{r|llllllllllllllll}\n",
       "  & CodigoPostal & Barrio & TipoPropiedad & TipoAlquiler & MaxOcupantes & NumBanyos & NumDormitorios & NumCamas & TipoCama & Comodidades & PiesCuadrados & Precio & Puntuacion & MetrosCuadrados & TripleHab & Sol\\\\\n",
       "  & <fct> & <fct> & <fct> & <fct> & <int> & <dbl> & <int> & <int> & <fct> & <fct> & <int> & <int> & <int> & <dbl> & <lgl> & <lgl>\\\\\n",
       "\\hline\n",
       "\t10 & 28013 & Sol & Apartment   & Entire home/apt &  4 & 1 & 1 &  1 & Real Bed      & TV,Wireless Internet,Air conditioning,Kitchen,Doorman,Elevator in building,Buzzer/wireless intercom,Heating,Family/kid friendly,Suitable for events,Washer,Essentials,Hangers,Hair dryer,Iron                                                                                                                                  & 646 &  75 &  91 & 60.01534 & FALSE & TRUE\\\\\n",
       "\t11 & 28013 & Sol & Condominium & Entire home/apt &  6 & 1 & 2 &  3 & Real Bed      & TV,Wireless Internet,Air conditioning,Kitchen,Doorman,Elevator in building,Buzzer/wireless intercom,Heating,Family/kid friendly,Washer,Dryer,Essentials,Shampoo,Hangers,Hair dryer,Iron                                                                                                                                        &  NA & 130 & 100 &       NA & FALSE & TRUE\\\\\n",
       "\t12 & 28013 & Sol & Apartment   & Entire home/apt &  4 & 1 & 1 &  2 & Real Bed      & TV,Internet,Wireless Internet,Air conditioning,Kitchen,Doorman,Elevator in building,Buzzer/wireless intercom,Heating,Family/kid friendly,Washer,Smoke detector,Carbon monoxide detector,First aid kit,Safety card,Fire extinguisher,Essentials,Shampoo,24-hour check-in,Hangers,Hair dryer,Iron,Laptop friendly workspace      &  NA & 100 &  97 &       NA & FALSE & TRUE\\\\\n",
       "\t13 & 28012 & Sol & Apartment   & Entire home/apt &  6 & 1 & 2 &  2 & Real Bed      & TV,Internet,Wireless Internet,Air conditioning,Kitchen,Smoking allowed,Elevator in building,Buzzer/wireless intercom,Heating,Family/kid friendly,Washer,Dryer,Essentials,Shampoo,Hangers,Hair dryer,Iron,Laptop friendly workspace                                                                                             &  NA & 160 &  95 &       NA & FALSE & TRUE\\\\\n",
       "\t14 & 28013 & Sol & Apartment   & Entire home/apt &  4 & 1 & 1 &  2 & Real Bed      & TV,Internet,Wireless Internet,Air conditioning,Kitchen,Heating,Washer,Essentials,Hangers,Hair dryer,translation missing: en.hosting\\_amenity\\_50                                                                                                                                                                                 &  NA &  49 &  95 &       NA & FALSE & TRUE\\\\\n",
       "\t15 & 28013 & Sol & Apartment   & Entire home/apt &  4 & 1 & 1 &  2 & Real Bed      & TV,Wireless Internet,Kitchen,Pets allowed,Elevator in building,Heating,Family/kid friendly,Washer,Essentials,Shampoo,Hangers,Hair dryer,Laptop friendly workspace                                                                                                                                                              &  NA &  70 &  88 &       NA & FALSE & TRUE\\\\\n",
       "\t16 & 28005 & Sol & Apartment   & Entire home/apt & 10 & 2 & 4 &  7 & Real Bed      & TV,Internet,Wireless Internet,Air conditioning,Kitchen,Heating,Family/kid friendly,Washer,Essentials                                                                                                                                                                                                                           &  NA & 210 &  81 &       NA & FALSE & TRUE\\\\\n",
       "\t17 & 28013 & Sol & Apartment   & Entire home/apt &  6 & 1 & 2 &  4 & Real Bed      & TV,Internet,Wireless Internet,Air conditioning,Kitchen,Smoking allowed,Pets allowed,Doorman,Elevator in building,Buzzer/wireless intercom,Heating,Family/kid friendly,Washer,First aid kit,Safety card,Essentials,Shampoo,Hangers,Hair dryer,Iron                                                                              &  NA & 120 &  99 &       NA & FALSE & TRUE\\\\\n",
       "\t18 & 28012 & Sol & Apartment   & Entire home/apt &  4 & 1 & 1 &  2 & Real Bed      & TV,Internet,Wireless Internet,Air conditioning,Kitchen,Elevator in building,Heating,Family/kid friendly,Washer,Smoke detector,Carbon monoxide detector,Essentials,Shampoo,24-hour check-in,Hangers,Hair dryer,Iron,Laptop friendly workspace                                                                                   &  NA &  50 &  91 &       NA & FALSE & TRUE\\\\\n",
       "\t19 & 28012 & Sol & Apartment   & Entire home/apt &  4 & 1 & 1 &  1 & Real Bed      & TV,Cable TV,Internet,Wireless Internet,Air conditioning,Kitchen,Elevator in building,Buzzer/wireless intercom,Heating,Family/kid friendly,Washer,Essentials,Hair dryer,Iron                                                                                                                                                    & 753 & 100 &  87 & 69.95596 & FALSE & TRUE\\\\\n",
       "\t20 & 28013 & Sol & Apartment   & Entire home/apt &  4 & 1 & 1 &  2 & Real Bed      & TV,Internet,Wireless Internet,Air conditioning,Kitchen,Breakfast,Elevator in building,Heating,Family/kid friendly,Washer,First aid kit,Fire extinguisher,Essentials,Shampoo,Hangers,Hair dryer,Iron,Laptop friendly workspace                                                                                                  &  NA &  75 & 100 &       NA & FALSE & TRUE\\\\\n",
       "\t21 & 28014 & Sol & Condominium & Entire home/apt &  8 & 2 & 2 &  5 & Real Bed      & TV,Internet,Wireless Internet,Air conditioning,Wheelchair accessible,Kitchen,Doorman,Elevator in building,Buzzer/wireless intercom,Heating,Family/kid friendly,Washer,Smoke detector,Carbon monoxide detector,Essentials,Shampoo,24-hour check-in,Hangers,Hair dryer,Iron,Laptop friendly workspace                            &  NA & 155 &  93 &       NA & FALSE & TRUE\\\\\n",
       "\t22 & 28013 & Sol & Apartment   & Entire home/apt &  6 & 2 & 2 &  3 & Real Bed      & TV,Internet,Wireless Internet,Air conditioning,Wheelchair accessible,Kitchen,Doorman,Elevator in building,Buzzer/wireless intercom,Heating,Family/kid friendly,Washer,Dryer,Essentials,Hangers,Hair dryer,Iron                                                                                                                 &  NA & 155 &  80 &       NA & FALSE & TRUE\\\\\n",
       "\t23 & 28005 & Sol & Apartment   & Entire home/apt &  8 & 1 & 3 &  4 & Real Bed      & TV,Internet,Wireless Internet,Kitchen,Breakfast,Elevator in building,Buzzer/wireless intercom,Heating,Family/kid friendly,Washer,Essentials,Shampoo,Hangers,Hair dryer,Iron,Laptop friendly workspace,Self Check-In,Lockbox                                                                                                    &  NA & 163 & 100 &       NA &  TRUE & TRUE\\\\\n",
       "\t27 & 28013 & Sol & Apartment   & Entire home/apt &  4 & 1 & 1 &  1 & Pull-out Sofa & TV,Internet,Wireless Internet,Air conditioning,Kitchen,Elevator in building,Buzzer/wireless intercom,Heating,Family/kid friendly,Washer,Smoke detector,Carbon monoxide detector,First aid kit,Essentials,Shampoo,24-hour check-in,Hangers,Hair dryer,Iron,Laptop friendly workspace,translation missing: en.hosting\\_amenity\\_50 &  NA &  64 &  97 &       NA & FALSE & TRUE\\\\\n",
       "\t28 & 28013 & Sol & Apartment   & Entire home/apt &  6 & 2 & 2 &  2 & Real Bed      & TV,Wireless Internet,Air conditioning,Kitchen,Elevator in building,Heating,Washer,Essentials,Shampoo                                                                                                                                                                                                                           &  NA & 109 &  90 &       NA & FALSE & TRUE\\\\\n",
       "\t29 & 28013 & Sol & Apartment   & Entire home/apt &  3 & 1 & 1 &  2 & Real Bed      & TV,Internet,Wireless Internet,Air conditioning,Kitchen,Smoking allowed,Elevator in building,Buzzer/wireless intercom,Heating,Family/kid friendly,Washer,Fire extinguisher,Essentials,Shampoo,Hangers,Hair dryer,Iron                                                                                                           &  NA &  67 &  95 &       NA & FALSE & TRUE\\\\\n",
       "\t30 & 28013 & Sol & Apartment   & Entire home/apt &  2 & 1 & 1 &  1 & Real Bed      & TV,Internet,Wireless Internet,Air conditioning,Kitchen,Elevator in building,Buzzer/wireless intercom,Heating,Family/kid friendly,Washer,First aid kit,Essentials,Shampoo,Hair dryer,Iron                                                                                                                                       & 269 &  65 &  93 & 24.99091 & FALSE & TRUE\\\\\n",
       "\t31 & 28013 & Sol & Apartment   & Entire home/apt &  3 & 1 & 0 &  2 & Real Bed      & TV,Wireless Internet,Air conditioning,Kitchen,Elevator in building,Washer,Fire extinguisher,Essentials,translation missing: en.hosting\\_amenity\\_49,translation missing: en.hosting\\_amenity\\_50                                                                                                                                   &   0 &  41 &  89 &  0.00000 & FALSE & TRUE\\\\\n",
       "\t32 & 28012 & Sol & Apartment   & Entire home/apt &  3 & 1 & 1 &  1 & Real Bed      & TV,Internet,Wireless Internet,Air conditioning,Kitchen,Smoking allowed,Pets allowed,Elevator in building,Heating,Family/kid friendly,Washer,Essentials                                                                                                                                                                         &  NA & 109 &  92 &       NA & FALSE & TRUE\\\\\n",
       "\t33 & 28013 & Sol & Apartment   & Entire home/apt &  4 & 1 & 2 &  2 & Real Bed      & TV,Internet,Wireless Internet,Air conditioning,Kitchen,Smoking allowed,Heating,Family/kid friendly,Washer,Essentials,Shampoo,Hangers,Hair dryer,Iron,Laptop friendly workspace                                                                                                                                                 &  NA &  71 &  93 &       NA & FALSE & TRUE\\\\\n",
       "\t34 & 28012 & Sol & Apartment   & Entire home/apt &  4 & 2 & 2 &  2 & Real Bed      & TV,Cable TV,Internet,Wireless Internet,Air conditioning,Kitchen,Elevator in building,Buzzer/wireless intercom,Heating,Family/kid friendly,Washer,Dryer,First aid kit,Fire extinguisher,Essentials,Shampoo,Hangers,Hair dryer,Iron,Laptop friendly workspace                                                                    &  NA & 110 &  98 &       NA & FALSE & TRUE\\\\\n",
       "\t35 & 28013 & Sol & Condominium & Entire home/apt &  4 & 1 & 1 &  1 & Real Bed      & TV,Wireless Internet,Air conditioning,Kitchen,Elevator in building,Hot tub,Heating,Washer,Essentials,Shampoo,Hangers,Hair dryer,Iron,translation missing: en.hosting\\_amenity\\_49,translation missing: en.hosting\\_amenity\\_50                                                                                                     &  NA & 150 &  80 &       NA & FALSE & TRUE\\\\\n",
       "\t36 & 28013 & Sol & Apartment   & Entire home/apt &  4 & 1 & 1 &  3 & Real Bed      & TV,Internet,Wireless Internet,Air conditioning,Kitchen,Doorman,Elevator in building,Buzzer/wireless intercom,Heating,Family/kid friendly,Washer,Fire extinguisher,Essentials,Shampoo,24-hour check-in,Hangers,Hair dryer,Iron,Laptop friendly workspace,Private entrance                                                       &  NA & 110 &  95 &       NA & FALSE & TRUE\\\\\n",
       "\t37 & 28013 & Sol & Apartment   & Entire home/apt &  4 & 1 & 2 &  3 & Real Bed      & TV,Internet,Wireless Internet,Air conditioning,Kitchen,Buzzer/wireless intercom,Heating,Family/kid friendly,Washer,Essentials,Shampoo,Hangers,Hair dryer,Iron,Laptop friendly workspace                                                                                                                                        &  NA &  90 & 100 &       NA & FALSE & TRUE\\\\\n",
       "\t38 & 28012 & Sol & Apartment   & Entire home/apt &  4 & 1 & 1 &  1 & Pull-out Sofa & TV,Wireless Internet,Air conditioning,Kitchen,Doorman,Elevator in building,Buzzer/wireless intercom,Heating,Family/kid friendly,Washer,Smoke detector,Carbon monoxide detector,First aid kit,Safety card,Fire extinguisher,Essentials,Shampoo,24-hour check-in,Hangers,Hair dryer,Iron,Laptop friendly workspace               &  NA &  84 &  96 &       NA & FALSE & TRUE\\\\\n",
       "\t334 & 28012 & Sol & Apartment   & Entire home/apt & 16 & 4 & 4 & 11 & Real Bed      & TV,Internet,Wireless Internet,Air conditioning,Kitchen,Smoking allowed,Pets allowed,Elevator in building,Buzzer/wireless intercom,Heating,Family/kid friendly,Washer,Dryer,First aid kit,Essentials,Shampoo,Hangers,Hair dryer,Iron,Private entrance                                                                           &  NA & 350 &  NA &       NA & FALSE & TRUE\\\\\n",
       "\t335 & 28012 & Sol & Apartment   & Entire home/apt &  5 & 2 & 2 &  4 & Real Bed      & TV,Wireless Internet,Air conditioning,Kitchen,Buzzer/wireless intercom,Heating,Family/kid friendly,Washer                                                                                                                                                                                                                      &   0 &  90 &  95 &  0.00000 & FALSE & TRUE\\\\\n",
       "\t336 & 28012 & Sol & Apartment   & Entire home/apt &  8 & 1 & 2 &  2 & Real Bed      & TV,Wireless Internet,Air conditioning,Kitchen,Smoking allowed,Doorman,Breakfast,Buzzer/wireless intercom,Heating,Family/kid friendly,Washer,Smoke detector,Carbon monoxide detector,First aid kit,Safety card,Essentials,Shampoo,24-hour check-in,Hangers,Hair dryer,Iron,Laptop friendly workspace,Private entrance           &  NA &  95 &  60 &       NA & FALSE & TRUE\\\\\n",
       "\t337 & 28012 & Sol & Apartment   & Entire home/apt &  4 & 1 & 0 &  1 & Real Bed      & TV,Internet,Wireless Internet,Kitchen,Doorman,Elevator in building,Buzzer/wireless intercom,Heating,Family/kid friendly,Washer,Dryer,Essentials,Hangers,Hair dryer,Iron,Laptop friendly workspace                                                                                                                              &  NA &  90 &  92 &       NA & FALSE & TRUE\\\\\n",
       "\t⋮ & ⋮ & ⋮ & ⋮ & ⋮ & ⋮ & ⋮ & ⋮ & ⋮ & ⋮ & ⋮ & ⋮ & ⋮ & ⋮ & ⋮ & ⋮ & ⋮\\\\\n",
       "\t7604 & 28012 & Sol & Apartment   & Entire home/apt &  4 & 1.0 & 2 & 3 & Real Bed      & TV,Internet,Wireless Internet,Air conditioning,Kitchen,Heating,Washer,Essentials,translation missing: en.hosting\\_amenity\\_49,translation missing: en.hosting\\_amenity\\_50                                                                                                                                                                &  NA &  49 &  81 &       NA & FALSE & TRUE\\\\\n",
       "\t7605 & 28013 & Sol & Loft        & Entire home/apt &  6 & 1.5 & 3 & 3 & Real Bed      & TV,Wireless Internet,Air conditioning,Kitchen,Breakfast,Heating,Family/kid friendly,Washer,Dryer,Smoke detector,Carbon monoxide detector,Essentials,Shampoo,24-hour check-in,Hangers,Hair dryer,Iron,Laptop friendly workspace                                                                                                        &  NA & 175 &  98 &       NA &  TRUE & TRUE\\\\\n",
       "\t7606 & 28013 & Sol & Apartment   & Entire home/apt &  4 & 1.0 & 1 & 2 & Real Bed      & Internet,Wireless Internet,Air conditioning,Kitchen,Doorman,Elevator in building,Buzzer/wireless intercom,Heating,Family/kid friendly,Washer,First aid kit,Essentials,Shampoo,24-hour check-in,Hangers,Hair dryer,Iron,Laptop friendly workspace                                                                                      &  NA &  75 &  98 &       NA & FALSE & TRUE\\\\\n",
       "\t7707 & 28013 & Sol & Apartment   & Entire home/apt &  6 & 2.0 & 2 & 2 & Real Bed      & TV,Internet,Wireless Internet,Air conditioning,Kitchen,Doorman,Elevator in building,Buzzer/wireless intercom,Heating,Family/kid friendly,Washer,Safety card,Fire extinguisher,Essentials,Shampoo,24-hour check-in,Hangers,Hair dryer,Iron,Laptop friendly workspace,Private entrance                                                  &  NA & 130 &  95 &       NA & FALSE & TRUE\\\\\n",
       "\t7708 & 28005 & Sol & Apartment   & Entire home/apt &  6 & 1.0 & 2 & 3 & Real Bed      & TV,Cable TV,Internet,Wireless Internet,Air conditioning,Kitchen,Elevator in building,Buzzer/wireless intercom,Heating,Family/kid friendly,Washer,Dryer,Smoke detector,Carbon monoxide detector,Essentials,Shampoo,24-hour check-in,Hangers,Hair dryer,Iron,Laptop friendly workspace                                                  &  NA &  99 &  89 &       NA & FALSE & TRUE\\\\\n",
       "\t7709 & 28013 & Sol & Apartment   & Entire home/apt &  6 & 1.0 & 2 & 3 & Real Bed      & TV,Wireless Internet,Air conditioning,Kitchen,Smoking allowed,Elevator in building,Heating,Washer,Smoke detector,Shampoo,translation missing: en.hosting\\_amenity\\_49,translation missing: en.hosting\\_amenity\\_50                                                                                                                        &  NA &  69 &  87 &       NA & FALSE & TRUE\\\\\n",
       "\t7710 & 28013 & Sol & Apartment   & Entire home/apt &  3 & 1.0 & 1 & 1 & Real Bed      & TV,Internet,Wireless Internet,Air conditioning,Kitchen,Elevator in building,Heating,Family/kid friendly,Washer,Essentials                                                                                                                                                                                                             &  NA &  80 &  95 &       NA & FALSE & TRUE\\\\\n",
       "\t7711 & 28013 & Sol & Apartment   & Entire home/apt & 10 & 3.0 & 3 & 7 & Real Bed      & TV,Internet,Air conditioning,Kitchen,Smoking allowed,Pets allowed,Heating,Family/kid friendly,Washer                                                                                                                                                                                                                                  & 807 & 150 &  65 & 74.97272 &  TRUE & TRUE\\\\\n",
       "\t7712 & 28013 & Sol & Apartment   & Entire home/apt &  4 & 1.0 & 1 & 1 & Real Bed      & TV,Wireless Internet,Heating,Family/kid friendly,Washer,Essentials,Hair dryer,Iron                                                                                                                                                                                                                                                    &  NA &  35 &  75 &       NA & FALSE & TRUE\\\\\n",
       "\t7713 & 28013 & Sol & Apartment   & Entire home/apt &  4 & 1.0 & 1 & 1 & Real Bed      & TV,Internet,Wireless Internet,Air conditioning,Kitchen,Smoking allowed,Breakfast,Elevator in building,Heating,Family/kid friendly,Washer,Essentials,Hangers,Hair dryer,Iron                                                                                                                                                           &  NA &  95 &  97 &       NA & FALSE & TRUE\\\\\n",
       "\t7714 & 28013 & Sol & Apartment   & Entire home/apt &  4 & 1.0 & 1 & 2 & Real Bed      & TV,Wireless Internet,Air conditioning,Kitchen,Doorman,Elevator in building,Buzzer/wireless intercom,Heating,Family/kid friendly,Washer,Essentials,Shampoo                                                                                                                                                                             &  NA & 103 & 100 &       NA & FALSE & TRUE\\\\\n",
       "\t7715 & 28013 & Sol & Apartment   & Entire home/apt &  4 & 1.0 & 0 & 2 & Real Bed      & TV,Wireless Internet,Air conditioning,Wheelchair accessible,Kitchen,Doorman,Elevator in building,Buzzer/wireless intercom,Heating,Family/kid friendly,Washer,Essentials,Shampoo                                                                                                                                                       &  NA &  79 &  NA &       NA & FALSE & TRUE\\\\\n",
       "\t7716 & 28012 & Sol & Apartment   & Entire home/apt &  4 & 1.0 & 1 & 2 & Real Bed      & TV,Internet,Wireless Internet,Air conditioning,Kitchen,Doorman,Elevator in building,Buzzer/wireless intercom,Heating,Family/kid friendly,Washer,Smoke detector,Carbon monoxide detector,First aid kit,Essentials,Shampoo,24-hour check-in,Hangers,Hair dryer,Iron,Laptop friendly workspace                                           &  NA &  80 &  96 &       NA & FALSE & TRUE\\\\\n",
       "\t7717 & 28004 & Sol & Apartment   & Entire home/apt &  4 & 1.0 & 1 & 2 & Real Bed      & TV,Internet,Wireless Internet,Air conditioning,Kitchen,Smoking allowed,Pets allowed,Elevator in building,Heating,Family/kid friendly,Washer,Dryer,Essentials,Shampoo                                                                                                                                                                  &  NA &  62 &  92 &       NA & FALSE & TRUE\\\\\n",
       "\t7718 & 28013 & Sol & Apartment   & Entire home/apt &  2 & 1.0 & 1 & 1 & Pull-out Sofa & TV,Cable TV,Internet,Wireless Internet,Air conditioning,Kitchen,Doorman,Elevator in building,Heating,Family/kid friendly,Smoke detector,First aid kit,Safety card,Fire extinguisher,Essentials,Shampoo,24-hour check-in,Hangers,Hair dryer,Iron,Laptop friendly workspace,translation missing: en.hosting\\_amenity\\_49                  &  NA &  55 &  97 &       NA & FALSE & TRUE\\\\\n",
       "\t7719 & 28012 & Sol & Apartment   & Entire home/apt &  6 & 1.0 & 1 & 3 & Real Bed      & TV,Internet,Wireless Internet,Air conditioning,Kitchen,Buzzer/wireless intercom,Heating,Family/kid friendly,Washer,Essentials,Shampoo,24-hour check-in,Hair dryer,Iron,Laptop friendly workspace                                                                                                                                      &  NA &  80 &  94 &       NA & FALSE & TRUE\\\\\n",
       "\t7720 & 28012 & Sol & Loft        & Entire home/apt &  4 & 1.0 & 1 & 2 & Real Bed      & TV,Internet,Wireless Internet,Air conditioning,Wheelchair accessible,Kitchen,Doorman,Elevator in building,Heating,Family/kid friendly,Washer,First aid kit,Fire extinguisher,Essentials,Shampoo,24-hour check-in,Hangers,Hair dryer                                                                                                   &  NA &  80 &  96 &       NA & FALSE & TRUE\\\\\n",
       "\t7721 & 28013 & Sol & Apartment   & Entire home/apt &  4 & 1.0 & 1 & 2 & Real Bed      & TV,Internet,Wireless Internet,Air conditioning,Kitchen,Doorman,Elevator in building,Buzzer/wireless intercom,Heating,Family/kid friendly,Washer,Essentials,Shampoo,24-hour check-in,Hangers,Hair dryer,Iron,Laptop friendly workspace                                                                                                 &   0 &  72 &  96 &  0.00000 & FALSE & TRUE\\\\\n",
       "\t7722 & 28013 & Sol & Apartment   & Entire home/apt &  4 & 1.0 & 1 & 2 & Real Bed      & TV,Wireless Internet,Air conditioning,Kitchen,Elevator in building,Heating,Family/kid friendly,Washer,Hair dryer,Iron                                                                                                                                                                                                                 & 431 &  71 &  91 & 40.04119 & FALSE & TRUE\\\\\n",
       "\t7723 & 28013 & Sol & Apartment   & Entire home/apt &  8 & 2.0 & 3 & 8 & Real Bed      & TV,Internet,Wireless Internet,Air conditioning,Wheelchair accessible,Kitchen,Doorman,Elevator in building,Heating,Family/kid friendly,Suitable for events,Washer,Dryer,Smoke detector,First aid kit,Fire extinguisher,Shampoo                                                                                                         &  NA & 250 &  88 &       NA &  TRUE & TRUE\\\\\n",
       "\t7724 & 28001 & Sol & Apartment   & Entire home/apt &  4 & 1.0 & 2 & 2 & Real Bed      & TV,Internet,Wireless Internet,Air conditioning,Kitchen,Elevator in building,Buzzer/wireless intercom,Heating,Family/kid friendly,Washer,First aid kit,Essentials,Shampoo,24-hour check-in,Hangers,Hair dryer,Iron,Laptop friendly workspace                                                                                           &  NA &  75 &  95 &       NA & FALSE & TRUE\\\\\n",
       "\t7725 & 28012 & Sol & Apartment   & Entire home/apt &  5 & 2.0 & 2 & 3 & Real Bed      & TV,Kitchen,Buzzer/wireless intercom,Heating,Family/kid friendly,Washer                                                                                                                                                                                                                                                                &   0 & 115 &  86 &  0.00000 & FALSE & TRUE\\\\\n",
       "\t7726 & 28012 & Sol & House       & Entire home/apt &  6 & 2.0 & 2 & 6 & Real Bed      & TV,Wireless Internet,Air conditioning,Kitchen,Elevator in building,Buzzer/wireless intercom,Heating,Family/kid friendly,Washer,First aid kit,Safety card,Fire extinguisher,Essentials,Shampoo,Hangers,Hair dryer,Iron,Laptop friendly workspace                                                                                       &  NA & 175 &  91 &       NA & FALSE & TRUE\\\\\n",
       "\t7727 & 28013 & Sol & Apartment   & Entire home/apt &  2 & 1.0 & 1 & 1 & Real Bed      & TV,Wireless Internet,Air conditioning,Kitchen,Heating,Family/kid friendly,Washer,Dryer                                                                                                                                                                                                                                                &  NA &  75 &  97 &       NA & FALSE & TRUE\\\\\n",
       "\t7728 & 28013 & Sol & Condominium & Entire home/apt &  2 & 1.0 & 0 & 1 & Real Bed      & TV,Internet,Wireless Internet,Air conditioning,Kitchen,Elevator in building,Heating,Washer,Essentials,Hangers,Hair dryer,Iron,Laptop friendly workspace                                                                                                                                                                               &  NA &  50 &  87 &       NA & FALSE & TRUE\\\\\n",
       "\t7729 & 28013 & Sol & Apartment   & Entire home/apt &  4 & 1.0 & 2 & 2 & Real Bed      & TV,Internet,Wireless Internet,Air conditioning,Wheelchair accessible,Kitchen,Smoking allowed,Elevator in building,Heating,Family/kid friendly,Washer,Smoke detector,First aid kit,Safety card,Fire extinguisher,Essentials,24-hour check-in,Hangers,Hair dryer,Iron,Laptop friendly workspace                                         &  NA &  89 &  92 &       NA & FALSE & TRUE\\\\\n",
       "\t7730 & 28012 & Sol & Apartment   & Entire home/apt &  4 & 1.0 & 0 & 1 & Real Bed      & TV,Internet,Wireless Internet,Kitchen,Doorman,Elevator in building,Buzzer/wireless intercom,Heating,Family/kid friendly,Washer,Dryer,Essentials,Hangers,Hair dryer,Iron,Laptop friendly workspace                                                                                                                                     &  NA &  90 & 100 &       NA & FALSE & TRUE\\\\\n",
       "\t7731 & 28013 & Sol & Apartment   & Entire home/apt &  6 & 2.0 & 1 & 3 & Real Bed      & TV,Internet,Wireless Internet,Air conditioning,Elevator in building,Heating,Family/kid friendly,Essentials,Hair dryer                                                                                                                                                                                                                 &  NA & 115 &  84 &       NA & FALSE & TRUE\\\\\n",
       "\t7732 & 28012 & Sol & Apartment   & Entire home/apt &  2 & 1.0 & 1 & 1 & Real Bed      & TV,Internet,Wireless Internet,Kitchen,Doorman,Buzzer/wireless intercom,Heating,Washer,Smoke detector,Carbon monoxide detector,Essentials,Shampoo,24-hour check-in,Hangers,Hair dryer,Iron,Laptop friendly workspace,translation missing: en.hosting\\_amenity\\_49,translation missing: en.hosting\\_amenity\\_50,Self Check-In,Doorman Entry &  NA &  90 &  96 &       NA & FALSE & TRUE\\\\\n",
       "\t7733 & 28013 & Sol & Apartment   & Entire home/apt &  4 & 1.0 & 1 & 1 & Real Bed      & Internet,Wireless Internet,Kitchen,Pets allowed,Doorman,Elevator in building,Buzzer/wireless intercom,Heating,Family/kid friendly,First aid kit,Essentials,Hangers,Hair dryer,Iron,Laptop friendly workspace                                                                                                                          &  NA &  69 &  80 &       NA & FALSE & TRUE\\\\\n",
       "\\end{tabular}\n"
      ],
      "text/markdown": [
       "\n",
       "A data.frame: 701 × 16\n",
       "\n",
       "| <!--/--> | CodigoPostal &lt;fct&gt; | Barrio &lt;fct&gt; | TipoPropiedad &lt;fct&gt; | TipoAlquiler &lt;fct&gt; | MaxOcupantes &lt;int&gt; | NumBanyos &lt;dbl&gt; | NumDormitorios &lt;int&gt; | NumCamas &lt;int&gt; | TipoCama &lt;fct&gt; | Comodidades &lt;fct&gt; | PiesCuadrados &lt;int&gt; | Precio &lt;int&gt; | Puntuacion &lt;int&gt; | MetrosCuadrados &lt;dbl&gt; | TripleHab &lt;lgl&gt; | Sol &lt;lgl&gt; |\n",
       "|---|---|---|---|---|---|---|---|---|---|---|---|---|---|---|---|---|\n",
       "| 10 | 28013 | Sol | Apartment   | Entire home/apt |  4 | 1 | 1 |  1 | Real Bed      | TV,Wireless Internet,Air conditioning,Kitchen,Doorman,Elevator in building,Buzzer/wireless intercom,Heating,Family/kid friendly,Suitable for events,Washer,Essentials,Hangers,Hair dryer,Iron                                                                                                                                  | 646 |  75 |  91 | 60.01534 | FALSE | TRUE |\n",
       "| 11 | 28013 | Sol | Condominium | Entire home/apt |  6 | 1 | 2 |  3 | Real Bed      | TV,Wireless Internet,Air conditioning,Kitchen,Doorman,Elevator in building,Buzzer/wireless intercom,Heating,Family/kid friendly,Washer,Dryer,Essentials,Shampoo,Hangers,Hair dryer,Iron                                                                                                                                        |  NA | 130 | 100 |       NA | FALSE | TRUE |\n",
       "| 12 | 28013 | Sol | Apartment   | Entire home/apt |  4 | 1 | 1 |  2 | Real Bed      | TV,Internet,Wireless Internet,Air conditioning,Kitchen,Doorman,Elevator in building,Buzzer/wireless intercom,Heating,Family/kid friendly,Washer,Smoke detector,Carbon monoxide detector,First aid kit,Safety card,Fire extinguisher,Essentials,Shampoo,24-hour check-in,Hangers,Hair dryer,Iron,Laptop friendly workspace      |  NA | 100 |  97 |       NA | FALSE | TRUE |\n",
       "| 13 | 28012 | Sol | Apartment   | Entire home/apt |  6 | 1 | 2 |  2 | Real Bed      | TV,Internet,Wireless Internet,Air conditioning,Kitchen,Smoking allowed,Elevator in building,Buzzer/wireless intercom,Heating,Family/kid friendly,Washer,Dryer,Essentials,Shampoo,Hangers,Hair dryer,Iron,Laptop friendly workspace                                                                                             |  NA | 160 |  95 |       NA | FALSE | TRUE |\n",
       "| 14 | 28013 | Sol | Apartment   | Entire home/apt |  4 | 1 | 1 |  2 | Real Bed      | TV,Internet,Wireless Internet,Air conditioning,Kitchen,Heating,Washer,Essentials,Hangers,Hair dryer,translation missing: en.hosting_amenity_50                                                                                                                                                                                 |  NA |  49 |  95 |       NA | FALSE | TRUE |\n",
       "| 15 | 28013 | Sol | Apartment   | Entire home/apt |  4 | 1 | 1 |  2 | Real Bed      | TV,Wireless Internet,Kitchen,Pets allowed,Elevator in building,Heating,Family/kid friendly,Washer,Essentials,Shampoo,Hangers,Hair dryer,Laptop friendly workspace                                                                                                                                                              |  NA |  70 |  88 |       NA | FALSE | TRUE |\n",
       "| 16 | 28005 | Sol | Apartment   | Entire home/apt | 10 | 2 | 4 |  7 | Real Bed      | TV,Internet,Wireless Internet,Air conditioning,Kitchen,Heating,Family/kid friendly,Washer,Essentials                                                                                                                                                                                                                           |  NA | 210 |  81 |       NA | FALSE | TRUE |\n",
       "| 17 | 28013 | Sol | Apartment   | Entire home/apt |  6 | 1 | 2 |  4 | Real Bed      | TV,Internet,Wireless Internet,Air conditioning,Kitchen,Smoking allowed,Pets allowed,Doorman,Elevator in building,Buzzer/wireless intercom,Heating,Family/kid friendly,Washer,First aid kit,Safety card,Essentials,Shampoo,Hangers,Hair dryer,Iron                                                                              |  NA | 120 |  99 |       NA | FALSE | TRUE |\n",
       "| 18 | 28012 | Sol | Apartment   | Entire home/apt |  4 | 1 | 1 |  2 | Real Bed      | TV,Internet,Wireless Internet,Air conditioning,Kitchen,Elevator in building,Heating,Family/kid friendly,Washer,Smoke detector,Carbon monoxide detector,Essentials,Shampoo,24-hour check-in,Hangers,Hair dryer,Iron,Laptop friendly workspace                                                                                   |  NA |  50 |  91 |       NA | FALSE | TRUE |\n",
       "| 19 | 28012 | Sol | Apartment   | Entire home/apt |  4 | 1 | 1 |  1 | Real Bed      | TV,Cable TV,Internet,Wireless Internet,Air conditioning,Kitchen,Elevator in building,Buzzer/wireless intercom,Heating,Family/kid friendly,Washer,Essentials,Hair dryer,Iron                                                                                                                                                    | 753 | 100 |  87 | 69.95596 | FALSE | TRUE |\n",
       "| 20 | 28013 | Sol | Apartment   | Entire home/apt |  4 | 1 | 1 |  2 | Real Bed      | TV,Internet,Wireless Internet,Air conditioning,Kitchen,Breakfast,Elevator in building,Heating,Family/kid friendly,Washer,First aid kit,Fire extinguisher,Essentials,Shampoo,Hangers,Hair dryer,Iron,Laptop friendly workspace                                                                                                  |  NA |  75 | 100 |       NA | FALSE | TRUE |\n",
       "| 21 | 28014 | Sol | Condominium | Entire home/apt |  8 | 2 | 2 |  5 | Real Bed      | TV,Internet,Wireless Internet,Air conditioning,Wheelchair accessible,Kitchen,Doorman,Elevator in building,Buzzer/wireless intercom,Heating,Family/kid friendly,Washer,Smoke detector,Carbon monoxide detector,Essentials,Shampoo,24-hour check-in,Hangers,Hair dryer,Iron,Laptop friendly workspace                            |  NA | 155 |  93 |       NA | FALSE | TRUE |\n",
       "| 22 | 28013 | Sol | Apartment   | Entire home/apt |  6 | 2 | 2 |  3 | Real Bed      | TV,Internet,Wireless Internet,Air conditioning,Wheelchair accessible,Kitchen,Doorman,Elevator in building,Buzzer/wireless intercom,Heating,Family/kid friendly,Washer,Dryer,Essentials,Hangers,Hair dryer,Iron                                                                                                                 |  NA | 155 |  80 |       NA | FALSE | TRUE |\n",
       "| 23 | 28005 | Sol | Apartment   | Entire home/apt |  8 | 1 | 3 |  4 | Real Bed      | TV,Internet,Wireless Internet,Kitchen,Breakfast,Elevator in building,Buzzer/wireless intercom,Heating,Family/kid friendly,Washer,Essentials,Shampoo,Hangers,Hair dryer,Iron,Laptop friendly workspace,Self Check-In,Lockbox                                                                                                    |  NA | 163 | 100 |       NA |  TRUE | TRUE |\n",
       "| 27 | 28013 | Sol | Apartment   | Entire home/apt |  4 | 1 | 1 |  1 | Pull-out Sofa | TV,Internet,Wireless Internet,Air conditioning,Kitchen,Elevator in building,Buzzer/wireless intercom,Heating,Family/kid friendly,Washer,Smoke detector,Carbon monoxide detector,First aid kit,Essentials,Shampoo,24-hour check-in,Hangers,Hair dryer,Iron,Laptop friendly workspace,translation missing: en.hosting_amenity_50 |  NA |  64 |  97 |       NA | FALSE | TRUE |\n",
       "| 28 | 28013 | Sol | Apartment   | Entire home/apt |  6 | 2 | 2 |  2 | Real Bed      | TV,Wireless Internet,Air conditioning,Kitchen,Elevator in building,Heating,Washer,Essentials,Shampoo                                                                                                                                                                                                                           |  NA | 109 |  90 |       NA | FALSE | TRUE |\n",
       "| 29 | 28013 | Sol | Apartment   | Entire home/apt |  3 | 1 | 1 |  2 | Real Bed      | TV,Internet,Wireless Internet,Air conditioning,Kitchen,Smoking allowed,Elevator in building,Buzzer/wireless intercom,Heating,Family/kid friendly,Washer,Fire extinguisher,Essentials,Shampoo,Hangers,Hair dryer,Iron                                                                                                           |  NA |  67 |  95 |       NA | FALSE | TRUE |\n",
       "| 30 | 28013 | Sol | Apartment   | Entire home/apt |  2 | 1 | 1 |  1 | Real Bed      | TV,Internet,Wireless Internet,Air conditioning,Kitchen,Elevator in building,Buzzer/wireless intercom,Heating,Family/kid friendly,Washer,First aid kit,Essentials,Shampoo,Hair dryer,Iron                                                                                                                                       | 269 |  65 |  93 | 24.99091 | FALSE | TRUE |\n",
       "| 31 | 28013 | Sol | Apartment   | Entire home/apt |  3 | 1 | 0 |  2 | Real Bed      | TV,Wireless Internet,Air conditioning,Kitchen,Elevator in building,Washer,Fire extinguisher,Essentials,translation missing: en.hosting_amenity_49,translation missing: en.hosting_amenity_50                                                                                                                                   |   0 |  41 |  89 |  0.00000 | FALSE | TRUE |\n",
       "| 32 | 28012 | Sol | Apartment   | Entire home/apt |  3 | 1 | 1 |  1 | Real Bed      | TV,Internet,Wireless Internet,Air conditioning,Kitchen,Smoking allowed,Pets allowed,Elevator in building,Heating,Family/kid friendly,Washer,Essentials                                                                                                                                                                         |  NA | 109 |  92 |       NA | FALSE | TRUE |\n",
       "| 33 | 28013 | Sol | Apartment   | Entire home/apt |  4 | 1 | 2 |  2 | Real Bed      | TV,Internet,Wireless Internet,Air conditioning,Kitchen,Smoking allowed,Heating,Family/kid friendly,Washer,Essentials,Shampoo,Hangers,Hair dryer,Iron,Laptop friendly workspace                                                                                                                                                 |  NA |  71 |  93 |       NA | FALSE | TRUE |\n",
       "| 34 | 28012 | Sol | Apartment   | Entire home/apt |  4 | 2 | 2 |  2 | Real Bed      | TV,Cable TV,Internet,Wireless Internet,Air conditioning,Kitchen,Elevator in building,Buzzer/wireless intercom,Heating,Family/kid friendly,Washer,Dryer,First aid kit,Fire extinguisher,Essentials,Shampoo,Hangers,Hair dryer,Iron,Laptop friendly workspace                                                                    |  NA | 110 |  98 |       NA | FALSE | TRUE |\n",
       "| 35 | 28013 | Sol | Condominium | Entire home/apt |  4 | 1 | 1 |  1 | Real Bed      | TV,Wireless Internet,Air conditioning,Kitchen,Elevator in building,Hot tub,Heating,Washer,Essentials,Shampoo,Hangers,Hair dryer,Iron,translation missing: en.hosting_amenity_49,translation missing: en.hosting_amenity_50                                                                                                     |  NA | 150 |  80 |       NA | FALSE | TRUE |\n",
       "| 36 | 28013 | Sol | Apartment   | Entire home/apt |  4 | 1 | 1 |  3 | Real Bed      | TV,Internet,Wireless Internet,Air conditioning,Kitchen,Doorman,Elevator in building,Buzzer/wireless intercom,Heating,Family/kid friendly,Washer,Fire extinguisher,Essentials,Shampoo,24-hour check-in,Hangers,Hair dryer,Iron,Laptop friendly workspace,Private entrance                                                       |  NA | 110 |  95 |       NA | FALSE | TRUE |\n",
       "| 37 | 28013 | Sol | Apartment   | Entire home/apt |  4 | 1 | 2 |  3 | Real Bed      | TV,Internet,Wireless Internet,Air conditioning,Kitchen,Buzzer/wireless intercom,Heating,Family/kid friendly,Washer,Essentials,Shampoo,Hangers,Hair dryer,Iron,Laptop friendly workspace                                                                                                                                        |  NA |  90 | 100 |       NA | FALSE | TRUE |\n",
       "| 38 | 28012 | Sol | Apartment   | Entire home/apt |  4 | 1 | 1 |  1 | Pull-out Sofa | TV,Wireless Internet,Air conditioning,Kitchen,Doorman,Elevator in building,Buzzer/wireless intercom,Heating,Family/kid friendly,Washer,Smoke detector,Carbon monoxide detector,First aid kit,Safety card,Fire extinguisher,Essentials,Shampoo,24-hour check-in,Hangers,Hair dryer,Iron,Laptop friendly workspace               |  NA |  84 |  96 |       NA | FALSE | TRUE |\n",
       "| 334 | 28012 | Sol | Apartment   | Entire home/apt | 16 | 4 | 4 | 11 | Real Bed      | TV,Internet,Wireless Internet,Air conditioning,Kitchen,Smoking allowed,Pets allowed,Elevator in building,Buzzer/wireless intercom,Heating,Family/kid friendly,Washer,Dryer,First aid kit,Essentials,Shampoo,Hangers,Hair dryer,Iron,Private entrance                                                                           |  NA | 350 |  NA |       NA | FALSE | TRUE |\n",
       "| 335 | 28012 | Sol | Apartment   | Entire home/apt |  5 | 2 | 2 |  4 | Real Bed      | TV,Wireless Internet,Air conditioning,Kitchen,Buzzer/wireless intercom,Heating,Family/kid friendly,Washer                                                                                                                                                                                                                      |   0 |  90 |  95 |  0.00000 | FALSE | TRUE |\n",
       "| 336 | 28012 | Sol | Apartment   | Entire home/apt |  8 | 1 | 2 |  2 | Real Bed      | TV,Wireless Internet,Air conditioning,Kitchen,Smoking allowed,Doorman,Breakfast,Buzzer/wireless intercom,Heating,Family/kid friendly,Washer,Smoke detector,Carbon monoxide detector,First aid kit,Safety card,Essentials,Shampoo,24-hour check-in,Hangers,Hair dryer,Iron,Laptop friendly workspace,Private entrance           |  NA |  95 |  60 |       NA | FALSE | TRUE |\n",
       "| 337 | 28012 | Sol | Apartment   | Entire home/apt |  4 | 1 | 0 |  1 | Real Bed      | TV,Internet,Wireless Internet,Kitchen,Doorman,Elevator in building,Buzzer/wireless intercom,Heating,Family/kid friendly,Washer,Dryer,Essentials,Hangers,Hair dryer,Iron,Laptop friendly workspace                                                                                                                              |  NA |  90 |  92 |       NA | FALSE | TRUE |\n",
       "| ⋮ | ⋮ | ⋮ | ⋮ | ⋮ | ⋮ | ⋮ | ⋮ | ⋮ | ⋮ | ⋮ | ⋮ | ⋮ | ⋮ | ⋮ | ⋮ | ⋮ |\n",
       "| 7604 | 28012 | Sol | Apartment   | Entire home/apt |  4 | 1.0 | 2 | 3 | Real Bed      | TV,Internet,Wireless Internet,Air conditioning,Kitchen,Heating,Washer,Essentials,translation missing: en.hosting_amenity_49,translation missing: en.hosting_amenity_50                                                                                                                                                                |  NA |  49 |  81 |       NA | FALSE | TRUE |\n",
       "| 7605 | 28013 | Sol | Loft        | Entire home/apt |  6 | 1.5 | 3 | 3 | Real Bed      | TV,Wireless Internet,Air conditioning,Kitchen,Breakfast,Heating,Family/kid friendly,Washer,Dryer,Smoke detector,Carbon monoxide detector,Essentials,Shampoo,24-hour check-in,Hangers,Hair dryer,Iron,Laptop friendly workspace                                                                                                        |  NA | 175 |  98 |       NA |  TRUE | TRUE |\n",
       "| 7606 | 28013 | Sol | Apartment   | Entire home/apt |  4 | 1.0 | 1 | 2 | Real Bed      | Internet,Wireless Internet,Air conditioning,Kitchen,Doorman,Elevator in building,Buzzer/wireless intercom,Heating,Family/kid friendly,Washer,First aid kit,Essentials,Shampoo,24-hour check-in,Hangers,Hair dryer,Iron,Laptop friendly workspace                                                                                      |  NA |  75 |  98 |       NA | FALSE | TRUE |\n",
       "| 7707 | 28013 | Sol | Apartment   | Entire home/apt |  6 | 2.0 | 2 | 2 | Real Bed      | TV,Internet,Wireless Internet,Air conditioning,Kitchen,Doorman,Elevator in building,Buzzer/wireless intercom,Heating,Family/kid friendly,Washer,Safety card,Fire extinguisher,Essentials,Shampoo,24-hour check-in,Hangers,Hair dryer,Iron,Laptop friendly workspace,Private entrance                                                  |  NA | 130 |  95 |       NA | FALSE | TRUE |\n",
       "| 7708 | 28005 | Sol | Apartment   | Entire home/apt |  6 | 1.0 | 2 | 3 | Real Bed      | TV,Cable TV,Internet,Wireless Internet,Air conditioning,Kitchen,Elevator in building,Buzzer/wireless intercom,Heating,Family/kid friendly,Washer,Dryer,Smoke detector,Carbon monoxide detector,Essentials,Shampoo,24-hour check-in,Hangers,Hair dryer,Iron,Laptop friendly workspace                                                  |  NA |  99 |  89 |       NA | FALSE | TRUE |\n",
       "| 7709 | 28013 | Sol | Apartment   | Entire home/apt |  6 | 1.0 | 2 | 3 | Real Bed      | TV,Wireless Internet,Air conditioning,Kitchen,Smoking allowed,Elevator in building,Heating,Washer,Smoke detector,Shampoo,translation missing: en.hosting_amenity_49,translation missing: en.hosting_amenity_50                                                                                                                        |  NA |  69 |  87 |       NA | FALSE | TRUE |\n",
       "| 7710 | 28013 | Sol | Apartment   | Entire home/apt |  3 | 1.0 | 1 | 1 | Real Bed      | TV,Internet,Wireless Internet,Air conditioning,Kitchen,Elevator in building,Heating,Family/kid friendly,Washer,Essentials                                                                                                                                                                                                             |  NA |  80 |  95 |       NA | FALSE | TRUE |\n",
       "| 7711 | 28013 | Sol | Apartment   | Entire home/apt | 10 | 3.0 | 3 | 7 | Real Bed      | TV,Internet,Air conditioning,Kitchen,Smoking allowed,Pets allowed,Heating,Family/kid friendly,Washer                                                                                                                                                                                                                                  | 807 | 150 |  65 | 74.97272 |  TRUE | TRUE |\n",
       "| 7712 | 28013 | Sol | Apartment   | Entire home/apt |  4 | 1.0 | 1 | 1 | Real Bed      | TV,Wireless Internet,Heating,Family/kid friendly,Washer,Essentials,Hair dryer,Iron                                                                                                                                                                                                                                                    |  NA |  35 |  75 |       NA | FALSE | TRUE |\n",
       "| 7713 | 28013 | Sol | Apartment   | Entire home/apt |  4 | 1.0 | 1 | 1 | Real Bed      | TV,Internet,Wireless Internet,Air conditioning,Kitchen,Smoking allowed,Breakfast,Elevator in building,Heating,Family/kid friendly,Washer,Essentials,Hangers,Hair dryer,Iron                                                                                                                                                           |  NA |  95 |  97 |       NA | FALSE | TRUE |\n",
       "| 7714 | 28013 | Sol | Apartment   | Entire home/apt |  4 | 1.0 | 1 | 2 | Real Bed      | TV,Wireless Internet,Air conditioning,Kitchen,Doorman,Elevator in building,Buzzer/wireless intercom,Heating,Family/kid friendly,Washer,Essentials,Shampoo                                                                                                                                                                             |  NA | 103 | 100 |       NA | FALSE | TRUE |\n",
       "| 7715 | 28013 | Sol | Apartment   | Entire home/apt |  4 | 1.0 | 0 | 2 | Real Bed      | TV,Wireless Internet,Air conditioning,Wheelchair accessible,Kitchen,Doorman,Elevator in building,Buzzer/wireless intercom,Heating,Family/kid friendly,Washer,Essentials,Shampoo                                                                                                                                                       |  NA |  79 |  NA |       NA | FALSE | TRUE |\n",
       "| 7716 | 28012 | Sol | Apartment   | Entire home/apt |  4 | 1.0 | 1 | 2 | Real Bed      | TV,Internet,Wireless Internet,Air conditioning,Kitchen,Doorman,Elevator in building,Buzzer/wireless intercom,Heating,Family/kid friendly,Washer,Smoke detector,Carbon monoxide detector,First aid kit,Essentials,Shampoo,24-hour check-in,Hangers,Hair dryer,Iron,Laptop friendly workspace                                           |  NA |  80 |  96 |       NA | FALSE | TRUE |\n",
       "| 7717 | 28004 | Sol | Apartment   | Entire home/apt |  4 | 1.0 | 1 | 2 | Real Bed      | TV,Internet,Wireless Internet,Air conditioning,Kitchen,Smoking allowed,Pets allowed,Elevator in building,Heating,Family/kid friendly,Washer,Dryer,Essentials,Shampoo                                                                                                                                                                  |  NA |  62 |  92 |       NA | FALSE | TRUE |\n",
       "| 7718 | 28013 | Sol | Apartment   | Entire home/apt |  2 | 1.0 | 1 | 1 | Pull-out Sofa | TV,Cable TV,Internet,Wireless Internet,Air conditioning,Kitchen,Doorman,Elevator in building,Heating,Family/kid friendly,Smoke detector,First aid kit,Safety card,Fire extinguisher,Essentials,Shampoo,24-hour check-in,Hangers,Hair dryer,Iron,Laptop friendly workspace,translation missing: en.hosting_amenity_49                  |  NA |  55 |  97 |       NA | FALSE | TRUE |\n",
       "| 7719 | 28012 | Sol | Apartment   | Entire home/apt |  6 | 1.0 | 1 | 3 | Real Bed      | TV,Internet,Wireless Internet,Air conditioning,Kitchen,Buzzer/wireless intercom,Heating,Family/kid friendly,Washer,Essentials,Shampoo,24-hour check-in,Hair dryer,Iron,Laptop friendly workspace                                                                                                                                      |  NA |  80 |  94 |       NA | FALSE | TRUE |\n",
       "| 7720 | 28012 | Sol | Loft        | Entire home/apt |  4 | 1.0 | 1 | 2 | Real Bed      | TV,Internet,Wireless Internet,Air conditioning,Wheelchair accessible,Kitchen,Doorman,Elevator in building,Heating,Family/kid friendly,Washer,First aid kit,Fire extinguisher,Essentials,Shampoo,24-hour check-in,Hangers,Hair dryer                                                                                                   |  NA |  80 |  96 |       NA | FALSE | TRUE |\n",
       "| 7721 | 28013 | Sol | Apartment   | Entire home/apt |  4 | 1.0 | 1 | 2 | Real Bed      | TV,Internet,Wireless Internet,Air conditioning,Kitchen,Doorman,Elevator in building,Buzzer/wireless intercom,Heating,Family/kid friendly,Washer,Essentials,Shampoo,24-hour check-in,Hangers,Hair dryer,Iron,Laptop friendly workspace                                                                                                 |   0 |  72 |  96 |  0.00000 | FALSE | TRUE |\n",
       "| 7722 | 28013 | Sol | Apartment   | Entire home/apt |  4 | 1.0 | 1 | 2 | Real Bed      | TV,Wireless Internet,Air conditioning,Kitchen,Elevator in building,Heating,Family/kid friendly,Washer,Hair dryer,Iron                                                                                                                                                                                                                 | 431 |  71 |  91 | 40.04119 | FALSE | TRUE |\n",
       "| 7723 | 28013 | Sol | Apartment   | Entire home/apt |  8 | 2.0 | 3 | 8 | Real Bed      | TV,Internet,Wireless Internet,Air conditioning,Wheelchair accessible,Kitchen,Doorman,Elevator in building,Heating,Family/kid friendly,Suitable for events,Washer,Dryer,Smoke detector,First aid kit,Fire extinguisher,Shampoo                                                                                                         |  NA | 250 |  88 |       NA |  TRUE | TRUE |\n",
       "| 7724 | 28001 | Sol | Apartment   | Entire home/apt |  4 | 1.0 | 2 | 2 | Real Bed      | TV,Internet,Wireless Internet,Air conditioning,Kitchen,Elevator in building,Buzzer/wireless intercom,Heating,Family/kid friendly,Washer,First aid kit,Essentials,Shampoo,24-hour check-in,Hangers,Hair dryer,Iron,Laptop friendly workspace                                                                                           |  NA |  75 |  95 |       NA | FALSE | TRUE |\n",
       "| 7725 | 28012 | Sol | Apartment   | Entire home/apt |  5 | 2.0 | 2 | 3 | Real Bed      | TV,Kitchen,Buzzer/wireless intercom,Heating,Family/kid friendly,Washer                                                                                                                                                                                                                                                                |   0 | 115 |  86 |  0.00000 | FALSE | TRUE |\n",
       "| 7726 | 28012 | Sol | House       | Entire home/apt |  6 | 2.0 | 2 | 6 | Real Bed      | TV,Wireless Internet,Air conditioning,Kitchen,Elevator in building,Buzzer/wireless intercom,Heating,Family/kid friendly,Washer,First aid kit,Safety card,Fire extinguisher,Essentials,Shampoo,Hangers,Hair dryer,Iron,Laptop friendly workspace                                                                                       |  NA | 175 |  91 |       NA | FALSE | TRUE |\n",
       "| 7727 | 28013 | Sol | Apartment   | Entire home/apt |  2 | 1.0 | 1 | 1 | Real Bed      | TV,Wireless Internet,Air conditioning,Kitchen,Heating,Family/kid friendly,Washer,Dryer                                                                                                                                                                                                                                                |  NA |  75 |  97 |       NA | FALSE | TRUE |\n",
       "| 7728 | 28013 | Sol | Condominium | Entire home/apt |  2 | 1.0 | 0 | 1 | Real Bed      | TV,Internet,Wireless Internet,Air conditioning,Kitchen,Elevator in building,Heating,Washer,Essentials,Hangers,Hair dryer,Iron,Laptop friendly workspace                                                                                                                                                                               |  NA |  50 |  87 |       NA | FALSE | TRUE |\n",
       "| 7729 | 28013 | Sol | Apartment   | Entire home/apt |  4 | 1.0 | 2 | 2 | Real Bed      | TV,Internet,Wireless Internet,Air conditioning,Wheelchair accessible,Kitchen,Smoking allowed,Elevator in building,Heating,Family/kid friendly,Washer,Smoke detector,First aid kit,Safety card,Fire extinguisher,Essentials,24-hour check-in,Hangers,Hair dryer,Iron,Laptop friendly workspace                                         |  NA |  89 |  92 |       NA | FALSE | TRUE |\n",
       "| 7730 | 28012 | Sol | Apartment   | Entire home/apt |  4 | 1.0 | 0 | 1 | Real Bed      | TV,Internet,Wireless Internet,Kitchen,Doorman,Elevator in building,Buzzer/wireless intercom,Heating,Family/kid friendly,Washer,Dryer,Essentials,Hangers,Hair dryer,Iron,Laptop friendly workspace                                                                                                                                     |  NA |  90 | 100 |       NA | FALSE | TRUE |\n",
       "| 7731 | 28013 | Sol | Apartment   | Entire home/apt |  6 | 2.0 | 1 | 3 | Real Bed      | TV,Internet,Wireless Internet,Air conditioning,Elevator in building,Heating,Family/kid friendly,Essentials,Hair dryer                                                                                                                                                                                                                 |  NA | 115 |  84 |       NA | FALSE | TRUE |\n",
       "| 7732 | 28012 | Sol | Apartment   | Entire home/apt |  2 | 1.0 | 1 | 1 | Real Bed      | TV,Internet,Wireless Internet,Kitchen,Doorman,Buzzer/wireless intercom,Heating,Washer,Smoke detector,Carbon monoxide detector,Essentials,Shampoo,24-hour check-in,Hangers,Hair dryer,Iron,Laptop friendly workspace,translation missing: en.hosting_amenity_49,translation missing: en.hosting_amenity_50,Self Check-In,Doorman Entry |  NA |  90 |  96 |       NA | FALSE | TRUE |\n",
       "| 7733 | 28013 | Sol | Apartment   | Entire home/apt |  4 | 1.0 | 1 | 1 | Real Bed      | Internet,Wireless Internet,Kitchen,Pets allowed,Doorman,Elevator in building,Buzzer/wireless intercom,Heating,Family/kid friendly,First aid kit,Essentials,Hangers,Hair dryer,Iron,Laptop friendly workspace                                                                                                                          |  NA |  69 |  80 |       NA | FALSE | TRUE |\n",
       "\n"
      ],
      "text/plain": [
       "     CodigoPostal Barrio TipoPropiedad TipoAlquiler    MaxOcupantes NumBanyos\n",
       "10   28013        Sol    Apartment     Entire home/apt  4           1        \n",
       "11   28013        Sol    Condominium   Entire home/apt  6           1        \n",
       "12   28013        Sol    Apartment     Entire home/apt  4           1        \n",
       "13   28012        Sol    Apartment     Entire home/apt  6           1        \n",
       "14   28013        Sol    Apartment     Entire home/apt  4           1        \n",
       "15   28013        Sol    Apartment     Entire home/apt  4           1        \n",
       "16   28005        Sol    Apartment     Entire home/apt 10           2        \n",
       "17   28013        Sol    Apartment     Entire home/apt  6           1        \n",
       "18   28012        Sol    Apartment     Entire home/apt  4           1        \n",
       "19   28012        Sol    Apartment     Entire home/apt  4           1        \n",
       "20   28013        Sol    Apartment     Entire home/apt  4           1        \n",
       "21   28014        Sol    Condominium   Entire home/apt  8           2        \n",
       "22   28013        Sol    Apartment     Entire home/apt  6           2        \n",
       "23   28005        Sol    Apartment     Entire home/apt  8           1        \n",
       "27   28013        Sol    Apartment     Entire home/apt  4           1        \n",
       "28   28013        Sol    Apartment     Entire home/apt  6           2        \n",
       "29   28013        Sol    Apartment     Entire home/apt  3           1        \n",
       "30   28013        Sol    Apartment     Entire home/apt  2           1        \n",
       "31   28013        Sol    Apartment     Entire home/apt  3           1        \n",
       "32   28012        Sol    Apartment     Entire home/apt  3           1        \n",
       "33   28013        Sol    Apartment     Entire home/apt  4           1        \n",
       "34   28012        Sol    Apartment     Entire home/apt  4           2        \n",
       "35   28013        Sol    Condominium   Entire home/apt  4           1        \n",
       "36   28013        Sol    Apartment     Entire home/apt  4           1        \n",
       "37   28013        Sol    Apartment     Entire home/apt  4           1        \n",
       "38   28012        Sol    Apartment     Entire home/apt  4           1        \n",
       "334  28012        Sol    Apartment     Entire home/apt 16           4        \n",
       "335  28012        Sol    Apartment     Entire home/apt  5           2        \n",
       "336  28012        Sol    Apartment     Entire home/apt  8           1        \n",
       "337  28012        Sol    Apartment     Entire home/apt  4           1        \n",
       "⋮    ⋮            ⋮      ⋮             ⋮               ⋮            ⋮        \n",
       "7604 28012        Sol    Apartment     Entire home/apt  4           1.0      \n",
       "7605 28013        Sol    Loft          Entire home/apt  6           1.5      \n",
       "7606 28013        Sol    Apartment     Entire home/apt  4           1.0      \n",
       "7707 28013        Sol    Apartment     Entire home/apt  6           2.0      \n",
       "7708 28005        Sol    Apartment     Entire home/apt  6           1.0      \n",
       "7709 28013        Sol    Apartment     Entire home/apt  6           1.0      \n",
       "7710 28013        Sol    Apartment     Entire home/apt  3           1.0      \n",
       "7711 28013        Sol    Apartment     Entire home/apt 10           3.0      \n",
       "7712 28013        Sol    Apartment     Entire home/apt  4           1.0      \n",
       "7713 28013        Sol    Apartment     Entire home/apt  4           1.0      \n",
       "7714 28013        Sol    Apartment     Entire home/apt  4           1.0      \n",
       "7715 28013        Sol    Apartment     Entire home/apt  4           1.0      \n",
       "7716 28012        Sol    Apartment     Entire home/apt  4           1.0      \n",
       "7717 28004        Sol    Apartment     Entire home/apt  4           1.0      \n",
       "7718 28013        Sol    Apartment     Entire home/apt  2           1.0      \n",
       "7719 28012        Sol    Apartment     Entire home/apt  6           1.0      \n",
       "7720 28012        Sol    Loft          Entire home/apt  4           1.0      \n",
       "7721 28013        Sol    Apartment     Entire home/apt  4           1.0      \n",
       "7722 28013        Sol    Apartment     Entire home/apt  4           1.0      \n",
       "7723 28013        Sol    Apartment     Entire home/apt  8           2.0      \n",
       "7724 28001        Sol    Apartment     Entire home/apt  4           1.0      \n",
       "7725 28012        Sol    Apartment     Entire home/apt  5           2.0      \n",
       "7726 28012        Sol    House         Entire home/apt  6           2.0      \n",
       "7727 28013        Sol    Apartment     Entire home/apt  2           1.0      \n",
       "7728 28013        Sol    Condominium   Entire home/apt  2           1.0      \n",
       "7729 28013        Sol    Apartment     Entire home/apt  4           1.0      \n",
       "7730 28012        Sol    Apartment     Entire home/apt  4           1.0      \n",
       "7731 28013        Sol    Apartment     Entire home/apt  6           2.0      \n",
       "7732 28012        Sol    Apartment     Entire home/apt  2           1.0      \n",
       "7733 28013        Sol    Apartment     Entire home/apt  4           1.0      \n",
       "     NumDormitorios NumCamas TipoCama     \n",
       "10   1               1       Real Bed     \n",
       "11   2               3       Real Bed     \n",
       "12   1               2       Real Bed     \n",
       "13   2               2       Real Bed     \n",
       "14   1               2       Real Bed     \n",
       "15   1               2       Real Bed     \n",
       "16   4               7       Real Bed     \n",
       "17   2               4       Real Bed     \n",
       "18   1               2       Real Bed     \n",
       "19   1               1       Real Bed     \n",
       "20   1               2       Real Bed     \n",
       "21   2               5       Real Bed     \n",
       "22   2               3       Real Bed     \n",
       "23   3               4       Real Bed     \n",
       "27   1               1       Pull-out Sofa\n",
       "28   2               2       Real Bed     \n",
       "29   1               2       Real Bed     \n",
       "30   1               1       Real Bed     \n",
       "31   0               2       Real Bed     \n",
       "32   1               1       Real Bed     \n",
       "33   2               2       Real Bed     \n",
       "34   2               2       Real Bed     \n",
       "35   1               1       Real Bed     \n",
       "36   1               3       Real Bed     \n",
       "37   2               3       Real Bed     \n",
       "38   1               1       Pull-out Sofa\n",
       "334  4              11       Real Bed     \n",
       "335  2               4       Real Bed     \n",
       "336  2               2       Real Bed     \n",
       "337  0               1       Real Bed     \n",
       "⋮    ⋮              ⋮        ⋮            \n",
       "7604 2              3        Real Bed     \n",
       "7605 3              3        Real Bed     \n",
       "7606 1              2        Real Bed     \n",
       "7707 2              2        Real Bed     \n",
       "7708 2              3        Real Bed     \n",
       "7709 2              3        Real Bed     \n",
       "7710 1              1        Real Bed     \n",
       "7711 3              7        Real Bed     \n",
       "7712 1              1        Real Bed     \n",
       "7713 1              1        Real Bed     \n",
       "7714 1              2        Real Bed     \n",
       "7715 0              2        Real Bed     \n",
       "7716 1              2        Real Bed     \n",
       "7717 1              2        Real Bed     \n",
       "7718 1              1        Pull-out Sofa\n",
       "7719 1              3        Real Bed     \n",
       "7720 1              2        Real Bed     \n",
       "7721 1              2        Real Bed     \n",
       "7722 1              2        Real Bed     \n",
       "7723 3              8        Real Bed     \n",
       "7724 2              2        Real Bed     \n",
       "7725 2              3        Real Bed     \n",
       "7726 2              6        Real Bed     \n",
       "7727 1              1        Real Bed     \n",
       "7728 0              1        Real Bed     \n",
       "7729 2              2        Real Bed     \n",
       "7730 0              1        Real Bed     \n",
       "7731 1              3        Real Bed     \n",
       "7732 1              1        Real Bed     \n",
       "7733 1              1        Real Bed     \n",
       "     Comodidades                                                                                                                                                                                                                                                                                                                          \n",
       "10   TV,Wireless Internet,Air conditioning,Kitchen,Doorman,Elevator in building,Buzzer/wireless intercom,Heating,Family/kid friendly,Suitable for events,Washer,Essentials,Hangers,Hair dryer,Iron                                                                                                                                        \n",
       "11   TV,Wireless Internet,Air conditioning,Kitchen,Doorman,Elevator in building,Buzzer/wireless intercom,Heating,Family/kid friendly,Washer,Dryer,Essentials,Shampoo,Hangers,Hair dryer,Iron                                                                                                                                              \n",
       "12   TV,Internet,Wireless Internet,Air conditioning,Kitchen,Doorman,Elevator in building,Buzzer/wireless intercom,Heating,Family/kid friendly,Washer,Smoke detector,Carbon monoxide detector,First aid kit,Safety card,Fire extinguisher,Essentials,Shampoo,24-hour check-in,Hangers,Hair dryer,Iron,Laptop friendly workspace            \n",
       "13   TV,Internet,Wireless Internet,Air conditioning,Kitchen,Smoking allowed,Elevator in building,Buzzer/wireless intercom,Heating,Family/kid friendly,Washer,Dryer,Essentials,Shampoo,Hangers,Hair dryer,Iron,Laptop friendly workspace                                                                                                   \n",
       "14   TV,Internet,Wireless Internet,Air conditioning,Kitchen,Heating,Washer,Essentials,Hangers,Hair dryer,translation missing: en.hosting_amenity_50                                                                                                                                                                                       \n",
       "15   TV,Wireless Internet,Kitchen,Pets allowed,Elevator in building,Heating,Family/kid friendly,Washer,Essentials,Shampoo,Hangers,Hair dryer,Laptop friendly workspace                                                                                                                                                                    \n",
       "16   TV,Internet,Wireless Internet,Air conditioning,Kitchen,Heating,Family/kid friendly,Washer,Essentials                                                                                                                                                                                                                                 \n",
       "17   TV,Internet,Wireless Internet,Air conditioning,Kitchen,Smoking allowed,Pets allowed,Doorman,Elevator in building,Buzzer/wireless intercom,Heating,Family/kid friendly,Washer,First aid kit,Safety card,Essentials,Shampoo,Hangers,Hair dryer,Iron                                                                                    \n",
       "18   TV,Internet,Wireless Internet,Air conditioning,Kitchen,Elevator in building,Heating,Family/kid friendly,Washer,Smoke detector,Carbon monoxide detector,Essentials,Shampoo,24-hour check-in,Hangers,Hair dryer,Iron,Laptop friendly workspace                                                                                         \n",
       "19   TV,Cable TV,Internet,Wireless Internet,Air conditioning,Kitchen,Elevator in building,Buzzer/wireless intercom,Heating,Family/kid friendly,Washer,Essentials,Hair dryer,Iron                                                                                                                                                          \n",
       "20   TV,Internet,Wireless Internet,Air conditioning,Kitchen,Breakfast,Elevator in building,Heating,Family/kid friendly,Washer,First aid kit,Fire extinguisher,Essentials,Shampoo,Hangers,Hair dryer,Iron,Laptop friendly workspace                                                                                                        \n",
       "21   TV,Internet,Wireless Internet,Air conditioning,Wheelchair accessible,Kitchen,Doorman,Elevator in building,Buzzer/wireless intercom,Heating,Family/kid friendly,Washer,Smoke detector,Carbon monoxide detector,Essentials,Shampoo,24-hour check-in,Hangers,Hair dryer,Iron,Laptop friendly workspace                                  \n",
       "22   TV,Internet,Wireless Internet,Air conditioning,Wheelchair accessible,Kitchen,Doorman,Elevator in building,Buzzer/wireless intercom,Heating,Family/kid friendly,Washer,Dryer,Essentials,Hangers,Hair dryer,Iron                                                                                                                       \n",
       "23   TV,Internet,Wireless Internet,Kitchen,Breakfast,Elevator in building,Buzzer/wireless intercom,Heating,Family/kid friendly,Washer,Essentials,Shampoo,Hangers,Hair dryer,Iron,Laptop friendly workspace,Self Check-In,Lockbox                                                                                                          \n",
       "27   TV,Internet,Wireless Internet,Air conditioning,Kitchen,Elevator in building,Buzzer/wireless intercom,Heating,Family/kid friendly,Washer,Smoke detector,Carbon monoxide detector,First aid kit,Essentials,Shampoo,24-hour check-in,Hangers,Hair dryer,Iron,Laptop friendly workspace,translation missing: en.hosting_amenity_50       \n",
       "28   TV,Wireless Internet,Air conditioning,Kitchen,Elevator in building,Heating,Washer,Essentials,Shampoo                                                                                                                                                                                                                                 \n",
       "29   TV,Internet,Wireless Internet,Air conditioning,Kitchen,Smoking allowed,Elevator in building,Buzzer/wireless intercom,Heating,Family/kid friendly,Washer,Fire extinguisher,Essentials,Shampoo,Hangers,Hair dryer,Iron                                                                                                                 \n",
       "30   TV,Internet,Wireless Internet,Air conditioning,Kitchen,Elevator in building,Buzzer/wireless intercom,Heating,Family/kid friendly,Washer,First aid kit,Essentials,Shampoo,Hair dryer,Iron                                                                                                                                             \n",
       "31   TV,Wireless Internet,Air conditioning,Kitchen,Elevator in building,Washer,Fire extinguisher,Essentials,translation missing: en.hosting_amenity_49,translation missing: en.hosting_amenity_50                                                                                                                                         \n",
       "32   TV,Internet,Wireless Internet,Air conditioning,Kitchen,Smoking allowed,Pets allowed,Elevator in building,Heating,Family/kid friendly,Washer,Essentials                                                                                                                                                                               \n",
       "33   TV,Internet,Wireless Internet,Air conditioning,Kitchen,Smoking allowed,Heating,Family/kid friendly,Washer,Essentials,Shampoo,Hangers,Hair dryer,Iron,Laptop friendly workspace                                                                                                                                                       \n",
       "34   TV,Cable TV,Internet,Wireless Internet,Air conditioning,Kitchen,Elevator in building,Buzzer/wireless intercom,Heating,Family/kid friendly,Washer,Dryer,First aid kit,Fire extinguisher,Essentials,Shampoo,Hangers,Hair dryer,Iron,Laptop friendly workspace                                                                          \n",
       "35   TV,Wireless Internet,Air conditioning,Kitchen,Elevator in building,Hot tub,Heating,Washer,Essentials,Shampoo,Hangers,Hair dryer,Iron,translation missing: en.hosting_amenity_49,translation missing: en.hosting_amenity_50                                                                                                           \n",
       "36   TV,Internet,Wireless Internet,Air conditioning,Kitchen,Doorman,Elevator in building,Buzzer/wireless intercom,Heating,Family/kid friendly,Washer,Fire extinguisher,Essentials,Shampoo,24-hour check-in,Hangers,Hair dryer,Iron,Laptop friendly workspace,Private entrance                                                             \n",
       "37   TV,Internet,Wireless Internet,Air conditioning,Kitchen,Buzzer/wireless intercom,Heating,Family/kid friendly,Washer,Essentials,Shampoo,Hangers,Hair dryer,Iron,Laptop friendly workspace                                                                                                                                              \n",
       "38   TV,Wireless Internet,Air conditioning,Kitchen,Doorman,Elevator in building,Buzzer/wireless intercom,Heating,Family/kid friendly,Washer,Smoke detector,Carbon monoxide detector,First aid kit,Safety card,Fire extinguisher,Essentials,Shampoo,24-hour check-in,Hangers,Hair dryer,Iron,Laptop friendly workspace                     \n",
       "334  TV,Internet,Wireless Internet,Air conditioning,Kitchen,Smoking allowed,Pets allowed,Elevator in building,Buzzer/wireless intercom,Heating,Family/kid friendly,Washer,Dryer,First aid kit,Essentials,Shampoo,Hangers,Hair dryer,Iron,Private entrance                                                                                 \n",
       "335  TV,Wireless Internet,Air conditioning,Kitchen,Buzzer/wireless intercom,Heating,Family/kid friendly,Washer                                                                                                                                                                                                                            \n",
       "336  TV,Wireless Internet,Air conditioning,Kitchen,Smoking allowed,Doorman,Breakfast,Buzzer/wireless intercom,Heating,Family/kid friendly,Washer,Smoke detector,Carbon monoxide detector,First aid kit,Safety card,Essentials,Shampoo,24-hour check-in,Hangers,Hair dryer,Iron,Laptop friendly workspace,Private entrance                 \n",
       "337  TV,Internet,Wireless Internet,Kitchen,Doorman,Elevator in building,Buzzer/wireless intercom,Heating,Family/kid friendly,Washer,Dryer,Essentials,Hangers,Hair dryer,Iron,Laptop friendly workspace                                                                                                                                    \n",
       "⋮    ⋮                                                                                                                                                                                                                                                                                                                                    \n",
       "7604 TV,Internet,Wireless Internet,Air conditioning,Kitchen,Heating,Washer,Essentials,translation missing: en.hosting_amenity_49,translation missing: en.hosting_amenity_50                                                                                                                                                               \n",
       "7605 TV,Wireless Internet,Air conditioning,Kitchen,Breakfast,Heating,Family/kid friendly,Washer,Dryer,Smoke detector,Carbon monoxide detector,Essentials,Shampoo,24-hour check-in,Hangers,Hair dryer,Iron,Laptop friendly workspace                                                                                                       \n",
       "7606 Internet,Wireless Internet,Air conditioning,Kitchen,Doorman,Elevator in building,Buzzer/wireless intercom,Heating,Family/kid friendly,Washer,First aid kit,Essentials,Shampoo,24-hour check-in,Hangers,Hair dryer,Iron,Laptop friendly workspace                                                                                     \n",
       "7707 TV,Internet,Wireless Internet,Air conditioning,Kitchen,Doorman,Elevator in building,Buzzer/wireless intercom,Heating,Family/kid friendly,Washer,Safety card,Fire extinguisher,Essentials,Shampoo,24-hour check-in,Hangers,Hair dryer,Iron,Laptop friendly workspace,Private entrance                                                 \n",
       "7708 TV,Cable TV,Internet,Wireless Internet,Air conditioning,Kitchen,Elevator in building,Buzzer/wireless intercom,Heating,Family/kid friendly,Washer,Dryer,Smoke detector,Carbon monoxide detector,Essentials,Shampoo,24-hour check-in,Hangers,Hair dryer,Iron,Laptop friendly workspace                                                 \n",
       "7709 TV,Wireless Internet,Air conditioning,Kitchen,Smoking allowed,Elevator in building,Heating,Washer,Smoke detector,Shampoo,translation missing: en.hosting_amenity_49,translation missing: en.hosting_amenity_50                                                                                                                       \n",
       "7710 TV,Internet,Wireless Internet,Air conditioning,Kitchen,Elevator in building,Heating,Family/kid friendly,Washer,Essentials                                                                                                                                                                                                            \n",
       "7711 TV,Internet,Air conditioning,Kitchen,Smoking allowed,Pets allowed,Heating,Family/kid friendly,Washer                                                                                                                                                                                                                                 \n",
       "7712 TV,Wireless Internet,Heating,Family/kid friendly,Washer,Essentials,Hair dryer,Iron                                                                                                                                                                                                                                                   \n",
       "7713 TV,Internet,Wireless Internet,Air conditioning,Kitchen,Smoking allowed,Breakfast,Elevator in building,Heating,Family/kid friendly,Washer,Essentials,Hangers,Hair dryer,Iron                                                                                                                                                          \n",
       "7714 TV,Wireless Internet,Air conditioning,Kitchen,Doorman,Elevator in building,Buzzer/wireless intercom,Heating,Family/kid friendly,Washer,Essentials,Shampoo                                                                                                                                                                            \n",
       "7715 TV,Wireless Internet,Air conditioning,Wheelchair accessible,Kitchen,Doorman,Elevator in building,Buzzer/wireless intercom,Heating,Family/kid friendly,Washer,Essentials,Shampoo                                                                                                                                                      \n",
       "7716 TV,Internet,Wireless Internet,Air conditioning,Kitchen,Doorman,Elevator in building,Buzzer/wireless intercom,Heating,Family/kid friendly,Washer,Smoke detector,Carbon monoxide detector,First aid kit,Essentials,Shampoo,24-hour check-in,Hangers,Hair dryer,Iron,Laptop friendly workspace                                          \n",
       "7717 TV,Internet,Wireless Internet,Air conditioning,Kitchen,Smoking allowed,Pets allowed,Elevator in building,Heating,Family/kid friendly,Washer,Dryer,Essentials,Shampoo                                                                                                                                                                 \n",
       "7718 TV,Cable TV,Internet,Wireless Internet,Air conditioning,Kitchen,Doorman,Elevator in building,Heating,Family/kid friendly,Smoke detector,First aid kit,Safety card,Fire extinguisher,Essentials,Shampoo,24-hour check-in,Hangers,Hair dryer,Iron,Laptop friendly workspace,translation missing: en.hosting_amenity_49                 \n",
       "7719 TV,Internet,Wireless Internet,Air conditioning,Kitchen,Buzzer/wireless intercom,Heating,Family/kid friendly,Washer,Essentials,Shampoo,24-hour check-in,Hair dryer,Iron,Laptop friendly workspace                                                                                                                                     \n",
       "7720 TV,Internet,Wireless Internet,Air conditioning,Wheelchair accessible,Kitchen,Doorman,Elevator in building,Heating,Family/kid friendly,Washer,First aid kit,Fire extinguisher,Essentials,Shampoo,24-hour check-in,Hangers,Hair dryer                                                                                                  \n",
       "7721 TV,Internet,Wireless Internet,Air conditioning,Kitchen,Doorman,Elevator in building,Buzzer/wireless intercom,Heating,Family/kid friendly,Washer,Essentials,Shampoo,24-hour check-in,Hangers,Hair dryer,Iron,Laptop friendly workspace                                                                                                \n",
       "7722 TV,Wireless Internet,Air conditioning,Kitchen,Elevator in building,Heating,Family/kid friendly,Washer,Hair dryer,Iron                                                                                                                                                                                                                \n",
       "7723 TV,Internet,Wireless Internet,Air conditioning,Wheelchair accessible,Kitchen,Doorman,Elevator in building,Heating,Family/kid friendly,Suitable for events,Washer,Dryer,Smoke detector,First aid kit,Fire extinguisher,Shampoo                                                                                                        \n",
       "7724 TV,Internet,Wireless Internet,Air conditioning,Kitchen,Elevator in building,Buzzer/wireless intercom,Heating,Family/kid friendly,Washer,First aid kit,Essentials,Shampoo,24-hour check-in,Hangers,Hair dryer,Iron,Laptop friendly workspace                                                                                          \n",
       "7725 TV,Kitchen,Buzzer/wireless intercom,Heating,Family/kid friendly,Washer                                                                                                                                                                                                                                                               \n",
       "7726 TV,Wireless Internet,Air conditioning,Kitchen,Elevator in building,Buzzer/wireless intercom,Heating,Family/kid friendly,Washer,First aid kit,Safety card,Fire extinguisher,Essentials,Shampoo,Hangers,Hair dryer,Iron,Laptop friendly workspace                                                                                      \n",
       "7727 TV,Wireless Internet,Air conditioning,Kitchen,Heating,Family/kid friendly,Washer,Dryer                                                                                                                                                                                                                                               \n",
       "7728 TV,Internet,Wireless Internet,Air conditioning,Kitchen,Elevator in building,Heating,Washer,Essentials,Hangers,Hair dryer,Iron,Laptop friendly workspace                                                                                                                                                                              \n",
       "7729 TV,Internet,Wireless Internet,Air conditioning,Wheelchair accessible,Kitchen,Smoking allowed,Elevator in building,Heating,Family/kid friendly,Washer,Smoke detector,First aid kit,Safety card,Fire extinguisher,Essentials,24-hour check-in,Hangers,Hair dryer,Iron,Laptop friendly workspace                                        \n",
       "7730 TV,Internet,Wireless Internet,Kitchen,Doorman,Elevator in building,Buzzer/wireless intercom,Heating,Family/kid friendly,Washer,Dryer,Essentials,Hangers,Hair dryer,Iron,Laptop friendly workspace                                                                                                                                    \n",
       "7731 TV,Internet,Wireless Internet,Air conditioning,Elevator in building,Heating,Family/kid friendly,Essentials,Hair dryer                                                                                                                                                                                                                \n",
       "7732 TV,Internet,Wireless Internet,Kitchen,Doorman,Buzzer/wireless intercom,Heating,Washer,Smoke detector,Carbon monoxide detector,Essentials,Shampoo,24-hour check-in,Hangers,Hair dryer,Iron,Laptop friendly workspace,translation missing: en.hosting_amenity_49,translation missing: en.hosting_amenity_50,Self Check-In,Doorman Entry\n",
       "7733 Internet,Wireless Internet,Kitchen,Pets allowed,Doorman,Elevator in building,Buzzer/wireless intercom,Heating,Family/kid friendly,First aid kit,Essentials,Hangers,Hair dryer,Iron,Laptop friendly workspace                                                                                                                         \n",
       "     PiesCuadrados Precio Puntuacion MetrosCuadrados TripleHab Sol \n",
       "10   646            75     91        60.01534        FALSE     TRUE\n",
       "11    NA           130    100              NA        FALSE     TRUE\n",
       "12    NA           100     97              NA        FALSE     TRUE\n",
       "13    NA           160     95              NA        FALSE     TRUE\n",
       "14    NA            49     95              NA        FALSE     TRUE\n",
       "15    NA            70     88              NA        FALSE     TRUE\n",
       "16    NA           210     81              NA        FALSE     TRUE\n",
       "17    NA           120     99              NA        FALSE     TRUE\n",
       "18    NA            50     91              NA        FALSE     TRUE\n",
       "19   753           100     87        69.95596        FALSE     TRUE\n",
       "20    NA            75    100              NA        FALSE     TRUE\n",
       "21    NA           155     93              NA        FALSE     TRUE\n",
       "22    NA           155     80              NA        FALSE     TRUE\n",
       "23    NA           163    100              NA         TRUE     TRUE\n",
       "27    NA            64     97              NA        FALSE     TRUE\n",
       "28    NA           109     90              NA        FALSE     TRUE\n",
       "29    NA            67     95              NA        FALSE     TRUE\n",
       "30   269            65     93        24.99091        FALSE     TRUE\n",
       "31     0            41     89         0.00000        FALSE     TRUE\n",
       "32    NA           109     92              NA        FALSE     TRUE\n",
       "33    NA            71     93              NA        FALSE     TRUE\n",
       "34    NA           110     98              NA        FALSE     TRUE\n",
       "35    NA           150     80              NA        FALSE     TRUE\n",
       "36    NA           110     95              NA        FALSE     TRUE\n",
       "37    NA            90    100              NA        FALSE     TRUE\n",
       "38    NA            84     96              NA        FALSE     TRUE\n",
       "334   NA           350     NA              NA        FALSE     TRUE\n",
       "335    0            90     95         0.00000        FALSE     TRUE\n",
       "336   NA            95     60              NA        FALSE     TRUE\n",
       "337   NA            90     92              NA        FALSE     TRUE\n",
       "⋮    ⋮             ⋮      ⋮          ⋮               ⋮         ⋮   \n",
       "7604  NA            49     81              NA        FALSE     TRUE\n",
       "7605  NA           175     98              NA         TRUE     TRUE\n",
       "7606  NA            75     98              NA        FALSE     TRUE\n",
       "7707  NA           130     95              NA        FALSE     TRUE\n",
       "7708  NA            99     89              NA        FALSE     TRUE\n",
       "7709  NA            69     87              NA        FALSE     TRUE\n",
       "7710  NA            80     95              NA        FALSE     TRUE\n",
       "7711 807           150     65        74.97272         TRUE     TRUE\n",
       "7712  NA            35     75              NA        FALSE     TRUE\n",
       "7713  NA            95     97              NA        FALSE     TRUE\n",
       "7714  NA           103    100              NA        FALSE     TRUE\n",
       "7715  NA            79     NA              NA        FALSE     TRUE\n",
       "7716  NA            80     96              NA        FALSE     TRUE\n",
       "7717  NA            62     92              NA        FALSE     TRUE\n",
       "7718  NA            55     97              NA        FALSE     TRUE\n",
       "7719  NA            80     94              NA        FALSE     TRUE\n",
       "7720  NA            80     96              NA        FALSE     TRUE\n",
       "7721   0            72     96         0.00000        FALSE     TRUE\n",
       "7722 431            71     91        40.04119        FALSE     TRUE\n",
       "7723  NA           250     88              NA         TRUE     TRUE\n",
       "7724  NA            75     95              NA        FALSE     TRUE\n",
       "7725   0           115     86         0.00000        FALSE     TRUE\n",
       "7726  NA           175     91              NA        FALSE     TRUE\n",
       "7727  NA            75     97              NA        FALSE     TRUE\n",
       "7728  NA            50     87              NA        FALSE     TRUE\n",
       "7729  NA            89     92              NA        FALSE     TRUE\n",
       "7730  NA            90    100              NA        FALSE     TRUE\n",
       "7731  NA           115     84              NA        FALSE     TRUE\n",
       "7732  NA            90     96              NA        FALSE     TRUE\n",
       "7733  NA            69     80              NA        FALSE     TRUE"
      ]
     },
     "metadata": {},
     "output_type": "display_data"
    }
   ],
   "source": [
    "barrio_sol1<-subset(airbnb_entire,Barrio==\"Sol\")\n",
    "\n",
    "sol3Dorm <- mutate(barrio_sol1, TripleHab = (NumDormitorios == 3 ))\n",
    "sol3Dorm <- mutate(sol3Dorm, Sol = (Barrio == \"Sol\"))\n",
    "levels(droplevels(sol3Dorm))\n",
    "nrowbarrio<- nrow(barrio_sol1)\n",
    "\n",
    "nrow3dorm<- nrow(sol3dorm1)\n",
    "\n",
    "nrowbarrio\n",
    "sol3Dorm"
   ]
  },
  {
   "cell_type": "code",
   "execution_count": 1202,
   "metadata": {},
   "outputs": [
    {
     "data": {
      "text/plain": [
       "         Sol\n",
       "TripleHab       TRUE\n",
       "    FALSE 0.92154066\n",
       "    TRUE  0.07845934"
      ]
     },
     "metadata": {},
     "output_type": "display_data"
    },
    {
     "data": {
      "text/html": [
       "'probabilidad es: 0.0784593437945792'"
      ],
      "text/latex": [
       "'probabilidad es: 0.0784593437945792'"
      ],
      "text/markdown": [
       "'probabilidad es: 0.0784593437945792'"
      ],
      "text/plain": [
       "[1] \"probabilidad es: 0.0784593437945792\""
      ]
     },
     "metadata": {},
     "output_type": "display_data"
    },
    {
     "data": {
      "text/plain": [
       "\n",
       "\tExact binomial test\n",
       "\n",
       "data:  nrow3dorm and nrowbarrio\n",
       "number of successes = 55, number of trials = 701, p-value < 2.2e-16\n",
       "alternative hypothesis: true probability of success is not equal to 0.5\n",
       "95 percent confidence interval:\n",
       " 0.0596506 0.1009033\n",
       "sample estimates:\n",
       "probability of success \n",
       "            0.07845934 \n"
      ]
     },
     "metadata": {},
     "output_type": "display_data"
    }
   ],
   "source": [
    "\n",
    "sol3Dorm1<- table(sol3Dorm[,c(\"TripleHab\", \"Sol\")])\n",
    "\n",
    "\n",
    "propDorm<- prop.table(sol3Dorm1)\n",
    "propDorm\n",
    "paste('probabilidad es:',propDorm[2])\n",
    "\n",
    "binom.test(nrow3dorm,nrowbarrio)\n"
   ]
  }
 ],
 "metadata": {
  "kernelspec": {
   "display_name": "R",
   "language": "R",
   "name": "ir"
  },
  "language_info": {
   "codemirror_mode": "r",
   "file_extension": ".r",
   "mimetype": "text/x-r-source",
   "name": "R",
   "pygments_lexer": "r",
   "version": "4.1.0"
  }
 },
 "nbformat": 4,
 "nbformat_minor": 2
}
